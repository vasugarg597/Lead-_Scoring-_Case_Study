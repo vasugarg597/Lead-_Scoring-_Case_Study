{
 "cells": [
  {
   "cell_type": "code",
   "execution_count": 2,
   "id": "2a5173c4-4695-4038-9939-7b193bc13523",
   "metadata": {},
   "outputs": [],
   "source": [
    "## import all the required packages \n",
    "import numpy as np, pandas as pd \n",
    "import matplotlib.pyplot as plt\n",
    "import seaborn as sns\n",
    "import warnings \n",
    "warnings.filterwarnings('ignore')\n",
    "from sklearn.model_selection  import train_test_split \n",
    "from sklearn.feature_selection import RFE\n",
    "from sklearn.linear_model import LogisticRegression\n",
    "import statsmodels.api as sm \n",
    "from statsmodels.stats.outliers_influence import variance_inflation_factor\n",
    "from sklearn import metrics\n"
   ]
  },
  {
   "cell_type": "code",
   "execution_count": 92,
   "id": "18cd838b-c73f-4703-b030-1555fdc78c28",
   "metadata": {},
   "outputs": [],
   "source": [
    "df = pd.read_csv(r'C:\\Users\\nidum\\OneDrive\\Documents\\Python Scripts\\Lead Scoring Assignment\\Leads.csv')"
   ]
  },
  {
   "cell_type": "markdown",
   "id": "ec095d0b-8679-415b-b22b-73aedae6edb0",
   "metadata": {},
   "source": [
    "## Inspecting the dataframe"
   ]
  },
  {
   "cell_type": "code",
   "execution_count": 4,
   "id": "2c83943e-9c26-4bb0-a6ee-3c0911f90c92",
   "metadata": {},
   "outputs": [
    {
     "name": "stdout",
     "output_type": "stream",
     "text": [
      "<class 'pandas.core.frame.DataFrame'>\n",
      "RangeIndex: 9240 entries, 0 to 9239\n",
      "Data columns (total 37 columns):\n",
      " #   Column                                         Non-Null Count  Dtype  \n",
      "---  ------                                         --------------  -----  \n",
      " 0   Prospect ID                                    9240 non-null   object \n",
      " 1   Lead Number                                    9240 non-null   int64  \n",
      " 2   Lead Origin                                    9240 non-null   object \n",
      " 3   Lead Source                                    9204 non-null   object \n",
      " 4   Do Not Email                                   9240 non-null   object \n",
      " 5   Do Not Call                                    9240 non-null   object \n",
      " 6   Converted                                      9240 non-null   int64  \n",
      " 7   TotalVisits                                    9103 non-null   float64\n",
      " 8   Total Time Spent on Website                    9240 non-null   int64  \n",
      " 9   Page Views Per Visit                           9103 non-null   float64\n",
      " 10  Last Activity                                  9137 non-null   object \n",
      " 11  Country                                        6779 non-null   object \n",
      " 12  Specialization                                 7802 non-null   object \n",
      " 13  How did you hear about X Education             7033 non-null   object \n",
      " 14  What is your current occupation                6550 non-null   object \n",
      " 15  What matters most to you in choosing a course  6531 non-null   object \n",
      " 16  Search                                         9240 non-null   object \n",
      " 17  Magazine                                       9240 non-null   object \n",
      " 18  Newspaper Article                              9240 non-null   object \n",
      " 19  X Education Forums                             9240 non-null   object \n",
      " 20  Newspaper                                      9240 non-null   object \n",
      " 21  Digital Advertisement                          9240 non-null   object \n",
      " 22  Through Recommendations                        9240 non-null   object \n",
      " 23  Receive More Updates About Our Courses         9240 non-null   object \n",
      " 24  Tags                                           5887 non-null   object \n",
      " 25  Lead Quality                                   4473 non-null   object \n",
      " 26  Update me on Supply Chain Content              9240 non-null   object \n",
      " 27  Get updates on DM Content                      9240 non-null   object \n",
      " 28  Lead Profile                                   6531 non-null   object \n",
      " 29  City                                           7820 non-null   object \n",
      " 30  Asymmetrique Activity Index                    5022 non-null   object \n",
      " 31  Asymmetrique Profile Index                     5022 non-null   object \n",
      " 32  Asymmetrique Activity Score                    5022 non-null   float64\n",
      " 33  Asymmetrique Profile Score                     5022 non-null   float64\n",
      " 34  I agree to pay the amount through cheque       9240 non-null   object \n",
      " 35  A free copy of Mastering The Interview         9240 non-null   object \n",
      " 36  Last Notable Activity                          9240 non-null   object \n",
      "dtypes: float64(4), int64(3), object(30)\n",
      "memory usage: 2.6+ MB\n"
     ]
    }
   ],
   "source": [
    "df.info()"
   ]
  },
  {
   "cell_type": "code",
   "execution_count": 6,
   "id": "6b9bc7a7-ba79-4714-8834-85e5e6262b4f",
   "metadata": {},
   "outputs": [
    {
     "data": {
      "text/html": [
       "<div>\n",
       "<style scoped>\n",
       "    .dataframe tbody tr th:only-of-type {\n",
       "        vertical-align: middle;\n",
       "    }\n",
       "\n",
       "    .dataframe tbody tr th {\n",
       "        vertical-align: top;\n",
       "    }\n",
       "\n",
       "    .dataframe thead th {\n",
       "        text-align: right;\n",
       "    }\n",
       "</style>\n",
       "<table border=\"1\" class=\"dataframe\">\n",
       "  <thead>\n",
       "    <tr style=\"text-align: right;\">\n",
       "      <th></th>\n",
       "      <th>Lead Number</th>\n",
       "      <th>Converted</th>\n",
       "      <th>TotalVisits</th>\n",
       "      <th>Total Time Spent on Website</th>\n",
       "      <th>Page Views Per Visit</th>\n",
       "      <th>Asymmetrique Activity Score</th>\n",
       "      <th>Asymmetrique Profile Score</th>\n",
       "    </tr>\n",
       "  </thead>\n",
       "  <tbody>\n",
       "    <tr>\n",
       "      <th>count</th>\n",
       "      <td>9240.000000</td>\n",
       "      <td>9240.000000</td>\n",
       "      <td>9103.000000</td>\n",
       "      <td>9240.000000</td>\n",
       "      <td>9103.000000</td>\n",
       "      <td>5022.000000</td>\n",
       "      <td>5022.000000</td>\n",
       "    </tr>\n",
       "    <tr>\n",
       "      <th>mean</th>\n",
       "      <td>617188.435606</td>\n",
       "      <td>0.385390</td>\n",
       "      <td>3.445238</td>\n",
       "      <td>487.698268</td>\n",
       "      <td>2.362820</td>\n",
       "      <td>14.306252</td>\n",
       "      <td>16.344883</td>\n",
       "    </tr>\n",
       "    <tr>\n",
       "      <th>std</th>\n",
       "      <td>23405.995698</td>\n",
       "      <td>0.486714</td>\n",
       "      <td>4.854853</td>\n",
       "      <td>548.021466</td>\n",
       "      <td>2.161418</td>\n",
       "      <td>1.386694</td>\n",
       "      <td>1.811395</td>\n",
       "    </tr>\n",
       "    <tr>\n",
       "      <th>min</th>\n",
       "      <td>579533.000000</td>\n",
       "      <td>0.000000</td>\n",
       "      <td>0.000000</td>\n",
       "      <td>0.000000</td>\n",
       "      <td>0.000000</td>\n",
       "      <td>7.000000</td>\n",
       "      <td>11.000000</td>\n",
       "    </tr>\n",
       "    <tr>\n",
       "      <th>25%</th>\n",
       "      <td>596484.500000</td>\n",
       "      <td>0.000000</td>\n",
       "      <td>1.000000</td>\n",
       "      <td>12.000000</td>\n",
       "      <td>1.000000</td>\n",
       "      <td>14.000000</td>\n",
       "      <td>15.000000</td>\n",
       "    </tr>\n",
       "    <tr>\n",
       "      <th>50%</th>\n",
       "      <td>615479.000000</td>\n",
       "      <td>0.000000</td>\n",
       "      <td>3.000000</td>\n",
       "      <td>248.000000</td>\n",
       "      <td>2.000000</td>\n",
       "      <td>14.000000</td>\n",
       "      <td>16.000000</td>\n",
       "    </tr>\n",
       "    <tr>\n",
       "      <th>75%</th>\n",
       "      <td>637387.250000</td>\n",
       "      <td>1.000000</td>\n",
       "      <td>5.000000</td>\n",
       "      <td>936.000000</td>\n",
       "      <td>3.000000</td>\n",
       "      <td>15.000000</td>\n",
       "      <td>18.000000</td>\n",
       "    </tr>\n",
       "    <tr>\n",
       "      <th>max</th>\n",
       "      <td>660737.000000</td>\n",
       "      <td>1.000000</td>\n",
       "      <td>251.000000</td>\n",
       "      <td>2272.000000</td>\n",
       "      <td>55.000000</td>\n",
       "      <td>18.000000</td>\n",
       "      <td>20.000000</td>\n",
       "    </tr>\n",
       "  </tbody>\n",
       "</table>\n",
       "</div>"
      ],
      "text/plain": [
       "         Lead Number    Converted  TotalVisits  Total Time Spent on Website  \\\n",
       "count    9240.000000  9240.000000  9103.000000                  9240.000000   \n",
       "mean   617188.435606     0.385390     3.445238                   487.698268   \n",
       "std     23405.995698     0.486714     4.854853                   548.021466   \n",
       "min    579533.000000     0.000000     0.000000                     0.000000   \n",
       "25%    596484.500000     0.000000     1.000000                    12.000000   \n",
       "50%    615479.000000     0.000000     3.000000                   248.000000   \n",
       "75%    637387.250000     1.000000     5.000000                   936.000000   \n",
       "max    660737.000000     1.000000   251.000000                  2272.000000   \n",
       "\n",
       "       Page Views Per Visit  Asymmetrique Activity Score  \\\n",
       "count           9103.000000                  5022.000000   \n",
       "mean               2.362820                    14.306252   \n",
       "std                2.161418                     1.386694   \n",
       "min                0.000000                     7.000000   \n",
       "25%                1.000000                    14.000000   \n",
       "50%                2.000000                    14.000000   \n",
       "75%                3.000000                    15.000000   \n",
       "max               55.000000                    18.000000   \n",
       "\n",
       "       Asymmetrique Profile Score  \n",
       "count                 5022.000000  \n",
       "mean                    16.344883  \n",
       "std                      1.811395  \n",
       "min                     11.000000  \n",
       "25%                     15.000000  \n",
       "50%                     16.000000  \n",
       "75%                     18.000000  \n",
       "max                     20.000000  "
      ]
     },
     "execution_count": 6,
     "metadata": {},
     "output_type": "execute_result"
    }
   ],
   "source": [
    "df.describe()"
   ]
  },
  {
   "cell_type": "code",
   "execution_count": 5,
   "id": "af1a64ca-3ca9-4ead-82cf-888b184454f1",
   "metadata": {},
   "outputs": [
    {
     "data": {
      "text/plain": [
       "True"
      ]
     },
     "execution_count": 5,
     "metadata": {},
     "output_type": "execute_result"
    }
   ],
   "source": [
    "## we have 36 columns in the dataframe and9240 dataapoints . Let's check the duplicates in ID columns \n",
    "sum(df.duplicated(subset = 'Prospect ID') )==0"
   ]
  },
  {
   "cell_type": "code",
   "execution_count": 6,
   "id": "088d35c7-54e0-412b-a607-ac7984436348",
   "metadata": {},
   "outputs": [
    {
     "data": {
      "text/plain": [
       "True"
      ]
     },
     "execution_count": 6,
     "metadata": {},
     "output_type": "execute_result"
    }
   ],
   "source": [
    "sum(df.duplicated(subset = 'Lead Number') )==0"
   ]
  },
  {
   "cell_type": "markdown",
   "id": "55af71e6-814e-4326-8754-f3757abc82f9",
   "metadata": {},
   "source": [
    "## Data cleaning "
   ]
  },
  {
   "cell_type": "code",
   "execution_count": 7,
   "id": "c03e4d74-bd03-46eb-b071-ac85308a4fd3",
   "metadata": {},
   "outputs": [
    {
     "data": {
      "text/plain": [
       "Lead Quality                                     4767\n",
       "Asymmetrique Activity Index                      4218\n",
       "Asymmetrique Profile Score                       4218\n",
       "Asymmetrique Activity Score                      4218\n",
       "Asymmetrique Profile Index                       4218\n",
       "Tags                                             3353\n",
       "Lead Profile                                     2709\n",
       "What matters most to you in choosing a course    2709\n",
       "What is your current occupation                  2690\n",
       "Country                                          2461\n",
       "How did you hear about X Education               2207\n",
       "Specialization                                   1438\n",
       "City                                             1420\n",
       "Page Views Per Visit                              137\n",
       "TotalVisits                                       137\n",
       "Last Activity                                     103\n",
       "Lead Source                                        36\n",
       "Receive More Updates About Our Courses              0\n",
       "I agree to pay the amount through cheque            0\n",
       "Get updates on DM Content                           0\n",
       "Update me on Supply Chain Content                   0\n",
       "A free copy of Mastering The Interview              0\n",
       "Prospect ID                                         0\n",
       "Newspaper Article                                   0\n",
       "Through Recommendations                             0\n",
       "Digital Advertisement                               0\n",
       "Newspaper                                           0\n",
       "X Education Forums                                  0\n",
       "Lead Number                                         0\n",
       "Magazine                                            0\n",
       "Search                                              0\n",
       "Total Time Spent on Website                         0\n",
       "Converted                                           0\n",
       "Do Not Call                                         0\n",
       "Do Not Email                                        0\n",
       "Lead Origin                                         0\n",
       "Last Notable Activity                               0\n",
       "dtype: int64"
      ]
     },
     "execution_count": 7,
     "metadata": {},
     "output_type": "execute_result"
    }
   ],
   "source": [
    "df. isnull().sum().sort_values (ascending= False)"
   ]
  },
  {
   "cell_type": "code",
   "execution_count": 17,
   "id": "a413c502-a8ca-4d88-a1fc-10055ce7b428",
   "metadata": {},
   "outputs": [
    {
     "data": {
      "text/plain": [
       "Lead Quality\n",
       "Might be             1560\n",
       "Not Sure             1092\n",
       "High in Relevance     637\n",
       "Worst                 601\n",
       "Low in Relevance      583\n",
       "Name: count, dtype: int64"
      ]
     },
     "execution_count": 17,
     "metadata": {},
     "output_type": "execute_result"
    }
   ],
   "source": [
    "df['Lead Quality'].value_counts()"
   ]
  },
  {
   "cell_type": "code",
   "execution_count": 93,
   "id": "344350d4-3da4-4d25-a88a-0274919af751",
   "metadata": {},
   "outputs": [],
   "source": [
    "## removing the unwanted columns based on null values. Dropping columns which have more than 30% null values \n",
    "\n",
    "df = df.drop(['Lead Quality','Asymmetrique Activity Index','Asymmetrique Profile Score','Asymmetrique Activity Score','Asymmetrique Profile Index', 'Tags'], axis =1 )"
   ]
  },
  {
   "cell_type": "code",
   "execution_count": 94,
   "id": "6177ada2-c312-4084-9089-d2bcd30e06ca",
   "metadata": {},
   "outputs": [
    {
     "name": "stdout",
     "output_type": "stream",
     "text": [
      "<class 'pandas.core.frame.DataFrame'>\n",
      "RangeIndex: 9240 entries, 0 to 9239\n",
      "Data columns (total 31 columns):\n",
      " #   Column                                         Non-Null Count  Dtype  \n",
      "---  ------                                         --------------  -----  \n",
      " 0   Prospect ID                                    9240 non-null   object \n",
      " 1   Lead Number                                    9240 non-null   int64  \n",
      " 2   Lead Origin                                    9240 non-null   object \n",
      " 3   Lead Source                                    9204 non-null   object \n",
      " 4   Do Not Email                                   9240 non-null   object \n",
      " 5   Do Not Call                                    9240 non-null   object \n",
      " 6   Converted                                      9240 non-null   int64  \n",
      " 7   TotalVisits                                    9103 non-null   float64\n",
      " 8   Total Time Spent on Website                    9240 non-null   int64  \n",
      " 9   Page Views Per Visit                           9103 non-null   float64\n",
      " 10  Last Activity                                  9137 non-null   object \n",
      " 11  Country                                        6779 non-null   object \n",
      " 12  Specialization                                 7802 non-null   object \n",
      " 13  How did you hear about X Education             7033 non-null   object \n",
      " 14  What is your current occupation                6550 non-null   object \n",
      " 15  What matters most to you in choosing a course  6531 non-null   object \n",
      " 16  Search                                         9240 non-null   object \n",
      " 17  Magazine                                       9240 non-null   object \n",
      " 18  Newspaper Article                              9240 non-null   object \n",
      " 19  X Education Forums                             9240 non-null   object \n",
      " 20  Newspaper                                      9240 non-null   object \n",
      " 21  Digital Advertisement                          9240 non-null   object \n",
      " 22  Through Recommendations                        9240 non-null   object \n",
      " 23  Receive More Updates About Our Courses         9240 non-null   object \n",
      " 24  Update me on Supply Chain Content              9240 non-null   object \n",
      " 25  Get updates on DM Content                      9240 non-null   object \n",
      " 26  Lead Profile                                   6531 non-null   object \n",
      " 27  City                                           7820 non-null   object \n",
      " 28  I agree to pay the amount through cheque       9240 non-null   object \n",
      " 29  A free copy of Mastering The Interview         9240 non-null   object \n",
      " 30  Last Notable Activity                          9240 non-null   object \n",
      "dtypes: float64(2), int64(3), object(26)\n",
      "memory usage: 2.2+ MB\n"
     ]
    }
   ],
   "source": [
    "## after dropping the null columns , we have 30 columns \n",
    "df.info()"
   ]
  },
  {
   "cell_type": "code",
   "execution_count": 21,
   "id": "89da4531-7859-42fd-a229-83843d985dc5",
   "metadata": {},
   "outputs": [
    {
     "name": "stdout",
     "output_type": "stream",
     "text": [
      "Prospect ID\n",
      "7927b2df-8bba-4d29-b9a2-b6e0beafe620    1\n",
      "22e9d4ef-d294-4ebf-81c7-7c7a1105aeea    1\n",
      "46befc49-253a-419b-abea-2fd978d2e2b1    1\n",
      "9d35a2c2-09d8-439f-9875-0e8bbf267f5a    1\n",
      "f0de9371-4dc2-48c2-9785-a08d6fc4fcb5    1\n",
      "                                       ..\n",
      "ff1f7582-cb7b-4b94-9cdc-3d0d0afdd9a3    1\n",
      "644099a2-3da4-4d23-9546-7676340a372b    1\n",
      "2a093175-415b-4321-9e69-ed8d9df65a3c    1\n",
      "c66249a3-8500-4c66-a511-312d914573de    1\n",
      "571b5c8e-a5b2-4d57-8574-f2ffb06fdeff    1\n",
      "Name: count, Length: 9240, dtype: int64\n",
      "**************next column****************\n",
      "Lead Number\n",
      "660737    1\n",
      "603303    1\n",
      "602561    1\n",
      "602557    1\n",
      "602540    1\n",
      "         ..\n",
      "630422    1\n",
      "630405    1\n",
      "630403    1\n",
      "630390    1\n",
      "579533    1\n",
      "Name: count, Length: 9240, dtype: int64\n",
      "**************next column****************\n",
      "Lead Origin\n",
      "Landing Page Submission    4886\n",
      "API                        3580\n",
      "Lead Add Form               718\n",
      "Lead Import                  55\n",
      "Quick Add Form                1\n",
      "Name: count, dtype: int64\n",
      "**************next column****************\n",
      "Lead Source\n",
      "Google               2868\n",
      "Direct Traffic       2543\n",
      "Olark Chat           1755\n",
      "Organic Search       1154\n",
      "Reference             534\n",
      "Welingak Website      142\n",
      "Referral Sites        125\n",
      "Facebook               55\n",
      "bing                    6\n",
      "google                  5\n",
      "Click2call              4\n",
      "Press_Release           2\n",
      "Social Media            2\n",
      "Live Chat               2\n",
      "youtubechannel          1\n",
      "testone                 1\n",
      "Pay per Click Ads       1\n",
      "welearnblog_Home        1\n",
      "WeLearn                 1\n",
      "blog                    1\n",
      "NC_EDM                  1\n",
      "Name: count, dtype: int64\n",
      "**************next column****************\n",
      "Do Not Email\n",
      "No     8506\n",
      "Yes     734\n",
      "Name: count, dtype: int64\n",
      "**************next column****************\n",
      "Do Not Call\n",
      "No     9238\n",
      "Yes       2\n",
      "Name: count, dtype: int64\n",
      "**************next column****************\n",
      "Converted\n",
      "0    5679\n",
      "1    3561\n",
      "Name: count, dtype: int64\n",
      "**************next column****************\n",
      "TotalVisits\n",
      "0.0      2189\n",
      "2.0      1680\n",
      "3.0      1306\n",
      "4.0      1120\n",
      "5.0       783\n",
      "6.0       466\n",
      "1.0       395\n",
      "7.0       309\n",
      "8.0       224\n",
      "9.0       164\n",
      "10.0      114\n",
      "11.0       86\n",
      "13.0       48\n",
      "12.0       45\n",
      "14.0       36\n",
      "16.0       21\n",
      "15.0       18\n",
      "17.0       16\n",
      "18.0       15\n",
      "20.0       12\n",
      "19.0        9\n",
      "21.0        6\n",
      "23.0        6\n",
      "24.0        5\n",
      "25.0        5\n",
      "27.0        5\n",
      "22.0        3\n",
      "29.0        2\n",
      "28.0        2\n",
      "26.0        2\n",
      "141.0       1\n",
      "55.0        1\n",
      "30.0        1\n",
      "43.0        1\n",
      "74.0        1\n",
      "41.0        1\n",
      "54.0        1\n",
      "115.0       1\n",
      "251.0       1\n",
      "32.0        1\n",
      "42.0        1\n",
      "Name: count, dtype: int64\n",
      "**************next column****************\n",
      "Total Time Spent on Website\n",
      "0       2193\n",
      "60        19\n",
      "74        18\n",
      "75        18\n",
      "127       18\n",
      "        ... \n",
      "1701       1\n",
      "1952       1\n",
      "1229       1\n",
      "1743       1\n",
      "927        1\n",
      "Name: count, Length: 1731, dtype: int64\n",
      "**************next column****************\n",
      "Page Views Per Visit\n",
      "0.00    2189\n",
      "2.00    1795\n",
      "3.00    1196\n",
      "4.00     896\n",
      "1.00     651\n",
      "        ... \n",
      "3.43       1\n",
      "2.56       1\n",
      "6.33       1\n",
      "1.64       1\n",
      "2.08       1\n",
      "Name: count, Length: 114, dtype: int64\n",
      "**************next column****************\n",
      "Last Activity\n",
      "Email Opened                    3437\n",
      "SMS Sent                        2745\n",
      "Olark Chat Conversation          973\n",
      "Page Visited on Website          640\n",
      "Converted to Lead                428\n",
      "Email Bounced                    326\n",
      "Email Link Clicked               267\n",
      "Form Submitted on Website        116\n",
      "Unreachable                       93\n",
      "Unsubscribed                      61\n",
      "Had a Phone Conversation          30\n",
      "Approached upfront                 9\n",
      "View in browser link Clicked       6\n",
      "Email Received                     2\n",
      "Email Marked Spam                  2\n",
      "Visited Booth in Tradeshow         1\n",
      "Resubscribed to emails             1\n",
      "Name: count, dtype: int64\n",
      "**************next column****************\n",
      "Country\n",
      "India                   6492\n",
      "United States             69\n",
      "United Arab Emirates      53\n",
      "Singapore                 24\n",
      "Saudi Arabia              21\n",
      "United Kingdom            15\n",
      "Australia                 13\n",
      "Qatar                     10\n",
      "Hong Kong                  7\n",
      "Bahrain                    7\n",
      "Oman                       6\n",
      "France                     6\n",
      "unknown                    5\n",
      "South Africa               4\n",
      "Nigeria                    4\n",
      "Germany                    4\n",
      "Kuwait                     4\n",
      "Canada                     4\n",
      "Sweden                     3\n",
      "China                      2\n",
      "Asia/Pacific Region        2\n",
      "Uganda                     2\n",
      "Bangladesh                 2\n",
      "Italy                      2\n",
      "Belgium                    2\n",
      "Netherlands                2\n",
      "Ghana                      2\n",
      "Philippines                2\n",
      "Russia                     1\n",
      "Switzerland                1\n",
      "Vietnam                    1\n",
      "Denmark                    1\n",
      "Tanzania                   1\n",
      "Liberia                    1\n",
      "Malaysia                   1\n",
      "Kenya                      1\n",
      "Sri Lanka                  1\n",
      "Indonesia                  1\n",
      "Name: count, dtype: int64\n",
      "**************next column****************\n",
      "Specialization\n",
      "Select                               1942\n",
      "Finance Management                    976\n",
      "Human Resource Management             848\n",
      "Marketing Management                  838\n",
      "Operations Management                 503\n",
      "Business Administration               403\n",
      "IT Projects Management                366\n",
      "Supply Chain Management               349\n",
      "Banking, Investment And Insurance     338\n",
      "Travel and Tourism                    203\n",
      "Media and Advertising                 203\n",
      "International Business                178\n",
      "Healthcare Management                 159\n",
      "Hospitality Management                114\n",
      "E-COMMERCE                            112\n",
      "Retail Management                     100\n",
      "Rural and Agribusiness                 73\n",
      "E-Business                             57\n",
      "Services Excellence                    40\n",
      "Name: count, dtype: int64\n",
      "**************next column****************\n",
      "How did you hear about X Education\n",
      "Select                   5043\n",
      "Online Search             808\n",
      "Word Of Mouth             348\n",
      "Student of SomeSchool     310\n",
      "Other                     186\n",
      "Multiple Sources          152\n",
      "Advertisements             70\n",
      "Social Media               67\n",
      "Email                      26\n",
      "SMS                        23\n",
      "Name: count, dtype: int64\n",
      "**************next column****************\n",
      "What is your current occupation\n",
      "Unemployed              5600\n",
      "Working Professional     706\n",
      "Student                  210\n",
      "Other                     16\n",
      "Housewife                 10\n",
      "Businessman                8\n",
      "Name: count, dtype: int64\n",
      "**************next column****************\n",
      "What matters most to you in choosing a course\n",
      "Better Career Prospects      6528\n",
      "Flexibility & Convenience       2\n",
      "Other                           1\n",
      "Name: count, dtype: int64\n",
      "**************next column****************\n",
      "Search\n",
      "No     9226\n",
      "Yes      14\n",
      "Name: count, dtype: int64\n",
      "**************next column****************\n",
      "Magazine\n",
      "No    9240\n",
      "Name: count, dtype: int64\n",
      "**************next column****************\n",
      "Newspaper Article\n",
      "No     9238\n",
      "Yes       2\n",
      "Name: count, dtype: int64\n",
      "**************next column****************\n",
      "X Education Forums\n",
      "No     9239\n",
      "Yes       1\n",
      "Name: count, dtype: int64\n",
      "**************next column****************\n",
      "Newspaper\n",
      "No     9239\n",
      "Yes       1\n",
      "Name: count, dtype: int64\n",
      "**************next column****************\n",
      "Digital Advertisement\n",
      "No     9236\n",
      "Yes       4\n",
      "Name: count, dtype: int64\n",
      "**************next column****************\n",
      "Through Recommendations\n",
      "No     9233\n",
      "Yes       7\n",
      "Name: count, dtype: int64\n",
      "**************next column****************\n",
      "Receive More Updates About Our Courses\n",
      "No    9240\n",
      "Name: count, dtype: int64\n",
      "**************next column****************\n",
      "Update me on Supply Chain Content\n",
      "No    9240\n",
      "Name: count, dtype: int64\n",
      "**************next column****************\n",
      "Get updates on DM Content\n",
      "No    9240\n",
      "Name: count, dtype: int64\n",
      "**************next column****************\n",
      "Lead Profile\n",
      "Select                         4146\n",
      "Potential Lead                 1613\n",
      "Other Leads                     487\n",
      "Student of SomeSchool           241\n",
      "Lateral Student                  24\n",
      "Dual Specialization Student      20\n",
      "Name: count, dtype: int64\n",
      "**************next column****************\n",
      "City\n",
      "Mumbai                         3222\n",
      "Select                         2249\n",
      "Thane & Outskirts               752\n",
      "Other Cities                    686\n",
      "Other Cities of Maharashtra     457\n",
      "Other Metro Cities              380\n",
      "Tier II Cities                   74\n",
      "Name: count, dtype: int64\n",
      "**************next column****************\n",
      "I agree to pay the amount through cheque\n",
      "No    9240\n",
      "Name: count, dtype: int64\n",
      "**************next column****************\n",
      "A free copy of Mastering The Interview\n",
      "No     6352\n",
      "Yes    2888\n",
      "Name: count, dtype: int64\n",
      "**************next column****************\n",
      "Last Notable Activity\n",
      "Modified                        3407\n",
      "Email Opened                    2827\n",
      "SMS Sent                        2172\n",
      "Page Visited on Website          318\n",
      "Olark Chat Conversation          183\n",
      "Email Link Clicked               173\n",
      "Email Bounced                     60\n",
      "Unsubscribed                      47\n",
      "Unreachable                       32\n",
      "Had a Phone Conversation          14\n",
      "Email Marked Spam                  2\n",
      "Approached upfront                 1\n",
      "Resubscribed to emails             1\n",
      "View in browser link Clicked       1\n",
      "Form Submitted on Website          1\n",
      "Email Received                     1\n",
      "Name: count, dtype: int64\n",
      "**************next column****************\n"
     ]
    }
   ],
   "source": [
    "## checking the value counts of all columns to identify the columns which have select values \n",
    "for c in df:\n",
    "    print(df[c].value_counts())\n",
    "    print ('**************next column****************')\n",
    "    \n",
    "    "
   ]
  },
  {
   "cell_type": "code",
   "execution_count": 95,
   "id": "adfb2c76-cf5e-4bf0-abc7-e30b24cb8662",
   "metadata": {},
   "outputs": [],
   "source": [
    "##  Specialization, how did you hear about X education, lead profile ,city  have select values . replace select values with 'User not provided'\n",
    "df= df.replace ('Select','User has not provided')"
   ]
  },
  {
   "cell_type": "code",
   "execution_count": 11,
   "id": "438ff26e-592f-4a15-af78-70523d932c1e",
   "metadata": {},
   "outputs": [
    {
     "data": {
      "text/plain": [
       "Lead Profile\n",
       "User has not provided          4146\n",
       "Potential Lead                 1613\n",
       "Other Leads                     487\n",
       "Student of SomeSchool           241\n",
       "Lateral Student                  24\n",
       "Dual Specialization Student      20\n",
       "Name: count, dtype: int64"
      ]
     },
     "execution_count": 11,
     "metadata": {},
     "output_type": "execute_result"
    }
   ],
   "source": [
    "## checking few columns if replacement has worked or not \n",
    "\n",
    "df['Lead Profile'].value_counts()"
   ]
  },
  {
   "cell_type": "code",
   "execution_count": 12,
   "id": "9618e6ad-19f3-4b5e-a6ba-15cd90eca2cf",
   "metadata": {},
   "outputs": [
    {
     "data": {
      "text/plain": [
       "City\n",
       "Mumbai                         3222\n",
       "User has not provided          2249\n",
       "Thane & Outskirts               752\n",
       "Other Cities                    686\n",
       "Other Cities of Maharashtra     457\n",
       "Other Metro Cities              380\n",
       "Tier II Cities                   74\n",
       "Name: count, dtype: int64"
      ]
     },
     "execution_count": 12,
     "metadata": {},
     "output_type": "execute_result"
    }
   ],
   "source": [
    "df['City'].value_counts()"
   ]
  },
  {
   "cell_type": "code",
   "execution_count": 96,
   "id": "fc704cbc-63fe-4c6f-b1ce-30c4f9d213f8",
   "metadata": {},
   "outputs": [],
   "source": [
    "## dropping  columns as they have data imbalance \n",
    "df = df.drop(['Do Not Call','Search','Magazine','Newspaper Article','X Education Forums','Newspaper','Digital Advertisement','Through Recommendations','Receive More Updates About Our Courses','Update me on Supply Chain Content','Get updates on DM Content','I agree to pay the amount through cheque'],axis =1)"
   ]
  },
  {
   "cell_type": "code",
   "execution_count": 32,
   "id": "95e22726-f16b-48f6-a10a-e1db1cc2796c",
   "metadata": {},
   "outputs": [
    {
     "data": {
      "text/plain": [
       "(9240, 19)"
      ]
     },
     "execution_count": 32,
     "metadata": {},
     "output_type": "execute_result"
    }
   ],
   "source": [
    "df.shape"
   ]
  },
  {
   "cell_type": "code",
   "execution_count": 14,
   "id": "44f39916-130f-4309-a7cc-2fdddcc901bc",
   "metadata": {},
   "outputs": [
    {
     "name": "stdout",
     "output_type": "stream",
     "text": [
      "<class 'pandas.core.frame.DataFrame'>\n",
      "RangeIndex: 9240 entries, 0 to 9239\n",
      "Data columns (total 19 columns):\n",
      " #   Column                                         Non-Null Count  Dtype  \n",
      "---  ------                                         --------------  -----  \n",
      " 0   Prospect ID                                    9240 non-null   object \n",
      " 1   Lead Number                                    9240 non-null   int64  \n",
      " 2   Lead Origin                                    9240 non-null   object \n",
      " 3   Lead Source                                    9204 non-null   object \n",
      " 4   Do Not Email                                   9240 non-null   object \n",
      " 5   Converted                                      9240 non-null   int64  \n",
      " 6   TotalVisits                                    9103 non-null   float64\n",
      " 7   Total Time Spent on Website                    9240 non-null   int64  \n",
      " 8   Page Views Per Visit                           9103 non-null   float64\n",
      " 9   Last Activity                                  9137 non-null   object \n",
      " 10  Country                                        6779 non-null   object \n",
      " 11  Specialization                                 7802 non-null   object \n",
      " 12  How did you hear about X Education             7033 non-null   object \n",
      " 13  What is your current occupation                6550 non-null   object \n",
      " 14  What matters most to you in choosing a course  6531 non-null   object \n",
      " 15  Lead Profile                                   6531 non-null   object \n",
      " 16  City                                           7820 non-null   object \n",
      " 17  A free copy of Mastering The Interview         9240 non-null   object \n",
      " 18  Last Notable Activity                          9240 non-null   object \n",
      "dtypes: float64(2), int64(3), object(14)\n",
      "memory usage: 1.3+ MB\n"
     ]
    }
   ],
   "source": [
    "df.info()"
   ]
  },
  {
   "cell_type": "code",
   "execution_count": 15,
   "id": "ec150fc4-b343-4bf4-877b-d1c95162aa82",
   "metadata": {},
   "outputs": [
    {
     "name": "stdout",
     "output_type": "stream",
     "text": [
      "Prospect ID\n",
      "7927b2df-8bba-4d29-b9a2-b6e0beafe620    1\n",
      "22e9d4ef-d294-4ebf-81c7-7c7a1105aeea    1\n",
      "46befc49-253a-419b-abea-2fd978d2e2b1    1\n",
      "9d35a2c2-09d8-439f-9875-0e8bbf267f5a    1\n",
      "f0de9371-4dc2-48c2-9785-a08d6fc4fcb5    1\n",
      "                                       ..\n",
      "ff1f7582-cb7b-4b94-9cdc-3d0d0afdd9a3    1\n",
      "644099a2-3da4-4d23-9546-7676340a372b    1\n",
      "2a093175-415b-4321-9e69-ed8d9df65a3c    1\n",
      "c66249a3-8500-4c66-a511-312d914573de    1\n",
      "571b5c8e-a5b2-4d57-8574-f2ffb06fdeff    1\n",
      "Name: count, Length: 9240, dtype: int64\n",
      "Lead Number\n",
      "660737    1\n",
      "603303    1\n",
      "602561    1\n",
      "602557    1\n",
      "602540    1\n",
      "         ..\n",
      "630422    1\n",
      "630405    1\n",
      "630403    1\n",
      "630390    1\n",
      "579533    1\n",
      "Name: count, Length: 9240, dtype: int64\n",
      "Lead Origin\n",
      "Landing Page Submission    4886\n",
      "API                        3580\n",
      "Lead Add Form               718\n",
      "Lead Import                  55\n",
      "Quick Add Form                1\n",
      "Name: count, dtype: int64\n",
      "Lead Source\n",
      "Google               2868\n",
      "Direct Traffic       2543\n",
      "Olark Chat           1755\n",
      "Organic Search       1154\n",
      "Reference             534\n",
      "Welingak Website      142\n",
      "Referral Sites        125\n",
      "Facebook               55\n",
      "bing                    6\n",
      "google                  5\n",
      "Click2call              4\n",
      "Press_Release           2\n",
      "Social Media            2\n",
      "Live Chat               2\n",
      "youtubechannel          1\n",
      "testone                 1\n",
      "Pay per Click Ads       1\n",
      "welearnblog_Home        1\n",
      "WeLearn                 1\n",
      "blog                    1\n",
      "NC_EDM                  1\n",
      "Name: count, dtype: int64\n",
      "Do Not Email\n",
      "No     8506\n",
      "Yes     734\n",
      "Name: count, dtype: int64\n",
      "Converted\n",
      "0    5679\n",
      "1    3561\n",
      "Name: count, dtype: int64\n",
      "TotalVisits\n",
      "0.0      2189\n",
      "2.0      1680\n",
      "3.0      1306\n",
      "4.0      1120\n",
      "5.0       783\n",
      "6.0       466\n",
      "1.0       395\n",
      "7.0       309\n",
      "8.0       224\n",
      "9.0       164\n",
      "10.0      114\n",
      "11.0       86\n",
      "13.0       48\n",
      "12.0       45\n",
      "14.0       36\n",
      "16.0       21\n",
      "15.0       18\n",
      "17.0       16\n",
      "18.0       15\n",
      "20.0       12\n",
      "19.0        9\n",
      "21.0        6\n",
      "23.0        6\n",
      "24.0        5\n",
      "25.0        5\n",
      "27.0        5\n",
      "22.0        3\n",
      "29.0        2\n",
      "28.0        2\n",
      "26.0        2\n",
      "141.0       1\n",
      "55.0        1\n",
      "30.0        1\n",
      "43.0        1\n",
      "74.0        1\n",
      "41.0        1\n",
      "54.0        1\n",
      "115.0       1\n",
      "251.0       1\n",
      "32.0        1\n",
      "42.0        1\n",
      "Name: count, dtype: int64\n",
      "Total Time Spent on Website\n",
      "0       2193\n",
      "60        19\n",
      "74        18\n",
      "75        18\n",
      "127       18\n",
      "        ... \n",
      "1701       1\n",
      "1952       1\n",
      "1229       1\n",
      "1743       1\n",
      "927        1\n",
      "Name: count, Length: 1731, dtype: int64\n",
      "Page Views Per Visit\n",
      "0.00    2189\n",
      "2.00    1795\n",
      "3.00    1196\n",
      "4.00     896\n",
      "1.00     651\n",
      "        ... \n",
      "3.43       1\n",
      "2.56       1\n",
      "6.33       1\n",
      "1.64       1\n",
      "2.08       1\n",
      "Name: count, Length: 114, dtype: int64\n",
      "Last Activity\n",
      "Email Opened                    3437\n",
      "SMS Sent                        2745\n",
      "Olark Chat Conversation          973\n",
      "Page Visited on Website          640\n",
      "Converted to Lead                428\n",
      "Email Bounced                    326\n",
      "Email Link Clicked               267\n",
      "Form Submitted on Website        116\n",
      "Unreachable                       93\n",
      "Unsubscribed                      61\n",
      "Had a Phone Conversation          30\n",
      "Approached upfront                 9\n",
      "View in browser link Clicked       6\n",
      "Email Received                     2\n",
      "Email Marked Spam                  2\n",
      "Visited Booth in Tradeshow         1\n",
      "Resubscribed to emails             1\n",
      "Name: count, dtype: int64\n",
      "Country\n",
      "India                   6492\n",
      "United States             69\n",
      "United Arab Emirates      53\n",
      "Singapore                 24\n",
      "Saudi Arabia              21\n",
      "United Kingdom            15\n",
      "Australia                 13\n",
      "Qatar                     10\n",
      "Hong Kong                  7\n",
      "Bahrain                    7\n",
      "Oman                       6\n",
      "France                     6\n",
      "unknown                    5\n",
      "South Africa               4\n",
      "Nigeria                    4\n",
      "Germany                    4\n",
      "Kuwait                     4\n",
      "Canada                     4\n",
      "Sweden                     3\n",
      "China                      2\n",
      "Asia/Pacific Region        2\n",
      "Uganda                     2\n",
      "Bangladesh                 2\n",
      "Italy                      2\n",
      "Belgium                    2\n",
      "Netherlands                2\n",
      "Ghana                      2\n",
      "Philippines                2\n",
      "Russia                     1\n",
      "Switzerland                1\n",
      "Vietnam                    1\n",
      "Denmark                    1\n",
      "Tanzania                   1\n",
      "Liberia                    1\n",
      "Malaysia                   1\n",
      "Kenya                      1\n",
      "Sri Lanka                  1\n",
      "Indonesia                  1\n",
      "Name: count, dtype: int64\n",
      "Specialization\n",
      "User has not provided                1942\n",
      "Finance Management                    976\n",
      "Human Resource Management             848\n",
      "Marketing Management                  838\n",
      "Operations Management                 503\n",
      "Business Administration               403\n",
      "IT Projects Management                366\n",
      "Supply Chain Management               349\n",
      "Banking, Investment And Insurance     338\n",
      "Travel and Tourism                    203\n",
      "Media and Advertising                 203\n",
      "International Business                178\n",
      "Healthcare Management                 159\n",
      "Hospitality Management                114\n",
      "E-COMMERCE                            112\n",
      "Retail Management                     100\n",
      "Rural and Agribusiness                 73\n",
      "E-Business                             57\n",
      "Services Excellence                    40\n",
      "Name: count, dtype: int64\n",
      "How did you hear about X Education\n",
      "User has not provided    5043\n",
      "Online Search             808\n",
      "Word Of Mouth             348\n",
      "Student of SomeSchool     310\n",
      "Other                     186\n",
      "Multiple Sources          152\n",
      "Advertisements             70\n",
      "Social Media               67\n",
      "Email                      26\n",
      "SMS                        23\n",
      "Name: count, dtype: int64\n",
      "What is your current occupation\n",
      "Unemployed              5600\n",
      "Working Professional     706\n",
      "Student                  210\n",
      "Other                     16\n",
      "Housewife                 10\n",
      "Businessman                8\n",
      "Name: count, dtype: int64\n",
      "What matters most to you in choosing a course\n",
      "Better Career Prospects      6528\n",
      "Flexibility & Convenience       2\n",
      "Other                           1\n",
      "Name: count, dtype: int64\n",
      "Lead Profile\n",
      "User has not provided          4146\n",
      "Potential Lead                 1613\n",
      "Other Leads                     487\n",
      "Student of SomeSchool           241\n",
      "Lateral Student                  24\n",
      "Dual Specialization Student      20\n",
      "Name: count, dtype: int64\n",
      "City\n",
      "Mumbai                         3222\n",
      "User has not provided          2249\n",
      "Thane & Outskirts               752\n",
      "Other Cities                    686\n",
      "Other Cities of Maharashtra     457\n",
      "Other Metro Cities              380\n",
      "Tier II Cities                   74\n",
      "Name: count, dtype: int64\n",
      "A free copy of Mastering The Interview\n",
      "No     6352\n",
      "Yes    2888\n",
      "Name: count, dtype: int64\n",
      "Last Notable Activity\n",
      "Modified                        3407\n",
      "Email Opened                    2827\n",
      "SMS Sent                        2172\n",
      "Page Visited on Website          318\n",
      "Olark Chat Conversation          183\n",
      "Email Link Clicked               173\n",
      "Email Bounced                     60\n",
      "Unsubscribed                      47\n",
      "Unreachable                       32\n",
      "Had a Phone Conversation          14\n",
      "Email Marked Spam                  2\n",
      "Approached upfront                 1\n",
      "Resubscribed to emails             1\n",
      "View in browser link Clicked       1\n",
      "Form Submitted on Website          1\n",
      "Email Received                     1\n",
      "Name: count, dtype: int64\n"
     ]
    }
   ],
   "source": [
    "## check the value_counts again \n",
    "\n",
    "for c in df:\n",
    "    print(df[c].value_counts())"
   ]
  },
  {
   "cell_type": "code",
   "execution_count": 97,
   "id": "9a559f3a-9b8b-4e9d-b3e6-b2511d32061e",
   "metadata": {},
   "outputs": [],
   "source": [
    "## dropping one more column with data imbalalnce\n",
    "df = df.drop(['What matters most to you in choosing a course'],axis =1 )"
   ]
  },
  {
   "cell_type": "code",
   "execution_count": 98,
   "id": "982d1793-0eb1-4e18-9486-f03dddf1a95e",
   "metadata": {},
   "outputs": [],
   "source": [
    "df = df.drop(['Lead Profile','How did you hear about X Education'],axis =1 )"
   ]
  },
  {
   "cell_type": "code",
   "execution_count": 99,
   "id": "f169eb95-9ca6-4b1a-8617-1079f2c04555",
   "metadata": {},
   "outputs": [],
   "source": [
    "df = df.drop(['Country'],axis =1 )"
   ]
  },
  {
   "cell_type": "code",
   "execution_count": 100,
   "id": "b8cce9bd-2935-4c0b-8cbf-ac22e67edd7d",
   "metadata": {},
   "outputs": [
    {
     "name": "stdout",
     "output_type": "stream",
     "text": [
      "<class 'pandas.core.frame.DataFrame'>\n",
      "RangeIndex: 9240 entries, 0 to 9239\n",
      "Data columns (total 15 columns):\n",
      " #   Column                                  Non-Null Count  Dtype  \n",
      "---  ------                                  --------------  -----  \n",
      " 0   Prospect ID                             9240 non-null   object \n",
      " 1   Lead Number                             9240 non-null   int64  \n",
      " 2   Lead Origin                             9240 non-null   object \n",
      " 3   Lead Source                             9204 non-null   object \n",
      " 4   Do Not Email                            9240 non-null   object \n",
      " 5   Converted                               9240 non-null   int64  \n",
      " 6   TotalVisits                             9103 non-null   float64\n",
      " 7   Total Time Spent on Website             9240 non-null   int64  \n",
      " 8   Page Views Per Visit                    9103 non-null   float64\n",
      " 9   Last Activity                           9137 non-null   object \n",
      " 10  Specialization                          7802 non-null   object \n",
      " 11  What is your current occupation         6550 non-null   object \n",
      " 12  City                                    7820 non-null   object \n",
      " 13  A free copy of Mastering The Interview  9240 non-null   object \n",
      " 14  Last Notable Activity                   9240 non-null   object \n",
      "dtypes: float64(2), int64(3), object(10)\n",
      "memory usage: 1.1+ MB\n"
     ]
    }
   ],
   "source": [
    "df.info()"
   ]
  },
  {
   "cell_type": "markdown",
   "id": "f11af863-ebee-483a-82fa-3c3a284dbfcb",
   "metadata": {},
   "source": [
    "### EDA Analysis "
   ]
  },
  {
   "cell_type": "code",
   "execution_count": 54,
   "id": "17634dea-bb8e-4aed-be0f-d5531d733366",
   "metadata": {},
   "outputs": [],
   "source": [
    "## find out the columns which are not required \n",
    "#cf = [\"City\",\"Lead Origin\",\"Do Not Email\"]\n",
    "#fig,ax = plt.subplots(1,len(cf))\n",
    "#for i , cf in  enumerate(df[cf]):\n",
    " #   df[cf].value_counts().plot(kind = 'bar', ax = ax[i])\n",
    "    \n"
   ]
  },
  {
   "cell_type": "code",
   "execution_count": 101,
   "id": "ec424571-502a-403a-bb38-56b1e3352dfd",
   "metadata": {},
   "outputs": [],
   "source": [
    " df.drop(['Lead Number','Prospect ID'], axis =1 , inplace = True)"
   ]
  },
  {
   "cell_type": "code",
   "execution_count": 102,
   "id": "2c7c8b79-927b-4f6c-af2c-d8685c2eb704",
   "metadata": {},
   "outputs": [],
   "source": [
    " df.drop(['City'], axis =1 , inplace = True)"
   ]
  },
  {
   "cell_type": "code",
   "execution_count": 22,
   "id": "7a018c49-fa85-4429-8567-a60e2804f8ea",
   "metadata": {},
   "outputs": [
    {
     "name": "stdout",
     "output_type": "stream",
     "text": [
      "<class 'pandas.core.frame.DataFrame'>\n",
      "RangeIndex: 9240 entries, 0 to 9239\n",
      "Data columns (total 12 columns):\n",
      " #   Column                                  Non-Null Count  Dtype  \n",
      "---  ------                                  --------------  -----  \n",
      " 0   Lead Origin                             9240 non-null   object \n",
      " 1   Lead Source                             9204 non-null   object \n",
      " 2   Do Not Email                            9240 non-null   object \n",
      " 3   Converted                               9240 non-null   int64  \n",
      " 4   TotalVisits                             9103 non-null   float64\n",
      " 5   Total Time Spent on Website             9240 non-null   int64  \n",
      " 6   Page Views Per Visit                    9103 non-null   float64\n",
      " 7   Last Activity                           9137 non-null   object \n",
      " 8   Specialization                          7802 non-null   object \n",
      " 9   What is your current occupation         6550 non-null   object \n",
      " 10  A free copy of Mastering The Interview  9240 non-null   object \n",
      " 11  Last Notable Activity                   9240 non-null   object \n",
      "dtypes: float64(2), int64(2), object(8)\n",
      "memory usage: 866.4+ KB\n"
     ]
    }
   ],
   "source": [
    "df.info()"
   ]
  },
  {
   "cell_type": "code",
   "execution_count": 103,
   "id": "3ede697b-3391-461e-bfd5-cab5e56f9639",
   "metadata": {},
   "outputs": [],
   "source": [
    "df['Converted']= df['Converted'].astype(str)"
   ]
  },
  {
   "cell_type": "code",
   "execution_count": 24,
   "id": "3b878c89-495b-497e-8517-52a961324b84",
   "metadata": {},
   "outputs": [
    {
     "data": {
      "text/plain": [
       "What is your current occupation           2690\n",
       "Specialization                            1438\n",
       "TotalVisits                                137\n",
       "Page Views Per Visit                       137\n",
       "Last Activity                              103\n",
       "Lead Source                                 36\n",
       "Lead Origin                                  0\n",
       "Do Not Email                                 0\n",
       "Converted                                    0\n",
       "Total Time Spent on Website                  0\n",
       "A free copy of Mastering The Interview       0\n",
       "Last Notable Activity                        0\n",
       "dtype: int64"
      ]
     },
     "execution_count": 24,
     "metadata": {},
     "output_type": "execute_result"
    }
   ],
   "source": [
    "## elts' check the null values again \n",
    "df.isnull().sum().sort_values(ascending= False)"
   ]
  },
  {
   "cell_type": "code",
   "execution_count": 104,
   "id": "f596f8f1-5648-4218-8978-e715da856209",
   "metadata": {},
   "outputs": [],
   "source": [
    "df = df[~pd.isnull(df['What is your current occupation'])]"
   ]
  },
  {
   "cell_type": "code",
   "execution_count": 26,
   "id": "f8bcaa4a-fda6-4b47-a6e6-3e4c7e715a16",
   "metadata": {},
   "outputs": [
    {
     "data": {
      "text/plain": [
       "TotalVisits                               130\n",
       "Page Views Per Visit                      130\n",
       "Last Activity                             103\n",
       "Lead Source                                36\n",
       "Specialization                             18\n",
       "Lead Origin                                 0\n",
       "Do Not Email                                0\n",
       "Converted                                   0\n",
       "Total Time Spent on Website                 0\n",
       "What is your current occupation             0\n",
       "A free copy of Mastering The Interview      0\n",
       "Last Notable Activity                       0\n",
       "dtype: int64"
      ]
     },
     "execution_count": 26,
     "metadata": {},
     "output_type": "execute_result"
    }
   ],
   "source": [
    "## lets check the null values again \n",
    "df.isnull().sum().sort_values(ascending= False)"
   ]
  },
  {
   "cell_type": "code",
   "execution_count": 105,
   "id": "294e10aa-9d7a-46a8-b9ec-c7103cbb0cf8",
   "metadata": {},
   "outputs": [],
   "source": [
    "df = df[~pd.isnull(df['TotalVisits'])]"
   ]
  },
  {
   "cell_type": "code",
   "execution_count": 28,
   "id": "592d1704-62a6-416e-b8a3-30499fc206f4",
   "metadata": {},
   "outputs": [
    {
     "data": {
      "text/plain": [
       "Lead Source                               29\n",
       "Specialization                            18\n",
       "Lead Origin                                0\n",
       "Do Not Email                               0\n",
       "Converted                                  0\n",
       "TotalVisits                                0\n",
       "Total Time Spent on Website                0\n",
       "Page Views Per Visit                       0\n",
       "Last Activity                              0\n",
       "What is your current occupation            0\n",
       "A free copy of Mastering The Interview     0\n",
       "Last Notable Activity                      0\n",
       "dtype: int64"
      ]
     },
     "execution_count": 28,
     "metadata": {},
     "output_type": "execute_result"
    }
   ],
   "source": [
    "## lets check the null values again \n",
    "df.isnull().sum().sort_values(ascending= False)"
   ]
  },
  {
   "cell_type": "code",
   "execution_count": 106,
   "id": "060e112f-952d-4238-afc6-6202f1b89e4a",
   "metadata": {},
   "outputs": [],
   "source": [
    "df = df[~pd.isnull(df['Lead Source'])]"
   ]
  },
  {
   "cell_type": "code",
   "execution_count": 30,
   "id": "a7254113-b9cb-482b-83a5-0dbc195ece59",
   "metadata": {},
   "outputs": [
    {
     "data": {
      "text/plain": [
       "Specialization                            18\n",
       "Lead Origin                                0\n",
       "Lead Source                                0\n",
       "Do Not Email                               0\n",
       "Converted                                  0\n",
       "TotalVisits                                0\n",
       "Total Time Spent on Website                0\n",
       "Page Views Per Visit                       0\n",
       "Last Activity                              0\n",
       "What is your current occupation            0\n",
       "A free copy of Mastering The Interview     0\n",
       "Last Notable Activity                      0\n",
       "dtype: int64"
      ]
     },
     "execution_count": 30,
     "metadata": {},
     "output_type": "execute_result"
    }
   ],
   "source": [
    "## lets check the null values again \n",
    "df.isnull().sum().sort_values(ascending= False)"
   ]
  },
  {
   "cell_type": "code",
   "execution_count": 107,
   "id": "c48dc267-ec2b-4e31-8b6d-303117549c6c",
   "metadata": {},
   "outputs": [],
   "source": [
    "df = df[~pd.isnull(df['Specialization'])]"
   ]
  },
  {
   "cell_type": "code",
   "execution_count": 32,
   "id": "b3cd0ef0-baae-4ae0-b963-12b42445b772",
   "metadata": {},
   "outputs": [
    {
     "data": {
      "text/plain": [
       "Lead Origin                               0\n",
       "Lead Source                               0\n",
       "Do Not Email                              0\n",
       "Converted                                 0\n",
       "TotalVisits                               0\n",
       "Total Time Spent on Website               0\n",
       "Page Views Per Visit                      0\n",
       "Last Activity                             0\n",
       "Specialization                            0\n",
       "What is your current occupation           0\n",
       "A free copy of Mastering The Interview    0\n",
       "Last Notable Activity                     0\n",
       "dtype: int64"
      ]
     },
     "execution_count": 32,
     "metadata": {},
     "output_type": "execute_result"
    }
   ],
   "source": [
    "## lets check the null values again \n",
    "df.isnull().sum().sort_values(ascending= False)"
   ]
  },
  {
   "cell_type": "code",
   "execution_count": 35,
   "id": "5ad41cd3-1807-423b-af3f-4067543c47b0",
   "metadata": {},
   "outputs": [
    {
     "data": {
      "image/png": "[encoded data removed]",
      "text/plain": [
       "<Figure size 500x500 with 1 Axes>"
      ]
     },
     "metadata": {},
     "output_type": "display_data"
    }
   ],
   "source": [
    "## categorical variable anlaysis against converted column (bi-variant analysis)\n",
    "plt.figure(figsize = (5,5))\n",
    "sns.countplot(x ='Do Not Email', hue = 'Converted', data = df, palette = 'Set2')\n",
    "plt.xticks(rotation =90)\n",
    "#ax.set_xticklabels (ax.get_xticklabels(), rotation =90)\n",
    "plt.show()\n",
    "    "
   ]
  },
  {
   "cell_type": "code",
   "execution_count": null,
   "id": "25e4fefb-8fc7-445c-9dca-cee0a94e7352",
   "metadata": {},
   "outputs": [],
   "source": []
  },
  {
   "cell_type": "code",
   "execution_count": 36,
   "id": "71fb0f12-cbd1-458d-8020-95512594e814",
   "metadata": {},
   "outputs": [
    {
     "data": {
      "image/png": "[encoded data removed]",
      "text/plain": [
       "<Figure size 1400x500 with 1 Axes>"
      ]
     },
     "metadata": {},
     "output_type": "display_data"
    }
   ],
   "source": [
    "plt.figure(figsize = (14,5))\n",
    "sns.countplot(x ='Last Activity', hue = 'Converted', data = df, palette = 'Set2')\n",
    "plt.xticks(rotation =90)\n",
    "#ax.set_xticklabels (ax.get_xticklabels(), rotation =90)\n",
    "plt.show()"
   ]
  },
  {
   "cell_type": "code",
   "execution_count": 239,
   "id": "c1d8dee7-f2a8-4726-a4c8-872fa169876e",
   "metadata": {},
   "outputs": [
    {
     "data": {
      "image/png": "[encoded data removed]",
      "text/plain": [
       "<Figure size 1400x500 with 1 Axes>"
      ]
     },
     "metadata": {},
     "output_type": "display_data"
    }
   ],
   "source": [
    "plt.figure(figsize = (14,5))\n",
    "sns.countplot(x ='Specialization', hue = 'Converted', data = df, palette = 'Set2')\n",
    "plt.xticks(rotation =90)\n",
    "#ax.set_xticklabels (ax.get_xticklabels(), rotation =90)\n",
    "plt.show()"
   ]
  },
  {
   "cell_type": "code",
   "execution_count": 37,
   "id": "5b2f11dd-b9f4-4793-a763-8fde1f550a02",
   "metadata": {},
   "outputs": [
    {
     "data": {
      "image/png": "[encoded data removed]",
      "text/plain": [
       "<Figure size 1400x500 with 1 Axes>"
      ]
     },
     "metadata": {},
     "output_type": "display_data"
    }
   ],
   "source": [
    "plt.figure(figsize = (14,5))\n",
    "sns.countplot(x ='What is your current occupation', hue = 'Converted', data = df, palette = 'Set2')\n",
    "plt.xticks(rotation =90)\n",
    "#ax.set_xticklabels (ax.get_xticklabels(), rotation =90)\n",
    "plt.show()"
   ]
  },
  {
   "cell_type": "code",
   "execution_count": 38,
   "id": "a3142b43-4f05-4c15-8009-1c6c868ea9e2",
   "metadata": {},
   "outputs": [
    {
     "data": {
      "image/png": "[encoded data removed]",
      "text/plain": [
       "<Figure size 1400x500 with 1 Axes>"
      ]
     },
     "metadata": {},
     "output_type": "display_data"
    }
   ],
   "source": [
    "plt.figure(figsize = (14,5))\n",
    "sns.countplot(x ='Last Notable Activity', hue = 'Converted', data = df, palette = 'Set2')\n",
    "plt.xticks(rotation =90)\n",
    "#ax.set_xticklabels (ax.get_xticklabels(), rotation =90)\n",
    "plt.show()"
   ]
  },
  {
   "cell_type": "code",
   "execution_count": 46,
   "id": "cebb74de-663c-4783-a9dd-0171275876b1",
   "metadata": {},
   "outputs": [
    {
     "data": {
      "image/png": "[encoded data removed]",
      "text/plain": [
       "<Figure size 1400x500 with 1 Axes>"
      ]
     },
     "metadata": {},
     "output_type": "display_data"
    }
   ],
   "source": [
    "plt.figure(figsize = (14,5))\n",
    "sns.countplot(x ='Lead Origin', hue = 'Converted', data = df, palette = 'Set2')\n",
    "plt.xticks(rotation =90)\n",
    "#ax.set_xticklabels (ax.get_xticklabels(), rotation =90)\n",
    "plt.show()"
   ]
  },
  {
   "cell_type": "code",
   "execution_count": 47,
   "id": "55676a19-98c7-4e90-97b6-aa5021088564",
   "metadata": {},
   "outputs": [
    {
     "data": {
      "image/png": "[encoded data removed]",
      "text/plain": [
       "<Figure size 1400x500 with 1 Axes>"
      ]
     },
     "metadata": {},
     "output_type": "display_data"
    }
   ],
   "source": [
    "plt.figure(figsize = (14,5))\n",
    "sns.countplot(x ='Lead Source', hue = 'Converted', data = df, palette = 'Set2')\n",
    "plt.xticks(rotation =90)\n",
    "#ax.set_xticklabels (ax.get_xticklabels(), rotation =90)\n",
    "plt.show()"
   ]
  },
  {
   "cell_type": "code",
   "execution_count": 39,
   "id": "89105097-913b-4c73-bb9c-9eaf00173903",
   "metadata": {},
   "outputs": [
    {
     "data": {
      "text/plain": [
       "<seaborn.axisgrid.PairGrid at 0x2a6d98eb490>"
      ]
     },
     "execution_count": 39,
     "metadata": {},
     "output_type": "execute_result"
    },
    {
     "data": {
      "image/png": "[encoded data removed]",
      "text/plain": [
       "<Figure size 750x750 with 12 Axes>"
      ]
     },
     "metadata": {},
     "output_type": "display_data"
    }
   ],
   "source": [
    "#num = df[['TotalVisits','Total Time Spent on Website']]\n",
    "sns.pairplot(df[['TotalVisits','Total Time Spent on Website','Page Views Per Visit']])"
   ]
  },
  {
   "cell_type": "code",
   "execution_count": 42,
   "id": "203a87e4-8992-408b-9710-adc717ca6974",
   "metadata": {},
   "outputs": [
    {
     "data": {
      "text/plain": [
       "<Axes: >"
      ]
     },
     "execution_count": 42,
     "metadata": {},
     "output_type": "execute_result"
    },
    {
     "data": {
      "image/png": "[encoded data removed]",
      "text/plain": [
       "<Figure size 640x480 with 1 Axes>"
      ]
     },
     "metadata": {},
     "output_type": "display_data"
    }
   ],
   "source": [
    "sns.boxplot(df['TotalVisits'])"
   ]
  },
  {
   "cell_type": "code",
   "execution_count": 44,
   "id": "af172e96-a666-4cbd-b9a2-5d616a72e153",
   "metadata": {},
   "outputs": [
    {
     "data": {
      "text/plain": [
       "<Axes: >"
      ]
     },
     "execution_count": 44,
     "metadata": {},
     "output_type": "execute_result"
    },
    {
     "data": {
      "image/png": "[encoded data removed]",
      "text/plain": [
       "<Figure size 640x480 with 1 Axes>"
      ]
     },
     "metadata": {},
     "output_type": "display_data"
    }
   ],
   "source": [
    "sns.boxplot(df['Total Time Spent on Website'])"
   ]
  },
  {
   "cell_type": "code",
   "execution_count": 45,
   "id": "dd3bbca2-d58e-4db6-8631-691bb63f3a25",
   "metadata": {},
   "outputs": [
    {
     "data": {
      "text/plain": [
       "<Axes: >"
      ]
     },
     "execution_count": 45,
     "metadata": {},
     "output_type": "execute_result"
    },
    {
     "data": {
      "image/png": "[encoded data removed]",
      "text/plain": [
       "<Figure size 640x480 with 1 Axes>"
      ]
     },
     "metadata": {},
     "output_type": "display_data"
    }
   ],
   "source": [
    "sns.boxplot(df['Page Views Per Visit'])"
   ]
  },
  {
   "cell_type": "code",
   "execution_count": null,
   "id": "80a03df9-2e7e-4e55-a14e-ee885ffea1c1",
   "metadata": {},
   "outputs": [],
   "source": [
    "## no Major outliers detected hence proceeding for dummy variable creation"
   ]
  },
  {
   "cell_type": "code",
   "execution_count": 53,
   "id": "6f7f6ce1-36ce-402a-8f04-55fd4acd008f",
   "metadata": {},
   "outputs": [
    {
     "data": {
      "text/plain": [
       "<Axes: >"
      ]
     },
     "execution_count": 53,
     "metadata": {},
     "output_type": "execute_result"
    },
    {
     "data": {
      "image/png": "[encoded data removed]",
      "text/plain": [
       "<Figure size 640x480 with 2 Axes>"
      ]
     },
     "metadata": {},
     "output_type": "display_data"
    }
   ],
   "source": [
    "sns.heatmap(df[['TotalVisits','Total Time Spent on Website','Page Views Per Visit']].corr(),annot = True)"
   ]
  },
  {
   "cell_type": "code",
   "execution_count": 108,
   "id": "8bc3a4a4-8f6a-4651-bd40-47ea3b6f15b8",
   "metadata": {},
   "outputs": [],
   "source": [
    "## Dummy variable creation for categorical variables \n",
    "dummy_var1 = df[['Lead Origin','Lead Source','Do Not Email','Last Activity','What is your current occupation','A free copy of Mastering The Interview','Last Notable Activity']]\n"
   ]
  },
  {
   "cell_type": "code",
   "execution_count": 109,
   "id": "d2ed7b7c-ef3d-40bd-9e9d-c1bac1a977ed",
   "metadata": {},
   "outputs": [],
   "source": [
    "dummy_var1 = pd.get_dummies(dummy_var1, drop_first = True,dtype= int)"
   ]
  },
  {
   "cell_type": "code",
   "execution_count": 110,
   "id": "abd1090e-36d4-4cc5-b89f-16546e7ce484",
   "metadata": {},
   "outputs": [],
   "source": [
    "df = pd.concat ([dummy_var1,df],axis =1 )"
   ]
  },
  {
   "cell_type": "code",
   "execution_count": 111,
   "id": "00bc0cbd-9bb1-4045-9418-cfe5e01106a4",
   "metadata": {},
   "outputs": [
    {
     "data": {
      "text/html": [
       "<div>\n",
       "<style scoped>\n",
       "    .dataframe tbody tr th:only-of-type {\n",
       "        vertical-align: middle;\n",
       "    }\n",
       "\n",
       "    .dataframe tbody tr th {\n",
       "        vertical-align: top;\n",
       "    }\n",
       "\n",
       "    .dataframe thead th {\n",
       "        text-align: right;\n",
       "    }\n",
       "</style>\n",
       "<table border=\"1\" class=\"dataframe\">\n",
       "  <thead>\n",
       "    <tr style=\"text-align: right;\">\n",
       "      <th></th>\n",
       "      <th>Lead Origin_Landing Page Submission</th>\n",
       "      <th>Lead Origin_Lead Add Form</th>\n",
       "      <th>Lead Origin_Lead Import</th>\n",
       "      <th>Lead Source_Direct Traffic</th>\n",
       "      <th>Lead Source_Facebook</th>\n",
       "      <th>Lead Source_Google</th>\n",
       "      <th>Lead Source_Live Chat</th>\n",
       "      <th>Lead Source_Olark Chat</th>\n",
       "      <th>Lead Source_Organic Search</th>\n",
       "      <th>Lead Source_Pay per Click Ads</th>\n",
       "      <th>...</th>\n",
       "      <th>Do Not Email</th>\n",
       "      <th>Converted</th>\n",
       "      <th>TotalVisits</th>\n",
       "      <th>Total Time Spent on Website</th>\n",
       "      <th>Page Views Per Visit</th>\n",
       "      <th>Last Activity</th>\n",
       "      <th>Specialization</th>\n",
       "      <th>What is your current occupation</th>\n",
       "      <th>A free copy of Mastering The Interview</th>\n",
       "      <th>Last Notable Activity</th>\n",
       "    </tr>\n",
       "  </thead>\n",
       "  <tbody>\n",
       "    <tr>\n",
       "      <th>0</th>\n",
       "      <td>0</td>\n",
       "      <td>0</td>\n",
       "      <td>0</td>\n",
       "      <td>0</td>\n",
       "      <td>0</td>\n",
       "      <td>0</td>\n",
       "      <td>0</td>\n",
       "      <td>1</td>\n",
       "      <td>0</td>\n",
       "      <td>0</td>\n",
       "      <td>...</td>\n",
       "      <td>No</td>\n",
       "      <td>0</td>\n",
       "      <td>0.0</td>\n",
       "      <td>0</td>\n",
       "      <td>0.0</td>\n",
       "      <td>Page Visited on Website</td>\n",
       "      <td>User has not provided</td>\n",
       "      <td>Unemployed</td>\n",
       "      <td>No</td>\n",
       "      <td>Modified</td>\n",
       "    </tr>\n",
       "    <tr>\n",
       "      <th>1</th>\n",
       "      <td>0</td>\n",
       "      <td>0</td>\n",
       "      <td>0</td>\n",
       "      <td>0</td>\n",
       "      <td>0</td>\n",
       "      <td>0</td>\n",
       "      <td>0</td>\n",
       "      <td>0</td>\n",
       "      <td>1</td>\n",
       "      <td>0</td>\n",
       "      <td>...</td>\n",
       "      <td>No</td>\n",
       "      <td>0</td>\n",
       "      <td>5.0</td>\n",
       "      <td>674</td>\n",
       "      <td>2.5</td>\n",
       "      <td>Email Opened</td>\n",
       "      <td>User has not provided</td>\n",
       "      <td>Unemployed</td>\n",
       "      <td>No</td>\n",
       "      <td>Email Opened</td>\n",
       "    </tr>\n",
       "    <tr>\n",
       "      <th>2</th>\n",
       "      <td>1</td>\n",
       "      <td>0</td>\n",
       "      <td>0</td>\n",
       "      <td>1</td>\n",
       "      <td>0</td>\n",
       "      <td>0</td>\n",
       "      <td>0</td>\n",
       "      <td>0</td>\n",
       "      <td>0</td>\n",
       "      <td>0</td>\n",
       "      <td>...</td>\n",
       "      <td>No</td>\n",
       "      <td>1</td>\n",
       "      <td>2.0</td>\n",
       "      <td>1532</td>\n",
       "      <td>2.0</td>\n",
       "      <td>Email Opened</td>\n",
       "      <td>Business Administration</td>\n",
       "      <td>Student</td>\n",
       "      <td>Yes</td>\n",
       "      <td>Email Opened</td>\n",
       "    </tr>\n",
       "    <tr>\n",
       "      <th>3</th>\n",
       "      <td>1</td>\n",
       "      <td>0</td>\n",
       "      <td>0</td>\n",
       "      <td>1</td>\n",
       "      <td>0</td>\n",
       "      <td>0</td>\n",
       "      <td>0</td>\n",
       "      <td>0</td>\n",
       "      <td>0</td>\n",
       "      <td>0</td>\n",
       "      <td>...</td>\n",
       "      <td>No</td>\n",
       "      <td>0</td>\n",
       "      <td>1.0</td>\n",
       "      <td>305</td>\n",
       "      <td>1.0</td>\n",
       "      <td>Unreachable</td>\n",
       "      <td>Media and Advertising</td>\n",
       "      <td>Unemployed</td>\n",
       "      <td>No</td>\n",
       "      <td>Modified</td>\n",
       "    </tr>\n",
       "    <tr>\n",
       "      <th>4</th>\n",
       "      <td>1</td>\n",
       "      <td>0</td>\n",
       "      <td>0</td>\n",
       "      <td>0</td>\n",
       "      <td>0</td>\n",
       "      <td>1</td>\n",
       "      <td>0</td>\n",
       "      <td>0</td>\n",
       "      <td>0</td>\n",
       "      <td>0</td>\n",
       "      <td>...</td>\n",
       "      <td>No</td>\n",
       "      <td>1</td>\n",
       "      <td>2.0</td>\n",
       "      <td>1428</td>\n",
       "      <td>1.0</td>\n",
       "      <td>Converted to Lead</td>\n",
       "      <td>User has not provided</td>\n",
       "      <td>Unemployed</td>\n",
       "      <td>No</td>\n",
       "      <td>Modified</td>\n",
       "    </tr>\n",
       "  </tbody>\n",
       "</table>\n",
       "<p>5 rows × 65 columns</p>\n",
       "</div>"
      ],
      "text/plain": [
       "   Lead Origin_Landing Page Submission  Lead Origin_Lead Add Form  \\\n",
       "0                                    0                          0   \n",
       "1                                    0                          0   \n",
       "2                                    1                          0   \n",
       "3                                    1                          0   \n",
       "4                                    1                          0   \n",
       "\n",
       "   Lead Origin_Lead Import  Lead Source_Direct Traffic  Lead Source_Facebook  \\\n",
       "0                        0                           0                     0   \n",
       "1                        0                           0                     0   \n",
       "2                        0                           1                     0   \n",
       "3                        0                           1                     0   \n",
       "4                        0                           0                     0   \n",
       "\n",
       "   Lead Source_Google  Lead Source_Live Chat  Lead Source_Olark Chat  \\\n",
       "0                   0                      0                       1   \n",
       "1                   0                      0                       0   \n",
       "2                   0                      0                       0   \n",
       "3                   0                      0                       0   \n",
       "4                   1                      0                       0   \n",
       "\n",
       "   Lead Source_Organic Search  Lead Source_Pay per Click Ads  ...  \\\n",
       "0                           0                              0  ...   \n",
       "1                           1                              0  ...   \n",
       "2                           0                              0  ...   \n",
       "3                           0                              0  ...   \n",
       "4                           0                              0  ...   \n",
       "\n",
       "   Do Not Email  Converted  TotalVisits  Total Time Spent on Website  \\\n",
       "0            No          0          0.0                            0   \n",
       "1            No          0          5.0                          674   \n",
       "2            No          1          2.0                         1532   \n",
       "3            No          0          1.0                          305   \n",
       "4            No          1          2.0                         1428   \n",
       "\n",
       "   Page Views Per Visit            Last Activity           Specialization  \\\n",
       "0                   0.0  Page Visited on Website    User has not provided   \n",
       "1                   2.5             Email Opened    User has not provided   \n",
       "2                   2.0             Email Opened  Business Administration   \n",
       "3                   1.0              Unreachable    Media and Advertising   \n",
       "4                   1.0        Converted to Lead    User has not provided   \n",
       "\n",
       "   What is your current occupation  A free copy of Mastering The Interview  \\\n",
       "0                       Unemployed                                      No   \n",
       "1                       Unemployed                                      No   \n",
       "2                          Student                                     Yes   \n",
       "3                       Unemployed                                      No   \n",
       "4                       Unemployed                                      No   \n",
       "\n",
       "   Last Notable Activity  \n",
       "0               Modified  \n",
       "1           Email Opened  \n",
       "2           Email Opened  \n",
       "3               Modified  \n",
       "4               Modified  \n",
       "\n",
       "[5 rows x 65 columns]"
      ]
     },
     "execution_count": 111,
     "metadata": {},
     "output_type": "execute_result"
    }
   ],
   "source": [
    "df.head()"
   ]
  },
  {
   "cell_type": "code",
   "execution_count": 112,
   "id": "9e444ba0-f6c5-4104-ad85-f805b9291765",
   "metadata": {},
   "outputs": [],
   "source": [
    "dummy_spcl = df['Specialization']\n"
   ]
  },
  {
   "cell_type": "code",
   "execution_count": 113,
   "id": "dba1aadc-acc6-4b4f-a5e1-52dae632fe3b",
   "metadata": {},
   "outputs": [],
   "source": [
    "dummy_spcl = pd.get_dummies(dummy_spcl, drop_first = True,dtype= int)"
   ]
  },
  {
   "cell_type": "code",
   "execution_count": 114,
   "id": "0bf1fe4e-850d-49a7-aa7c-7d1fa7d0bae7",
   "metadata": {},
   "outputs": [],
   "source": [
    "dummy_spcl= dummy_spcl.drop('User has not provided',axis =1 )"
   ]
  },
  {
   "cell_type": "code",
   "execution_count": 115,
   "id": "db95728d-41c3-4741-b4fe-4577cc117505",
   "metadata": {},
   "outputs": [
    {
     "data": {
      "text/html": [
       "<div>\n",
       "<style scoped>\n",
       "    .dataframe tbody tr th:only-of-type {\n",
       "        vertical-align: middle;\n",
       "    }\n",
       "\n",
       "    .dataframe tbody tr th {\n",
       "        vertical-align: top;\n",
       "    }\n",
       "\n",
       "    .dataframe thead th {\n",
       "        text-align: right;\n",
       "    }\n",
       "</style>\n",
       "<table border=\"1\" class=\"dataframe\">\n",
       "  <thead>\n",
       "    <tr style=\"text-align: right;\">\n",
       "      <th></th>\n",
       "      <th>Business Administration</th>\n",
       "      <th>E-Business</th>\n",
       "      <th>E-COMMERCE</th>\n",
       "      <th>Finance Management</th>\n",
       "      <th>Healthcare Management</th>\n",
       "      <th>Hospitality Management</th>\n",
       "      <th>Human Resource Management</th>\n",
       "      <th>IT Projects Management</th>\n",
       "      <th>International Business</th>\n",
       "      <th>Marketing Management</th>\n",
       "      <th>Media and Advertising</th>\n",
       "      <th>Operations Management</th>\n",
       "      <th>Retail Management</th>\n",
       "      <th>Rural and Agribusiness</th>\n",
       "      <th>Services Excellence</th>\n",
       "      <th>Supply Chain Management</th>\n",
       "      <th>Travel and Tourism</th>\n",
       "    </tr>\n",
       "  </thead>\n",
       "  <tbody>\n",
       "    <tr>\n",
       "      <th>0</th>\n",
       "      <td>0</td>\n",
       "      <td>0</td>\n",
       "      <td>0</td>\n",
       "      <td>0</td>\n",
       "      <td>0</td>\n",
       "      <td>0</td>\n",
       "      <td>0</td>\n",
       "      <td>0</td>\n",
       "      <td>0</td>\n",
       "      <td>0</td>\n",
       "      <td>0</td>\n",
       "      <td>0</td>\n",
       "      <td>0</td>\n",
       "      <td>0</td>\n",
       "      <td>0</td>\n",
       "      <td>0</td>\n",
       "      <td>0</td>\n",
       "    </tr>\n",
       "    <tr>\n",
       "      <th>1</th>\n",
       "      <td>0</td>\n",
       "      <td>0</td>\n",
       "      <td>0</td>\n",
       "      <td>0</td>\n",
       "      <td>0</td>\n",
       "      <td>0</td>\n",
       "      <td>0</td>\n",
       "      <td>0</td>\n",
       "      <td>0</td>\n",
       "      <td>0</td>\n",
       "      <td>0</td>\n",
       "      <td>0</td>\n",
       "      <td>0</td>\n",
       "      <td>0</td>\n",
       "      <td>0</td>\n",
       "      <td>0</td>\n",
       "      <td>0</td>\n",
       "    </tr>\n",
       "    <tr>\n",
       "      <th>2</th>\n",
       "      <td>1</td>\n",
       "      <td>0</td>\n",
       "      <td>0</td>\n",
       "      <td>0</td>\n",
       "      <td>0</td>\n",
       "      <td>0</td>\n",
       "      <td>0</td>\n",
       "      <td>0</td>\n",
       "      <td>0</td>\n",
       "      <td>0</td>\n",
       "      <td>0</td>\n",
       "      <td>0</td>\n",
       "      <td>0</td>\n",
       "      <td>0</td>\n",
       "      <td>0</td>\n",
       "      <td>0</td>\n",
       "      <td>0</td>\n",
       "    </tr>\n",
       "    <tr>\n",
       "      <th>3</th>\n",
       "      <td>0</td>\n",
       "      <td>0</td>\n",
       "      <td>0</td>\n",
       "      <td>0</td>\n",
       "      <td>0</td>\n",
       "      <td>0</td>\n",
       "      <td>0</td>\n",
       "      <td>0</td>\n",
       "      <td>0</td>\n",
       "      <td>0</td>\n",
       "      <td>1</td>\n",
       "      <td>0</td>\n",
       "      <td>0</td>\n",
       "      <td>0</td>\n",
       "      <td>0</td>\n",
       "      <td>0</td>\n",
       "      <td>0</td>\n",
       "    </tr>\n",
       "    <tr>\n",
       "      <th>4</th>\n",
       "      <td>0</td>\n",
       "      <td>0</td>\n",
       "      <td>0</td>\n",
       "      <td>0</td>\n",
       "      <td>0</td>\n",
       "      <td>0</td>\n",
       "      <td>0</td>\n",
       "      <td>0</td>\n",
       "      <td>0</td>\n",
       "      <td>0</td>\n",
       "      <td>0</td>\n",
       "      <td>0</td>\n",
       "      <td>0</td>\n",
       "      <td>0</td>\n",
       "      <td>0</td>\n",
       "      <td>0</td>\n",
       "      <td>0</td>\n",
       "    </tr>\n",
       "  </tbody>\n",
       "</table>\n",
       "</div>"
      ],
      "text/plain": [
       "   Business Administration  E-Business  E-COMMERCE  Finance Management  \\\n",
       "0                        0           0           0                   0   \n",
       "1                        0           0           0                   0   \n",
       "2                        1           0           0                   0   \n",
       "3                        0           0           0                   0   \n",
       "4                        0           0           0                   0   \n",
       "\n",
       "   Healthcare Management  Hospitality Management  Human Resource Management  \\\n",
       "0                      0                       0                          0   \n",
       "1                      0                       0                          0   \n",
       "2                      0                       0                          0   \n",
       "3                      0                       0                          0   \n",
       "4                      0                       0                          0   \n",
       "\n",
       "   IT Projects Management  International Business  Marketing Management  \\\n",
       "0                       0                       0                     0   \n",
       "1                       0                       0                     0   \n",
       "2                       0                       0                     0   \n",
       "3                       0                       0                     0   \n",
       "4                       0                       0                     0   \n",
       "\n",
       "   Media and Advertising  Operations Management  Retail Management  \\\n",
       "0                      0                      0                  0   \n",
       "1                      0                      0                  0   \n",
       "2                      0                      0                  0   \n",
       "3                      1                      0                  0   \n",
       "4                      0                      0                  0   \n",
       "\n",
       "   Rural and Agribusiness  Services Excellence  Supply Chain Management  \\\n",
       "0                       0                    0                        0   \n",
       "1                       0                    0                        0   \n",
       "2                       0                    0                        0   \n",
       "3                       0                    0                        0   \n",
       "4                       0                    0                        0   \n",
       "\n",
       "   Travel and Tourism  \n",
       "0                   0  \n",
       "1                   0  \n",
       "2                   0  \n",
       "3                   0  \n",
       "4                   0  "
      ]
     },
     "execution_count": 115,
     "metadata": {},
     "output_type": "execute_result"
    }
   ],
   "source": [
    "dummy_spcl.head()"
   ]
  },
  {
   "cell_type": "code",
   "execution_count": 116,
   "id": "d57f5e6e-4be8-4d33-ba02-6d7bcef5d780",
   "metadata": {},
   "outputs": [],
   "source": [
    "df = pd.concat([df,dummy_spcl],axis =1)"
   ]
  },
  {
   "cell_type": "code",
   "execution_count": 117,
   "id": "98d94bf3-045e-4f48-aa37-702239a122bd",
   "metadata": {},
   "outputs": [
    {
     "data": {
      "text/plain": [
       "Index(['Lead Origin_Landing Page Submission', 'Lead Origin_Lead Add Form',\n",
       "       'Lead Origin_Lead Import', 'Lead Source_Direct Traffic',\n",
       "       'Lead Source_Facebook', 'Lead Source_Google', 'Lead Source_Live Chat',\n",
       "       'Lead Source_Olark Chat', 'Lead Source_Organic Search',\n",
       "       'Lead Source_Pay per Click Ads', 'Lead Source_Press_Release',\n",
       "       'Lead Source_Reference', 'Lead Source_Referral Sites',\n",
       "       'Lead Source_Social Media', 'Lead Source_WeLearn',\n",
       "       'Lead Source_Welingak Website', 'Lead Source_bing',\n",
       "       'Lead Source_testone', 'Do Not Email_Yes',\n",
       "       'Last Activity_Converted to Lead', 'Last Activity_Email Bounced',\n",
       "       'Last Activity_Email Link Clicked', 'Last Activity_Email Marked Spam',\n",
       "       'Last Activity_Email Opened', 'Last Activity_Email Received',\n",
       "       'Last Activity_Form Submitted on Website',\n",
       "       'Last Activity_Had a Phone Conversation',\n",
       "       'Last Activity_Olark Chat Conversation',\n",
       "       'Last Activity_Page Visited on Website', 'Last Activity_SMS Sent',\n",
       "       'Last Activity_Unreachable', 'Last Activity_Unsubscribed',\n",
       "       'Last Activity_View in browser link Clicked',\n",
       "       'Last Activity_Visited Booth in Tradeshow',\n",
       "       'What is your current occupation_Housewife',\n",
       "       'What is your current occupation_Other',\n",
       "       'What is your current occupation_Student',\n",
       "       'What is your current occupation_Unemployed',\n",
       "       'What is your current occupation_Working Professional',\n",
       "       'A free copy of Mastering The Interview_Yes',\n",
       "       'Last Notable Activity_Email Bounced',\n",
       "       'Last Notable Activity_Email Link Clicked',\n",
       "       'Last Notable Activity_Email Marked Spam',\n",
       "       'Last Notable Activity_Email Opened',\n",
       "       'Last Notable Activity_Email Received',\n",
       "       'Last Notable Activity_Had a Phone Conversation',\n",
       "       'Last Notable Activity_Modified',\n",
       "       'Last Notable Activity_Olark Chat Conversation',\n",
       "       'Last Notable Activity_Page Visited on Website',\n",
       "       'Last Notable Activity_SMS Sent', 'Last Notable Activity_Unreachable',\n",
       "       'Last Notable Activity_Unsubscribed',\n",
       "       'Last Notable Activity_View in browser link Clicked', 'Lead Origin',\n",
       "       'Lead Source', 'Do Not Email', 'Converted', 'TotalVisits',\n",
       "       'Total Time Spent on Website', 'Page Views Per Visit', 'Last Activity',\n",
       "       'Specialization', 'What is your current occupation',\n",
       "       'A free copy of Mastering The Interview', 'Last Notable Activity',\n",
       "       'Business Administration', 'E-Business', 'E-COMMERCE',\n",
       "       'Finance Management', 'Healthcare Management', 'Hospitality Management',\n",
       "       'Human Resource Management', 'IT Projects Management',\n",
       "       'International Business', 'Marketing Management',\n",
       "       'Media and Advertising', 'Operations Management', 'Retail Management',\n",
       "       'Rural and Agribusiness', 'Services Excellence',\n",
       "       'Supply Chain Management', 'Travel and Tourism'],\n",
       "      dtype='object')"
      ]
     },
     "execution_count": 117,
     "metadata": {},
     "output_type": "execute_result"
    }
   ],
   "source": [
    "df.columns"
   ]
  },
  {
   "cell_type": "code",
   "execution_count": 118,
   "id": "255f8bed-8c01-48c2-8405-843736cf4e39",
   "metadata": {},
   "outputs": [
    {
     "data": {
      "text/html": [
       "<div>\n",
       "<style scoped>\n",
       "    .dataframe tbody tr th:only-of-type {\n",
       "        vertical-align: middle;\n",
       "    }\n",
       "\n",
       "    .dataframe tbody tr th {\n",
       "        vertical-align: top;\n",
       "    }\n",
       "\n",
       "    .dataframe thead th {\n",
       "        text-align: right;\n",
       "    }\n",
       "</style>\n",
       "<table border=\"1\" class=\"dataframe\">\n",
       "  <thead>\n",
       "    <tr style=\"text-align: right;\">\n",
       "      <th></th>\n",
       "      <th>Lead Origin_Landing Page Submission</th>\n",
       "      <th>Lead Origin_Lead Add Form</th>\n",
       "      <th>Lead Origin_Lead Import</th>\n",
       "      <th>Lead Source_Direct Traffic</th>\n",
       "      <th>Lead Source_Facebook</th>\n",
       "      <th>Lead Source_Google</th>\n",
       "      <th>Lead Source_Live Chat</th>\n",
       "      <th>Lead Source_Olark Chat</th>\n",
       "      <th>Lead Source_Organic Search</th>\n",
       "      <th>Lead Source_Pay per Click Ads</th>\n",
       "      <th>...</th>\n",
       "      <th>IT Projects Management</th>\n",
       "      <th>International Business</th>\n",
       "      <th>Marketing Management</th>\n",
       "      <th>Media and Advertising</th>\n",
       "      <th>Operations Management</th>\n",
       "      <th>Retail Management</th>\n",
       "      <th>Rural and Agribusiness</th>\n",
       "      <th>Services Excellence</th>\n",
       "      <th>Supply Chain Management</th>\n",
       "      <th>Travel and Tourism</th>\n",
       "    </tr>\n",
       "  </thead>\n",
       "  <tbody>\n",
       "    <tr>\n",
       "      <th>0</th>\n",
       "      <td>0</td>\n",
       "      <td>0</td>\n",
       "      <td>0</td>\n",
       "      <td>0</td>\n",
       "      <td>0</td>\n",
       "      <td>0</td>\n",
       "      <td>0</td>\n",
       "      <td>1</td>\n",
       "      <td>0</td>\n",
       "      <td>0</td>\n",
       "      <td>...</td>\n",
       "      <td>0</td>\n",
       "      <td>0</td>\n",
       "      <td>0</td>\n",
       "      <td>0</td>\n",
       "      <td>0</td>\n",
       "      <td>0</td>\n",
       "      <td>0</td>\n",
       "      <td>0</td>\n",
       "      <td>0</td>\n",
       "      <td>0</td>\n",
       "    </tr>\n",
       "    <tr>\n",
       "      <th>1</th>\n",
       "      <td>0</td>\n",
       "      <td>0</td>\n",
       "      <td>0</td>\n",
       "      <td>0</td>\n",
       "      <td>0</td>\n",
       "      <td>0</td>\n",
       "      <td>0</td>\n",
       "      <td>0</td>\n",
       "      <td>1</td>\n",
       "      <td>0</td>\n",
       "      <td>...</td>\n",
       "      <td>0</td>\n",
       "      <td>0</td>\n",
       "      <td>0</td>\n",
       "      <td>0</td>\n",
       "      <td>0</td>\n",
       "      <td>0</td>\n",
       "      <td>0</td>\n",
       "      <td>0</td>\n",
       "      <td>0</td>\n",
       "      <td>0</td>\n",
       "    </tr>\n",
       "    <tr>\n",
       "      <th>2</th>\n",
       "      <td>1</td>\n",
       "      <td>0</td>\n",
       "      <td>0</td>\n",
       "      <td>1</td>\n",
       "      <td>0</td>\n",
       "      <td>0</td>\n",
       "      <td>0</td>\n",
       "      <td>0</td>\n",
       "      <td>0</td>\n",
       "      <td>0</td>\n",
       "      <td>...</td>\n",
       "      <td>0</td>\n",
       "      <td>0</td>\n",
       "      <td>0</td>\n",
       "      <td>0</td>\n",
       "      <td>0</td>\n",
       "      <td>0</td>\n",
       "      <td>0</td>\n",
       "      <td>0</td>\n",
       "      <td>0</td>\n",
       "      <td>0</td>\n",
       "    </tr>\n",
       "    <tr>\n",
       "      <th>3</th>\n",
       "      <td>1</td>\n",
       "      <td>0</td>\n",
       "      <td>0</td>\n",
       "      <td>1</td>\n",
       "      <td>0</td>\n",
       "      <td>0</td>\n",
       "      <td>0</td>\n",
       "      <td>0</td>\n",
       "      <td>0</td>\n",
       "      <td>0</td>\n",
       "      <td>...</td>\n",
       "      <td>0</td>\n",
       "      <td>0</td>\n",
       "      <td>0</td>\n",
       "      <td>1</td>\n",
       "      <td>0</td>\n",
       "      <td>0</td>\n",
       "      <td>0</td>\n",
       "      <td>0</td>\n",
       "      <td>0</td>\n",
       "      <td>0</td>\n",
       "    </tr>\n",
       "    <tr>\n",
       "      <th>4</th>\n",
       "      <td>1</td>\n",
       "      <td>0</td>\n",
       "      <td>0</td>\n",
       "      <td>0</td>\n",
       "      <td>0</td>\n",
       "      <td>1</td>\n",
       "      <td>0</td>\n",
       "      <td>0</td>\n",
       "      <td>0</td>\n",
       "      <td>0</td>\n",
       "      <td>...</td>\n",
       "      <td>0</td>\n",
       "      <td>0</td>\n",
       "      <td>0</td>\n",
       "      <td>0</td>\n",
       "      <td>0</td>\n",
       "      <td>0</td>\n",
       "      <td>0</td>\n",
       "      <td>0</td>\n",
       "      <td>0</td>\n",
       "      <td>0</td>\n",
       "    </tr>\n",
       "  </tbody>\n",
       "</table>\n",
       "<p>5 rows × 82 columns</p>\n",
       "</div>"
      ],
      "text/plain": [
       "   Lead Origin_Landing Page Submission  Lead Origin_Lead Add Form  \\\n",
       "0                                    0                          0   \n",
       "1                                    0                          0   \n",
       "2                                    1                          0   \n",
       "3                                    1                          0   \n",
       "4                                    1                          0   \n",
       "\n",
       "   Lead Origin_Lead Import  Lead Source_Direct Traffic  Lead Source_Facebook  \\\n",
       "0                        0                           0                     0   \n",
       "1                        0                           0                     0   \n",
       "2                        0                           1                     0   \n",
       "3                        0                           1                     0   \n",
       "4                        0                           0                     0   \n",
       "\n",
       "   Lead Source_Google  Lead Source_Live Chat  Lead Source_Olark Chat  \\\n",
       "0                   0                      0                       1   \n",
       "1                   0                      0                       0   \n",
       "2                   0                      0                       0   \n",
       "3                   0                      0                       0   \n",
       "4                   1                      0                       0   \n",
       "\n",
       "   Lead Source_Organic Search  Lead Source_Pay per Click Ads  ...  \\\n",
       "0                           0                              0  ...   \n",
       "1                           1                              0  ...   \n",
       "2                           0                              0  ...   \n",
       "3                           0                              0  ...   \n",
       "4                           0                              0  ...   \n",
       "\n",
       "   IT Projects Management  International Business  Marketing Management  \\\n",
       "0                       0                       0                     0   \n",
       "1                       0                       0                     0   \n",
       "2                       0                       0                     0   \n",
       "3                       0                       0                     0   \n",
       "4                       0                       0                     0   \n",
       "\n",
       "   Media and Advertising  Operations Management  Retail Management  \\\n",
       "0                      0                      0                  0   \n",
       "1                      0                      0                  0   \n",
       "2                      0                      0                  0   \n",
       "3                      1                      0                  0   \n",
       "4                      0                      0                  0   \n",
       "\n",
       "   Rural and Agribusiness  Services Excellence  Supply Chain Management  \\\n",
       "0                       0                    0                        0   \n",
       "1                       0                    0                        0   \n",
       "2                       0                    0                        0   \n",
       "3                       0                    0                        0   \n",
       "4                       0                    0                        0   \n",
       "\n",
       "   Travel and Tourism  \n",
       "0                   0  \n",
       "1                   0  \n",
       "2                   0  \n",
       "3                   0  \n",
       "4                   0  \n",
       "\n",
       "[5 rows x 82 columns]"
      ]
     },
     "execution_count": 118,
     "metadata": {},
     "output_type": "execute_result"
    }
   ],
   "source": [
    "df.head()"
   ]
  },
  {
   "cell_type": "code",
   "execution_count": 119,
   "id": "8297082a-7482-49ce-b90e-8e79c5c05a02",
   "metadata": {},
   "outputs": [],
   "source": [
    "## dropping original columns which have dummy values \n",
    "df = df.drop(['Specialization','Lead Origin','Lead Source','Do Not Email','Last Activity','What is your current occupation','A free copy of Mastering The Interview','Last Notable Activity'],axis =1)\n"
   ]
  },
  {
   "cell_type": "code",
   "execution_count": 120,
   "id": "1f1a27f7-e592-4d26-88ae-d0b5787d2a5e",
   "metadata": {},
   "outputs": [
    {
     "data": {
      "text/html": [
       "<div>\n",
       "<style scoped>\n",
       "    .dataframe tbody tr th:only-of-type {\n",
       "        vertical-align: middle;\n",
       "    }\n",
       "\n",
       "    .dataframe tbody tr th {\n",
       "        vertical-align: top;\n",
       "    }\n",
       "\n",
       "    .dataframe thead th {\n",
       "        text-align: right;\n",
       "    }\n",
       "</style>\n",
       "<table border=\"1\" class=\"dataframe\">\n",
       "  <thead>\n",
       "    <tr style=\"text-align: right;\">\n",
       "      <th></th>\n",
       "      <th>Lead Origin_Landing Page Submission</th>\n",
       "      <th>Lead Origin_Lead Add Form</th>\n",
       "      <th>Lead Origin_Lead Import</th>\n",
       "      <th>Lead Source_Direct Traffic</th>\n",
       "      <th>Lead Source_Facebook</th>\n",
       "      <th>Lead Source_Google</th>\n",
       "      <th>Lead Source_Live Chat</th>\n",
       "      <th>Lead Source_Olark Chat</th>\n",
       "      <th>Lead Source_Organic Search</th>\n",
       "      <th>Lead Source_Pay per Click Ads</th>\n",
       "      <th>...</th>\n",
       "      <th>IT Projects Management</th>\n",
       "      <th>International Business</th>\n",
       "      <th>Marketing Management</th>\n",
       "      <th>Media and Advertising</th>\n",
       "      <th>Operations Management</th>\n",
       "      <th>Retail Management</th>\n",
       "      <th>Rural and Agribusiness</th>\n",
       "      <th>Services Excellence</th>\n",
       "      <th>Supply Chain Management</th>\n",
       "      <th>Travel and Tourism</th>\n",
       "    </tr>\n",
       "  </thead>\n",
       "  <tbody>\n",
       "    <tr>\n",
       "      <th>0</th>\n",
       "      <td>0</td>\n",
       "      <td>0</td>\n",
       "      <td>0</td>\n",
       "      <td>0</td>\n",
       "      <td>0</td>\n",
       "      <td>0</td>\n",
       "      <td>0</td>\n",
       "      <td>1</td>\n",
       "      <td>0</td>\n",
       "      <td>0</td>\n",
       "      <td>...</td>\n",
       "      <td>0</td>\n",
       "      <td>0</td>\n",
       "      <td>0</td>\n",
       "      <td>0</td>\n",
       "      <td>0</td>\n",
       "      <td>0</td>\n",
       "      <td>0</td>\n",
       "      <td>0</td>\n",
       "      <td>0</td>\n",
       "      <td>0</td>\n",
       "    </tr>\n",
       "    <tr>\n",
       "      <th>1</th>\n",
       "      <td>0</td>\n",
       "      <td>0</td>\n",
       "      <td>0</td>\n",
       "      <td>0</td>\n",
       "      <td>0</td>\n",
       "      <td>0</td>\n",
       "      <td>0</td>\n",
       "      <td>0</td>\n",
       "      <td>1</td>\n",
       "      <td>0</td>\n",
       "      <td>...</td>\n",
       "      <td>0</td>\n",
       "      <td>0</td>\n",
       "      <td>0</td>\n",
       "      <td>0</td>\n",
       "      <td>0</td>\n",
       "      <td>0</td>\n",
       "      <td>0</td>\n",
       "      <td>0</td>\n",
       "      <td>0</td>\n",
       "      <td>0</td>\n",
       "    </tr>\n",
       "    <tr>\n",
       "      <th>2</th>\n",
       "      <td>1</td>\n",
       "      <td>0</td>\n",
       "      <td>0</td>\n",
       "      <td>1</td>\n",
       "      <td>0</td>\n",
       "      <td>0</td>\n",
       "      <td>0</td>\n",
       "      <td>0</td>\n",
       "      <td>0</td>\n",
       "      <td>0</td>\n",
       "      <td>...</td>\n",
       "      <td>0</td>\n",
       "      <td>0</td>\n",
       "      <td>0</td>\n",
       "      <td>0</td>\n",
       "      <td>0</td>\n",
       "      <td>0</td>\n",
       "      <td>0</td>\n",
       "      <td>0</td>\n",
       "      <td>0</td>\n",
       "      <td>0</td>\n",
       "    </tr>\n",
       "    <tr>\n",
       "      <th>3</th>\n",
       "      <td>1</td>\n",
       "      <td>0</td>\n",
       "      <td>0</td>\n",
       "      <td>1</td>\n",
       "      <td>0</td>\n",
       "      <td>0</td>\n",
       "      <td>0</td>\n",
       "      <td>0</td>\n",
       "      <td>0</td>\n",
       "      <td>0</td>\n",
       "      <td>...</td>\n",
       "      <td>0</td>\n",
       "      <td>0</td>\n",
       "      <td>0</td>\n",
       "      <td>1</td>\n",
       "      <td>0</td>\n",
       "      <td>0</td>\n",
       "      <td>0</td>\n",
       "      <td>0</td>\n",
       "      <td>0</td>\n",
       "      <td>0</td>\n",
       "    </tr>\n",
       "    <tr>\n",
       "      <th>4</th>\n",
       "      <td>1</td>\n",
       "      <td>0</td>\n",
       "      <td>0</td>\n",
       "      <td>0</td>\n",
       "      <td>0</td>\n",
       "      <td>1</td>\n",
       "      <td>0</td>\n",
       "      <td>0</td>\n",
       "      <td>0</td>\n",
       "      <td>0</td>\n",
       "      <td>...</td>\n",
       "      <td>0</td>\n",
       "      <td>0</td>\n",
       "      <td>0</td>\n",
       "      <td>0</td>\n",
       "      <td>0</td>\n",
       "      <td>0</td>\n",
       "      <td>0</td>\n",
       "      <td>0</td>\n",
       "      <td>0</td>\n",
       "      <td>0</td>\n",
       "    </tr>\n",
       "  </tbody>\n",
       "</table>\n",
       "<p>5 rows × 74 columns</p>\n",
       "</div>"
      ],
      "text/plain": [
       "   Lead Origin_Landing Page Submission  Lead Origin_Lead Add Form  \\\n",
       "0                                    0                          0   \n",
       "1                                    0                          0   \n",
       "2                                    1                          0   \n",
       "3                                    1                          0   \n",
       "4                                    1                          0   \n",
       "\n",
       "   Lead Origin_Lead Import  Lead Source_Direct Traffic  Lead Source_Facebook  \\\n",
       "0                        0                           0                     0   \n",
       "1                        0                           0                     0   \n",
       "2                        0                           1                     0   \n",
       "3                        0                           1                     0   \n",
       "4                        0                           0                     0   \n",
       "\n",
       "   Lead Source_Google  Lead Source_Live Chat  Lead Source_Olark Chat  \\\n",
       "0                   0                      0                       1   \n",
       "1                   0                      0                       0   \n",
       "2                   0                      0                       0   \n",
       "3                   0                      0                       0   \n",
       "4                   1                      0                       0   \n",
       "\n",
       "   Lead Source_Organic Search  Lead Source_Pay per Click Ads  ...  \\\n",
       "0                           0                              0  ...   \n",
       "1                           1                              0  ...   \n",
       "2                           0                              0  ...   \n",
       "3                           0                              0  ...   \n",
       "4                           0                              0  ...   \n",
       "\n",
       "   IT Projects Management  International Business  Marketing Management  \\\n",
       "0                       0                       0                     0   \n",
       "1                       0                       0                     0   \n",
       "2                       0                       0                     0   \n",
       "3                       0                       0                     0   \n",
       "4                       0                       0                     0   \n",
       "\n",
       "   Media and Advertising  Operations Management  Retail Management  \\\n",
       "0                      0                      0                  0   \n",
       "1                      0                      0                  0   \n",
       "2                      0                      0                  0   \n",
       "3                      1                      0                  0   \n",
       "4                      0                      0                  0   \n",
       "\n",
       "   Rural and Agribusiness  Services Excellence  Supply Chain Management  \\\n",
       "0                       0                    0                        0   \n",
       "1                       0                    0                        0   \n",
       "2                       0                    0                        0   \n",
       "3                       0                    0                        0   \n",
       "4                       0                    0                        0   \n",
       "\n",
       "   Travel and Tourism  \n",
       "0                   0  \n",
       "1                   0  \n",
       "2                   0  \n",
       "3                   0  \n",
       "4                   0  \n",
       "\n",
       "[5 rows x 74 columns]"
      ]
     },
     "execution_count": 120,
     "metadata": {},
     "output_type": "execute_result"
    }
   ],
   "source": [
    "df.head()"
   ]
  },
  {
   "cell_type": "markdown",
   "id": "fd036824-520b-4686-8bdb-6696278b8749",
   "metadata": {},
   "source": [
    "## Train test split"
   ]
  },
  {
   "cell_type": "code",
   "execution_count": 121,
   "id": "1a99ee7b-b20f-4579-8398-4cd0c47a742d",
   "metadata": {},
   "outputs": [],
   "source": [
    "X = df.drop(['Converted'],axis=1)"
   ]
  },
  {
   "cell_type": "code",
   "execution_count": 122,
   "id": "cf2b5358-98e1-443e-8d58-deb627ae0c8b",
   "metadata": {},
   "outputs": [
    {
     "data": {
      "text/plain": [
       "(6373, 73)"
      ]
     },
     "execution_count": 122,
     "metadata": {},
     "output_type": "execute_result"
    }
   ],
   "source": [
    "X.shape"
   ]
  },
  {
   "cell_type": "code",
   "execution_count": 123,
   "id": "65b4cfc9-40c4-4c19-b692-6ee0b899da1b",
   "metadata": {},
   "outputs": [
    {
     "data": {
      "text/plain": [
       "(6373,)"
      ]
     },
     "execution_count": 123,
     "metadata": {},
     "output_type": "execute_result"
    }
   ],
   "source": [
    "y= df['Converted']\n",
    "y.shape"
   ]
  },
  {
   "cell_type": "code",
   "execution_count": 124,
   "id": "380f697c-e5f4-4d33-937b-d49fe166277e",
   "metadata": {},
   "outputs": [],
   "source": [
    "X_train, X_test,y_train,y_test = train_test_split(X,y, train_size =0.7, test_size =0.3, random_state =100)"
   ]
  },
  {
   "cell_type": "code",
   "execution_count": 125,
   "id": "207678c8-8644-4b80-951e-f627566af37e",
   "metadata": {},
   "outputs": [
    {
     "data": {
      "text/plain": [
       "(4461, 73)"
      ]
     },
     "execution_count": 125,
     "metadata": {},
     "output_type": "execute_result"
    }
   ],
   "source": [
    "X_train.shape"
   ]
  },
  {
   "cell_type": "code",
   "execution_count": 126,
   "id": "cad08b72-f933-4a8b-a0db-ed5469aa0ee3",
   "metadata": {},
   "outputs": [
    {
     "data": {
      "text/plain": [
       "(1912, 73)"
      ]
     },
     "execution_count": 126,
     "metadata": {},
     "output_type": "execute_result"
    }
   ],
   "source": [
    "X_test.shape"
   ]
  },
  {
   "cell_type": "code",
   "execution_count": 127,
   "id": "353a45eb-e89e-480c-a7e5-94e7c590299d",
   "metadata": {},
   "outputs": [],
   "source": [
    "## import minmax scaler \n",
    "from sklearn.preprocessing import MinMaxScaler \n",
    "scaler= MinMaxScaler()"
   ]
  },
  {
   "cell_type": "code",
   "execution_count": 128,
   "id": "d62a9e44-92ae-49aa-b3b1-51b5afd73400",
   "metadata": {},
   "outputs": [],
   "source": [
    "X_train[['TotalVisits','Page Views Per Visit','Total Time Spent on Website']]= scaler.fit_transform(X_train[['TotalVisits','Page Views Per Visit','Total Time Spent on Website']])"
   ]
  },
  {
   "cell_type": "code",
   "execution_count": 129,
   "id": "f5255337-09f0-47e3-93a7-79a3a3ab3c02",
   "metadata": {},
   "outputs": [
    {
     "data": {
      "text/html": [
       "<div>\n",
       "<style scoped>\n",
       "    .dataframe tbody tr th:only-of-type {\n",
       "        vertical-align: middle;\n",
       "    }\n",
       "\n",
       "    .dataframe tbody tr th {\n",
       "        vertical-align: top;\n",
       "    }\n",
       "\n",
       "    .dataframe thead th {\n",
       "        text-align: right;\n",
       "    }\n",
       "</style>\n",
       "<table border=\"1\" class=\"dataframe\">\n",
       "  <thead>\n",
       "    <tr style=\"text-align: right;\">\n",
       "      <th></th>\n",
       "      <th>TotalVisits</th>\n",
       "      <th>Page Views Per Visit</th>\n",
       "      <th>Total Time Spent on Website</th>\n",
       "    </tr>\n",
       "  </thead>\n",
       "  <tbody>\n",
       "    <tr>\n",
       "      <th>8003</th>\n",
       "      <td>0.015936</td>\n",
       "      <td>0.125</td>\n",
       "      <td>0.029489</td>\n",
       "    </tr>\n",
       "    <tr>\n",
       "      <th>218</th>\n",
       "      <td>0.015936</td>\n",
       "      <td>0.250</td>\n",
       "      <td>0.082306</td>\n",
       "    </tr>\n",
       "    <tr>\n",
       "      <th>4171</th>\n",
       "      <td>0.023904</td>\n",
       "      <td>0.375</td>\n",
       "      <td>0.034331</td>\n",
       "    </tr>\n",
       "    <tr>\n",
       "      <th>4037</th>\n",
       "      <td>0.000000</td>\n",
       "      <td>0.000</td>\n",
       "      <td>0.000000</td>\n",
       "    </tr>\n",
       "    <tr>\n",
       "      <th>3660</th>\n",
       "      <td>0.000000</td>\n",
       "      <td>0.000</td>\n",
       "      <td>0.000000</td>\n",
       "    </tr>\n",
       "  </tbody>\n",
       "</table>\n",
       "</div>"
      ],
      "text/plain": [
       "      TotalVisits  Page Views Per Visit  Total Time Spent on Website\n",
       "8003     0.015936                 0.125                     0.029489\n",
       "218      0.015936                 0.250                     0.082306\n",
       "4171     0.023904                 0.375                     0.034331\n",
       "4037     0.000000                 0.000                     0.000000\n",
       "3660     0.000000                 0.000                     0.000000"
      ]
     },
     "execution_count": 129,
     "metadata": {},
     "output_type": "execute_result"
    }
   ],
   "source": [
    "## verifying whether scaling done properly or not \n",
    "X_train[['TotalVisits','Page Views Per Visit','Total Time Spent on Website']].head()"
   ]
  },
  {
   "cell_type": "markdown",
   "id": "c539d17b-f80c-4354-a634-6204842c3160",
   "metadata": {},
   "source": [
    "## Step 2 : Model Building"
   ]
  },
  {
   "cell_type": "code",
   "execution_count": 147,
   "id": "93301d7d-ad20-4947-a0cd-1066aab949bd",
   "metadata": {},
   "outputs": [],
   "source": [
    "## initiating the logistic regression model\n",
    "logreg2 = LogisticRegression()"
   ]
  },
  {
   "cell_type": "code",
   "execution_count": 149,
   "id": "d274922e-2515-4f7a-b0d0-ba55ad200293",
   "metadata": {},
   "outputs": [],
   "source": [
    "## take the top 15 varaibles using RFE approach \n",
    "rfe = RFE(logreg2,n_features_to_select=15)             # running RFE with 15 variables as output\n",
    "#rfe = rfe.fit(X_train, y_train)"
   ]
  },
  {
   "cell_type": "code",
   "execution_count": 150,
   "id": "79189733-b7f4-445d-8308-1551740f3f9c",
   "metadata": {},
   "outputs": [],
   "source": [
    "rfe = rfe.fit(X_train, y_train)"
   ]
  },
  {
   "cell_type": "code",
   "execution_count": 151,
   "id": "6615a17b-7dc6-4efb-9067-458fa4776cc8",
   "metadata": {},
   "outputs": [
    {
     "data": {
      "text/plain": [
       "[('Lead Origin_Landing Page Submission', False, 18),\n",
       " ('Lead Origin_Lead Add Form', True, 1),\n",
       " ('Lead Source_Direct Traffic', False, 7),\n",
       " ('Lead Source_Olark Chat', True, 1),\n",
       " ('Lead Source_Reference', True, 1),\n",
       " ('Lead Source_Welingak Website', True, 1),\n",
       " ('Do Not Email_Yes', True, 1),\n",
       " ('Last Activity_Converted to Lead', False, 9),\n",
       " ('Last Activity_Email Bounced', False, 4),\n",
       " ('Last Activity_Had a Phone Conversation', True, 1),\n",
       " ('Last Activity_Olark Chat Conversation', False, 5),\n",
       " ('Last Activity_Page Visited on Website', False, 11),\n",
       " ('Last Activity_SMS Sent', True, 1),\n",
       " ('What is your current occupation_Housewife', True, 1),\n",
       " ('What is your current occupation_Student', True, 1),\n",
       " ('What is your current occupation_Unemployed', True, 1),\n",
       " ('What is your current occupation_Working Professional', True, 1),\n",
       " ('Last Notable Activity_Email Bounced', False, 3),\n",
       " ('Last Notable Activity_Email Link Clicked', False, 8),\n",
       " ('Last Notable Activity_Email Opened', False, 12),\n",
       " ('Last Notable Activity_Had a Phone Conversation', True, 1),\n",
       " ('Last Notable Activity_Modified', False, 2),\n",
       " ('Last Notable Activity_Unreachable', True, 1),\n",
       " ('TotalVisits', True, 1),\n",
       " ('Total Time Spent on Website', True, 1),\n",
       " ('Page Views Per Visit', False, 6),\n",
       " ('E-Business', False, 17),\n",
       " ('E-COMMERCE', False, 13),\n",
       " ('Finance Management', False, 19),\n",
       " ('Healthcare Management', False, 14),\n",
       " ('Human Resource Management', False, 22),\n",
       " ('IT Projects Management', False, 21),\n",
       " ('Marketing Management', False, 15),\n",
       " ('Rural and Agribusiness', False, 10),\n",
       " ('Supply Chain Management', False, 16),\n",
       " ('Travel and Tourism', False, 20)]"
      ]
     },
     "execution_count": 151,
     "metadata": {},
     "output_type": "execute_result"
    }
   ],
   "source": [
    "list(zip(X_train.columns, rfe.support_, rfe.ranking_))"
   ]
  },
  {
   "cell_type": "code",
   "execution_count": 152,
   "id": "c1712a32-867b-41af-a902-3105ce68b5f0",
   "metadata": {},
   "outputs": [],
   "source": [
    "## picking up the top 15 columns \n",
    "col = X_train.columns[rfe.support_]"
   ]
  },
  {
   "cell_type": "code",
   "execution_count": 153,
   "id": "f567341b-76db-46ce-9b13-75d4e370c816",
   "metadata": {},
   "outputs": [
    {
     "data": {
      "text/plain": [
       "Index(['Lead Origin_Lead Add Form', 'Lead Source_Olark Chat',\n",
       "       'Lead Source_Reference', 'Lead Source_Welingak Website',\n",
       "       'Do Not Email_Yes', 'Last Activity_Had a Phone Conversation',\n",
       "       'Last Activity_SMS Sent', 'What is your current occupation_Housewife',\n",
       "       'What is your current occupation_Student',\n",
       "       'What is your current occupation_Unemployed',\n",
       "       'What is your current occupation_Working Professional',\n",
       "       'Last Notable Activity_Had a Phone Conversation',\n",
       "       'Last Notable Activity_Unreachable', 'TotalVisits',\n",
       "       'Total Time Spent on Website'],\n",
       "      dtype='object')"
      ]
     },
     "execution_count": 153,
     "metadata": {},
     "output_type": "execute_result"
    }
   ],
   "source": [
    "col"
   ]
  },
  {
   "cell_type": "code",
   "execution_count": 154,
   "id": "91b694c8-96da-46d9-be76-8661eafbaa5e",
   "metadata": {},
   "outputs": [
    {
     "data": {
      "text/plain": [
       "Index(['Lead Origin_Landing Page Submission', 'Lead Source_Direct Traffic',\n",
       "       'Last Activity_Converted to Lead', 'Last Activity_Email Bounced',\n",
       "       'Last Activity_Olark Chat Conversation',\n",
       "       'Last Activity_Page Visited on Website',\n",
       "       'Last Notable Activity_Email Bounced',\n",
       "       'Last Notable Activity_Email Link Clicked',\n",
       "       'Last Notable Activity_Email Opened', 'Last Notable Activity_Modified',\n",
       "       'Page Views Per Visit', 'E-Business', 'E-COMMERCE',\n",
       "       'Finance Management', 'Healthcare Management',\n",
       "       'Human Resource Management', 'IT Projects Management',\n",
       "       'Marketing Management', 'Rural and Agribusiness',\n",
       "       'Supply Chain Management', 'Travel and Tourism'],\n",
       "      dtype='object')"
      ]
     },
     "execution_count": 154,
     "metadata": {},
     "output_type": "execute_result"
    }
   ],
   "source": [
    "## not selected columns\n",
    "X_train.columns[~rfe.support_]"
   ]
  },
  {
   "cell_type": "markdown",
   "id": "d56d4672-2f56-4ccd-b301-5863c8e18c99",
   "metadata": {},
   "source": [
    "### Model Building"
   ]
  },
  {
   "cell_type": "code",
   "execution_count": 155,
   "id": "b2e609a9-0574-4093-aabf-36a1714956cc",
   "metadata": {},
   "outputs": [],
   "source": [
    "X_train = X_train[col]\n",
    "X_train_sm = sm.add_constant(X_train)\n",
    "\n"
   ]
  },
  {
   "cell_type": "code",
   "execution_count": 156,
   "id": "a4ee6bec-b31b-47bd-bf07-a5c0f802a5f2",
   "metadata": {},
   "outputs": [],
   "source": [
    "#logm2 = sm.GLM(y_train, X_train_sm, family = sm.families.Binomial())\n",
    "\n",
    "\n",
    "\n",
    "\n",
    "logm1 = sm.GLM(y_train.astype(float),X_train_sm.astype(float), family = sm.families.Binomial())"
   ]
  },
  {
   "cell_type": "code",
   "execution_count": 157,
   "id": "d4afc526-24e9-4820-a881-2957a9ed9095",
   "metadata": {},
   "outputs": [
    {
     "data": {
      "text/html": [
       "<table class=\"simpletable\">\n",
       "<caption>Generalized Linear Model Regression Results</caption>\n",
       "<tr>\n",
       "  <th>Dep. Variable:</th>       <td>Converted</td>    <th>  No. Observations:  </th>  <td>  4461</td> \n",
       "</tr>\n",
       "<tr>\n",
       "  <th>Model:</th>                  <td>GLM</td>       <th>  Df Residuals:      </th>  <td>  4445</td> \n",
       "</tr>\n",
       "<tr>\n",
       "  <th>Model Family:</th>        <td>Binomial</td>     <th>  Df Model:          </th>  <td>    15</td> \n",
       "</tr>\n",
       "<tr>\n",
       "  <th>Link Function:</th>         <td>Logit</td>      <th>  Scale:             </th> <td>  1.0000</td>\n",
       "</tr>\n",
       "<tr>\n",
       "  <th>Method:</th>                <td>IRLS</td>       <th>  Log-Likelihood:    </th> <td> -2072.8</td>\n",
       "</tr>\n",
       "<tr>\n",
       "  <th>Date:</th>            <td>Tue, 21 May 2024</td> <th>  Deviance:          </th> <td>  4145.5</td>\n",
       "</tr>\n",
       "<tr>\n",
       "  <th>Time:</th>                <td>15:12:20</td>     <th>  Pearson chi2:      </th> <td>4.84e+03</td>\n",
       "</tr>\n",
       "<tr>\n",
       "  <th>No. Iterations:</th>         <td>22</td>        <th>  Pseudo R-squ. (CS):</th>  <td>0.3660</td> \n",
       "</tr>\n",
       "<tr>\n",
       "  <th>Covariance Type:</th>     <td>nonrobust</td>    <th>                     </th>     <td> </td>   \n",
       "</tr>\n",
       "</table>\n",
       "<table class=\"simpletable\">\n",
       "<tr>\n",
       "                            <td></td>                              <th>coef</th>     <th>std err</th>      <th>z</th>      <th>P>|z|</th>  <th>[0.025</th>    <th>0.975]</th>  \n",
       "</tr>\n",
       "<tr>\n",
       "  <th>const</th>                                                <td>   -1.0061</td> <td>    0.600</td> <td>   -1.677</td> <td> 0.094</td> <td>   -2.182</td> <td>    0.170</td>\n",
       "</tr>\n",
       "<tr>\n",
       "  <th>Lead Origin_Lead Add Form</th>                            <td>    2.9483</td> <td>    1.191</td> <td>    2.475</td> <td> 0.013</td> <td>    0.614</td> <td>    5.283</td>\n",
       "</tr>\n",
       "<tr>\n",
       "  <th>Lead Source_Olark Chat</th>                               <td>    1.4584</td> <td>    0.122</td> <td>   11.962</td> <td> 0.000</td> <td>    1.219</td> <td>    1.697</td>\n",
       "</tr>\n",
       "<tr>\n",
       "  <th>Lead Source_Reference</th>                                <td>    1.2994</td> <td>    1.214</td> <td>    1.070</td> <td> 0.285</td> <td>   -1.080</td> <td>    3.679</td>\n",
       "</tr>\n",
       "<tr>\n",
       "  <th>Lead Source_Welingak Website</th>                         <td>    3.4159</td> <td>    1.558</td> <td>    2.192</td> <td> 0.028</td> <td>    0.362</td> <td>    6.470</td>\n",
       "</tr>\n",
       "<tr>\n",
       "  <th>Do Not Email_Yes</th>                                     <td>   -1.5053</td> <td>    0.193</td> <td>   -7.781</td> <td> 0.000</td> <td>   -1.884</td> <td>   -1.126</td>\n",
       "</tr>\n",
       "<tr>\n",
       "  <th>Last Activity_Had a Phone Conversation</th>               <td>    1.0397</td> <td>    0.983</td> <td>    1.058</td> <td> 0.290</td> <td>   -0.887</td> <td>    2.966</td>\n",
       "</tr>\n",
       "<tr>\n",
       "  <th>Last Activity_SMS Sent</th>                               <td>    1.1827</td> <td>    0.082</td> <td>   14.362</td> <td> 0.000</td> <td>    1.021</td> <td>    1.344</td>\n",
       "</tr>\n",
       "<tr>\n",
       "  <th>What is your current occupation_Housewife</th>            <td>   22.6492</td> <td> 2.45e+04</td> <td>    0.001</td> <td> 0.999</td> <td> -4.8e+04</td> <td>  4.8e+04</td>\n",
       "</tr>\n",
       "<tr>\n",
       "  <th>What is your current occupation_Student</th>              <td>   -1.1544</td> <td>    0.630</td> <td>   -1.831</td> <td> 0.067</td> <td>   -2.390</td> <td>    0.081</td>\n",
       "</tr>\n",
       "<tr>\n",
       "  <th>What is your current occupation_Unemployed</th>           <td>   -1.3395</td> <td>    0.594</td> <td>   -2.254</td> <td> 0.024</td> <td>   -2.505</td> <td>   -0.175</td>\n",
       "</tr>\n",
       "<tr>\n",
       "  <th>What is your current occupation_Working Professional</th> <td>    1.2743</td> <td>    0.623</td> <td>    2.045</td> <td> 0.041</td> <td>    0.053</td> <td>    2.496</td>\n",
       "</tr>\n",
       "<tr>\n",
       "  <th>Last Notable Activity_Had a Phone Conversation</th>       <td>   23.1932</td> <td> 2.08e+04</td> <td>    0.001</td> <td> 0.999</td> <td>-4.08e+04</td> <td> 4.08e+04</td>\n",
       "</tr>\n",
       "<tr>\n",
       "  <th>Last Notable Activity_Unreachable</th>                    <td>    2.7868</td> <td>    0.807</td> <td>    3.453</td> <td> 0.001</td> <td>    1.205</td> <td>    4.369</td>\n",
       "</tr>\n",
       "<tr>\n",
       "  <th>TotalVisits</th>                                          <td>   11.3439</td> <td>    2.682</td> <td>    4.230</td> <td> 0.000</td> <td>    6.088</td> <td>   16.600</td>\n",
       "</tr>\n",
       "<tr>\n",
       "  <th>Total Time Spent on Website</th>                          <td>    4.4312</td> <td>    0.185</td> <td>   23.924</td> <td> 0.000</td> <td>    4.068</td> <td>    4.794</td>\n",
       "</tr>\n",
       "</table>"
      ],
      "text/latex": [
       "\\begin{center}\n",
       "\\begin{tabular}{lclc}\n",
       "\\toprule\n",
       "\\textbf{Dep. Variable:}                                        &    Converted     & \\textbf{  No. Observations:  } &     4461    \\\\\n",
       "\\textbf{Model:}                                                &       GLM        & \\textbf{  Df Residuals:      } &     4445    \\\\\n",
       "\\textbf{Model Family:}                                         &     Binomial     & \\textbf{  Df Model:          } &       15    \\\\\n",
       "\\textbf{Link Function:}                                        &      Logit       & \\textbf{  Scale:             } &    1.0000   \\\\\n",
       "\\textbf{Method:}                                               &       IRLS       & \\textbf{  Log-Likelihood:    } &   -2072.8   \\\\\n",
       "\\textbf{Date:}                                                 & Tue, 21 May 2024 & \\textbf{  Deviance:          } &    4145.5   \\\\\n",
       "\\textbf{Time:}                                                 &     15:12:20     & \\textbf{  Pearson chi2:      } &  4.84e+03   \\\\\n",
       "\\textbf{No. Iterations:}                                       &        22        & \\textbf{  Pseudo R-squ. (CS):} &   0.3660    \\\\\n",
       "\\textbf{Covariance Type:}                                      &    nonrobust     & \\textbf{                     } &             \\\\\n",
       "\\bottomrule\n",
       "\\end{tabular}\n",
       "\\begin{tabular}{lcccccc}\n",
       "                                                               & \\textbf{coef} & \\textbf{std err} & \\textbf{z} & \\textbf{P$> |$z$|$} & \\textbf{[0.025} & \\textbf{0.975]}  \\\\\n",
       "\\midrule\n",
       "\\textbf{const}                                                 &      -1.0061  &        0.600     &    -1.677  &         0.094        &       -2.182    &        0.170     \\\\\n",
       "\\textbf{Lead Origin\\_Lead Add Form}                            &       2.9483  &        1.191     &     2.475  &         0.013        &        0.614    &        5.283     \\\\\n",
       "\\textbf{Lead Source\\_Olark Chat}                               &       1.4584  &        0.122     &    11.962  &         0.000        &        1.219    &        1.697     \\\\\n",
       "\\textbf{Lead Source\\_Reference}                                &       1.2994  &        1.214     &     1.070  &         0.285        &       -1.080    &        3.679     \\\\\n",
       "\\textbf{Lead Source\\_Welingak Website}                         &       3.4159  &        1.558     &     2.192  &         0.028        &        0.362    &        6.470     \\\\\n",
       "\\textbf{Do Not Email\\_Yes}                                     &      -1.5053  &        0.193     &    -7.781  &         0.000        &       -1.884    &       -1.126     \\\\\n",
       "\\textbf{Last Activity\\_Had a Phone Conversation}               &       1.0397  &        0.983     &     1.058  &         0.290        &       -0.887    &        2.966     \\\\\n",
       "\\textbf{Last Activity\\_SMS Sent}                               &       1.1827  &        0.082     &    14.362  &         0.000        &        1.021    &        1.344     \\\\\n",
       "\\textbf{What is your current occupation\\_Housewife}            &      22.6492  &     2.45e+04     &     0.001  &         0.999        &     -4.8e+04    &      4.8e+04     \\\\\n",
       "\\textbf{What is your current occupation\\_Student}              &      -1.1544  &        0.630     &    -1.831  &         0.067        &       -2.390    &        0.081     \\\\\n",
       "\\textbf{What is your current occupation\\_Unemployed}           &      -1.3395  &        0.594     &    -2.254  &         0.024        &       -2.505    &       -0.175     \\\\\n",
       "\\textbf{What is your current occupation\\_Working Professional} &       1.2743  &        0.623     &     2.045  &         0.041        &        0.053    &        2.496     \\\\\n",
       "\\textbf{Last Notable Activity\\_Had a Phone Conversation}       &      23.1932  &     2.08e+04     &     0.001  &         0.999        &    -4.08e+04    &     4.08e+04     \\\\\n",
       "\\textbf{Last Notable Activity\\_Unreachable}                    &       2.7868  &        0.807     &     3.453  &         0.001        &        1.205    &        4.369     \\\\\n",
       "\\textbf{TotalVisits}                                           &      11.3439  &        2.682     &     4.230  &         0.000        &        6.088    &       16.600     \\\\\n",
       "\\textbf{Total Time Spent on Website}                           &       4.4312  &        0.185     &    23.924  &         0.000        &        4.068    &        4.794     \\\\\n",
       "\\bottomrule\n",
       "\\end{tabular}\n",
       "%\\caption{Generalized Linear Model Regression Results}\n",
       "\\end{center}"
      ],
      "text/plain": [
       "<class 'statsmodels.iolib.summary.Summary'>\n",
       "\"\"\"\n",
       "                 Generalized Linear Model Regression Results                  \n",
       "==============================================================================\n",
       "Dep. Variable:              Converted   No. Observations:                 4461\n",
       "Model:                            GLM   Df Residuals:                     4445\n",
       "Model Family:                Binomial   Df Model:                           15\n",
       "Link Function:                  Logit   Scale:                          1.0000\n",
       "Method:                          IRLS   Log-Likelihood:                -2072.8\n",
       "Date:                Tue, 21 May 2024   Deviance:                       4145.5\n",
       "Time:                        15:12:20   Pearson chi2:                 4.84e+03\n",
       "No. Iterations:                    22   Pseudo R-squ. (CS):             0.3660\n",
       "Covariance Type:            nonrobust                                         \n",
       "========================================================================================================================\n",
       "                                                           coef    std err          z      P>|z|      [0.025      0.975]\n",
       "------------------------------------------------------------------------------------------------------------------------\n",
       "const                                                   -1.0061      0.600     -1.677      0.094      -2.182       0.170\n",
       "Lead Origin_Lead Add Form                                2.9483      1.191      2.475      0.013       0.614       5.283\n",
       "Lead Source_Olark Chat                                   1.4584      0.122     11.962      0.000       1.219       1.697\n",
       "Lead Source_Reference                                    1.2994      1.214      1.070      0.285      -1.080       3.679\n",
       "Lead Source_Welingak Website                             3.4159      1.558      2.192      0.028       0.362       6.470\n",
       "Do Not Email_Yes                                        -1.5053      0.193     -7.781      0.000      -1.884      -1.126\n",
       "Last Activity_Had a Phone Conversation                   1.0397      0.983      1.058      0.290      -0.887       2.966\n",
       "Last Activity_SMS Sent                                   1.1827      0.082     14.362      0.000       1.021       1.344\n",
       "What is your current occupation_Housewife               22.6492   2.45e+04      0.001      0.999    -4.8e+04     4.8e+04\n",
       "What is your current occupation_Student                 -1.1544      0.630     -1.831      0.067      -2.390       0.081\n",
       "What is your current occupation_Unemployed              -1.3395      0.594     -2.254      0.024      -2.505      -0.175\n",
       "What is your current occupation_Working Professional     1.2743      0.623      2.045      0.041       0.053       2.496\n",
       "Last Notable Activity_Had a Phone Conversation          23.1932   2.08e+04      0.001      0.999   -4.08e+04    4.08e+04\n",
       "Last Notable Activity_Unreachable                        2.7868      0.807      3.453      0.001       1.205       4.369\n",
       "TotalVisits                                             11.3439      2.682      4.230      0.000       6.088      16.600\n",
       "Total Time Spent on Website                              4.4312      0.185     23.924      0.000       4.068       4.794\n",
       "========================================================================================================================\n",
       "\"\"\""
      ]
     },
     "execution_count": 157,
     "metadata": {},
     "output_type": "execute_result"
    }
   ],
   "source": [
    "res= logm1.fit()\n",
    "res.summary()"
   ]
  },
  {
   "cell_type": "code",
   "execution_count": 158,
   "id": "e8589a04-271b-401e-afdf-b77043ad928b",
   "metadata": {},
   "outputs": [
    {
     "data": {
      "text/html": [
       "<div>\n",
       "<style scoped>\n",
       "    .dataframe tbody tr th:only-of-type {\n",
       "        vertical-align: middle;\n",
       "    }\n",
       "\n",
       "    .dataframe tbody tr th {\n",
       "        vertical-align: top;\n",
       "    }\n",
       "\n",
       "    .dataframe thead th {\n",
       "        text-align: right;\n",
       "    }\n",
       "</style>\n",
       "<table border=\"1\" class=\"dataframe\">\n",
       "  <thead>\n",
       "    <tr style=\"text-align: right;\">\n",
       "      <th></th>\n",
       "      <th>Features</th>\n",
       "      <th>VIF</th>\n",
       "    </tr>\n",
       "  </thead>\n",
       "  <tbody>\n",
       "    <tr>\n",
       "      <th>0</th>\n",
       "      <td>Lead Origin_Lead Add Form</td>\n",
       "      <td>84.19</td>\n",
       "    </tr>\n",
       "    <tr>\n",
       "      <th>2</th>\n",
       "      <td>Lead Source_Reference</td>\n",
       "      <td>65.18</td>\n",
       "    </tr>\n",
       "    <tr>\n",
       "      <th>3</th>\n",
       "      <td>Lead Source_Welingak Website</td>\n",
       "      <td>20.03</td>\n",
       "    </tr>\n",
       "    <tr>\n",
       "      <th>9</th>\n",
       "      <td>What is your current occupation_Unemployed</td>\n",
       "      <td>3.65</td>\n",
       "    </tr>\n",
       "    <tr>\n",
       "      <th>5</th>\n",
       "      <td>Last Activity_Had a Phone Conversation</td>\n",
       "      <td>2.44</td>\n",
       "    </tr>\n",
       "    <tr>\n",
       "      <th>11</th>\n",
       "      <td>Last Notable Activity_Had a Phone Conversation</td>\n",
       "      <td>2.43</td>\n",
       "    </tr>\n",
       "    <tr>\n",
       "      <th>14</th>\n",
       "      <td>Total Time Spent on Website</td>\n",
       "      <td>2.38</td>\n",
       "    </tr>\n",
       "    <tr>\n",
       "      <th>13</th>\n",
       "      <td>TotalVisits</td>\n",
       "      <td>1.62</td>\n",
       "    </tr>\n",
       "    <tr>\n",
       "      <th>6</th>\n",
       "      <td>Last Activity_SMS Sent</td>\n",
       "      <td>1.59</td>\n",
       "    </tr>\n",
       "    <tr>\n",
       "      <th>10</th>\n",
       "      <td>What is your current occupation_Working Profes...</td>\n",
       "      <td>1.56</td>\n",
       "    </tr>\n",
       "    <tr>\n",
       "      <th>1</th>\n",
       "      <td>Lead Source_Olark Chat</td>\n",
       "      <td>1.44</td>\n",
       "    </tr>\n",
       "    <tr>\n",
       "      <th>4</th>\n",
       "      <td>Do Not Email_Yes</td>\n",
       "      <td>1.09</td>\n",
       "    </tr>\n",
       "    <tr>\n",
       "      <th>8</th>\n",
       "      <td>What is your current occupation_Student</td>\n",
       "      <td>1.09</td>\n",
       "    </tr>\n",
       "    <tr>\n",
       "      <th>7</th>\n",
       "      <td>What is your current occupation_Housewife</td>\n",
       "      <td>1.01</td>\n",
       "    </tr>\n",
       "    <tr>\n",
       "      <th>12</th>\n",
       "      <td>Last Notable Activity_Unreachable</td>\n",
       "      <td>1.01</td>\n",
       "    </tr>\n",
       "  </tbody>\n",
       "</table>\n",
       "</div>"
      ],
      "text/plain": [
       "                                             Features    VIF\n",
       "0                           Lead Origin_Lead Add Form  84.19\n",
       "2                               Lead Source_Reference  65.18\n",
       "3                        Lead Source_Welingak Website  20.03\n",
       "9          What is your current occupation_Unemployed   3.65\n",
       "5              Last Activity_Had a Phone Conversation   2.44\n",
       "11     Last Notable Activity_Had a Phone Conversation   2.43\n",
       "14                        Total Time Spent on Website   2.38\n",
       "13                                        TotalVisits   1.62\n",
       "6                              Last Activity_SMS Sent   1.59\n",
       "10  What is your current occupation_Working Profes...   1.56\n",
       "1                              Lead Source_Olark Chat   1.44\n",
       "4                                    Do Not Email_Yes   1.09\n",
       "8             What is your current occupation_Student   1.09\n",
       "7           What is your current occupation_Housewife   1.01\n",
       "12                  Last Notable Activity_Unreachable   1.01"
      ]
     },
     "execution_count": 158,
     "metadata": {},
     "output_type": "execute_result"
    }
   ],
   "source": [
    "## seems like p-value is higher .let's check the VIF\n",
    "vif = pd.DataFrame()\n",
    "vif['Features'] = X_train.columns\n",
    "vif['VIF'] = [variance_inflation_factor(X_train.values, i) for i in range(X_train.shape[1])]\n",
    "vif['VIF'] = round(vif['VIF'], 2)\n",
    "vif = vif.sort_values(by = \"VIF\", ascending = False)\n",
    "vif"
   ]
  },
  {
   "cell_type": "code",
   "execution_count": 159,
   "id": "4dc1d681-ce36-4a24-8926-1e711c24fbdd",
   "metadata": {},
   "outputs": [],
   "source": [
    "## let's drop lead_source_reference column as it has high vif and p-value \n",
    "X_train_sm.drop('Lead Source_Reference', axis = 1, inplace = True)"
   ]
  },
  {
   "cell_type": "code",
   "execution_count": 160,
   "id": "ab7bf1ff-23df-4cdf-8213-09ab2e475a89",
   "metadata": {},
   "outputs": [
    {
     "data": {
      "text/html": [
       "<table class=\"simpletable\">\n",
       "<caption>Generalized Linear Model Regression Results</caption>\n",
       "<tr>\n",
       "  <th>Dep. Variable:</th>       <td>Converted</td>    <th>  No. Observations:  </th>  <td>  4461</td> \n",
       "</tr>\n",
       "<tr>\n",
       "  <th>Model:</th>                  <td>GLM</td>       <th>  Df Residuals:      </th>  <td>  4446</td> \n",
       "</tr>\n",
       "<tr>\n",
       "  <th>Model Family:</th>        <td>Binomial</td>     <th>  Df Model:          </th>  <td>    14</td> \n",
       "</tr>\n",
       "<tr>\n",
       "  <th>Link Function:</th>         <td>Logit</td>      <th>  Scale:             </th> <td>  1.0000</td>\n",
       "</tr>\n",
       "<tr>\n",
       "  <th>Method:</th>                <td>IRLS</td>       <th>  Log-Likelihood:    </th> <td> -2073.2</td>\n",
       "</tr>\n",
       "<tr>\n",
       "  <th>Date:</th>            <td>Tue, 21 May 2024</td> <th>  Deviance:          </th> <td>  4146.5</td>\n",
       "</tr>\n",
       "<tr>\n",
       "  <th>Time:</th>                <td>15:13:05</td>     <th>  Pearson chi2:      </th> <td>4.82e+03</td>\n",
       "</tr>\n",
       "<tr>\n",
       "  <th>No. Iterations:</th>         <td>22</td>        <th>  Pseudo R-squ. (CS):</th>  <td>0.3658</td> \n",
       "</tr>\n",
       "<tr>\n",
       "  <th>Covariance Type:</th>     <td>nonrobust</td>    <th>                     </th>     <td> </td>   \n",
       "</tr>\n",
       "</table>\n",
       "<table class=\"simpletable\">\n",
       "<tr>\n",
       "                            <td></td>                              <th>coef</th>     <th>std err</th>      <th>z</th>      <th>P>|z|</th>  <th>[0.025</th>    <th>0.975]</th>  \n",
       "</tr>\n",
       "<tr>\n",
       "  <th>const</th>                                                <td>   -1.0057</td> <td>    0.600</td> <td>   -1.677</td> <td> 0.094</td> <td>   -2.181</td> <td>    0.170</td>\n",
       "</tr>\n",
       "<tr>\n",
       "  <th>Lead Origin_Lead Add Form</th>                            <td>    4.2084</td> <td>    0.259</td> <td>   16.277</td> <td> 0.000</td> <td>    3.702</td> <td>    4.715</td>\n",
       "</tr>\n",
       "<tr>\n",
       "  <th>Lead Source_Olark Chat</th>                               <td>    1.4583</td> <td>    0.122</td> <td>   11.960</td> <td> 0.000</td> <td>    1.219</td> <td>    1.697</td>\n",
       "</tr>\n",
       "<tr>\n",
       "  <th>Lead Source_Welingak Website</th>                         <td>    2.1557</td> <td>    1.037</td> <td>    2.079</td> <td> 0.038</td> <td>    0.124</td> <td>    4.188</td>\n",
       "</tr>\n",
       "<tr>\n",
       "  <th>Do Not Email_Yes</th>                                     <td>   -1.5036</td> <td>    0.193</td> <td>   -7.779</td> <td> 0.000</td> <td>   -1.882</td> <td>   -1.125</td>\n",
       "</tr>\n",
       "<tr>\n",
       "  <th>Last Activity_Had a Phone Conversation</th>               <td>    1.0398</td> <td>    0.983</td> <td>    1.058</td> <td> 0.290</td> <td>   -0.887</td> <td>    2.966</td>\n",
       "</tr>\n",
       "<tr>\n",
       "  <th>Last Activity_SMS Sent</th>                               <td>    1.1827</td> <td>    0.082</td> <td>   14.362</td> <td> 0.000</td> <td>    1.021</td> <td>    1.344</td>\n",
       "</tr>\n",
       "<tr>\n",
       "  <th>What is your current occupation_Housewife</th>            <td>   22.6511</td> <td> 2.45e+04</td> <td>    0.001</td> <td> 0.999</td> <td> -4.8e+04</td> <td>  4.8e+04</td>\n",
       "</tr>\n",
       "<tr>\n",
       "  <th>What is your current occupation_Student</th>              <td>   -1.1537</td> <td>    0.630</td> <td>   -1.830</td> <td> 0.067</td> <td>   -2.389</td> <td>    0.082</td>\n",
       "</tr>\n",
       "<tr>\n",
       "  <th>What is your current occupation_Unemployed</th>           <td>   -1.3401</td> <td>    0.594</td> <td>   -2.255</td> <td> 0.024</td> <td>   -2.505</td> <td>   -0.175</td>\n",
       "</tr>\n",
       "<tr>\n",
       "  <th>What is your current occupation_Working Professional</th> <td>    1.2748</td> <td>    0.623</td> <td>    2.046</td> <td> 0.041</td> <td>    0.053</td> <td>    2.496</td>\n",
       "</tr>\n",
       "<tr>\n",
       "  <th>Last Notable Activity_Had a Phone Conversation</th>       <td>   23.1934</td> <td> 2.08e+04</td> <td>    0.001</td> <td> 0.999</td> <td>-4.08e+04</td> <td> 4.08e+04</td>\n",
       "</tr>\n",
       "<tr>\n",
       "  <th>Last Notable Activity_Unreachable</th>                    <td>    2.7872</td> <td>    0.807</td> <td>    3.454</td> <td> 0.001</td> <td>    1.205</td> <td>    4.369</td>\n",
       "</tr>\n",
       "<tr>\n",
       "  <th>TotalVisits</th>                                          <td>   11.3428</td> <td>    2.682</td> <td>    4.229</td> <td> 0.000</td> <td>    6.086</td> <td>   16.599</td>\n",
       "</tr>\n",
       "<tr>\n",
       "  <th>Total Time Spent on Website</th>                          <td>    4.4312</td> <td>    0.185</td> <td>   23.924</td> <td> 0.000</td> <td>    4.068</td> <td>    4.794</td>\n",
       "</tr>\n",
       "</table>"
      ],
      "text/latex": [
       "\\begin{center}\n",
       "\\begin{tabular}{lclc}\n",
       "\\toprule\n",
       "\\textbf{Dep. Variable:}                                        &    Converted     & \\textbf{  No. Observations:  } &     4461    \\\\\n",
       "\\textbf{Model:}                                                &       GLM        & \\textbf{  Df Residuals:      } &     4446    \\\\\n",
       "\\textbf{Model Family:}                                         &     Binomial     & \\textbf{  Df Model:          } &       14    \\\\\n",
       "\\textbf{Link Function:}                                        &      Logit       & \\textbf{  Scale:             } &    1.0000   \\\\\n",
       "\\textbf{Method:}                                               &       IRLS       & \\textbf{  Log-Likelihood:    } &   -2073.2   \\\\\n",
       "\\textbf{Date:}                                                 & Tue, 21 May 2024 & \\textbf{  Deviance:          } &    4146.5   \\\\\n",
       "\\textbf{Time:}                                                 &     15:13:05     & \\textbf{  Pearson chi2:      } &  4.82e+03   \\\\\n",
       "\\textbf{No. Iterations:}                                       &        22        & \\textbf{  Pseudo R-squ. (CS):} &   0.3658    \\\\\n",
       "\\textbf{Covariance Type:}                                      &    nonrobust     & \\textbf{                     } &             \\\\\n",
       "\\bottomrule\n",
       "\\end{tabular}\n",
       "\\begin{tabular}{lcccccc}\n",
       "                                                               & \\textbf{coef} & \\textbf{std err} & \\textbf{z} & \\textbf{P$> |$z$|$} & \\textbf{[0.025} & \\textbf{0.975]}  \\\\\n",
       "\\midrule\n",
       "\\textbf{const}                                                 &      -1.0057  &        0.600     &    -1.677  &         0.094        &       -2.181    &        0.170     \\\\\n",
       "\\textbf{Lead Origin\\_Lead Add Form}                            &       4.2084  &        0.259     &    16.277  &         0.000        &        3.702    &        4.715     \\\\\n",
       "\\textbf{Lead Source\\_Olark Chat}                               &       1.4583  &        0.122     &    11.960  &         0.000        &        1.219    &        1.697     \\\\\n",
       "\\textbf{Lead Source\\_Welingak Website}                         &       2.1557  &        1.037     &     2.079  &         0.038        &        0.124    &        4.188     \\\\\n",
       "\\textbf{Do Not Email\\_Yes}                                     &      -1.5036  &        0.193     &    -7.779  &         0.000        &       -1.882    &       -1.125     \\\\\n",
       "\\textbf{Last Activity\\_Had a Phone Conversation}               &       1.0398  &        0.983     &     1.058  &         0.290        &       -0.887    &        2.966     \\\\\n",
       "\\textbf{Last Activity\\_SMS Sent}                               &       1.1827  &        0.082     &    14.362  &         0.000        &        1.021    &        1.344     \\\\\n",
       "\\textbf{What is your current occupation\\_Housewife}            &      22.6511  &     2.45e+04     &     0.001  &         0.999        &     -4.8e+04    &      4.8e+04     \\\\\n",
       "\\textbf{What is your current occupation\\_Student}              &      -1.1537  &        0.630     &    -1.830  &         0.067        &       -2.389    &        0.082     \\\\\n",
       "\\textbf{What is your current occupation\\_Unemployed}           &      -1.3401  &        0.594     &    -2.255  &         0.024        &       -2.505    &       -0.175     \\\\\n",
       "\\textbf{What is your current occupation\\_Working Professional} &       1.2748  &        0.623     &     2.046  &         0.041        &        0.053    &        2.496     \\\\\n",
       "\\textbf{Last Notable Activity\\_Had a Phone Conversation}       &      23.1934  &     2.08e+04     &     0.001  &         0.999        &    -4.08e+04    &     4.08e+04     \\\\\n",
       "\\textbf{Last Notable Activity\\_Unreachable}                    &       2.7872  &        0.807     &     3.454  &         0.001        &        1.205    &        4.369     \\\\\n",
       "\\textbf{TotalVisits}                                           &      11.3428  &        2.682     &     4.229  &         0.000        &        6.086    &       16.599     \\\\\n",
       "\\textbf{Total Time Spent on Website}                           &       4.4312  &        0.185     &    23.924  &         0.000        &        4.068    &        4.794     \\\\\n",
       "\\bottomrule\n",
       "\\end{tabular}\n",
       "%\\caption{Generalized Linear Model Regression Results}\n",
       "\\end{center}"
      ],
      "text/plain": [
       "<class 'statsmodels.iolib.summary.Summary'>\n",
       "\"\"\"\n",
       "                 Generalized Linear Model Regression Results                  \n",
       "==============================================================================\n",
       "Dep. Variable:              Converted   No. Observations:                 4461\n",
       "Model:                            GLM   Df Residuals:                     4446\n",
       "Model Family:                Binomial   Df Model:                           14\n",
       "Link Function:                  Logit   Scale:                          1.0000\n",
       "Method:                          IRLS   Log-Likelihood:                -2073.2\n",
       "Date:                Tue, 21 May 2024   Deviance:                       4146.5\n",
       "Time:                        15:13:05   Pearson chi2:                 4.82e+03\n",
       "No. Iterations:                    22   Pseudo R-squ. (CS):             0.3658\n",
       "Covariance Type:            nonrobust                                         \n",
       "========================================================================================================================\n",
       "                                                           coef    std err          z      P>|z|      [0.025      0.975]\n",
       "------------------------------------------------------------------------------------------------------------------------\n",
       "const                                                   -1.0057      0.600     -1.677      0.094      -2.181       0.170\n",
       "Lead Origin_Lead Add Form                                4.2084      0.259     16.277      0.000       3.702       4.715\n",
       "Lead Source_Olark Chat                                   1.4583      0.122     11.960      0.000       1.219       1.697\n",
       "Lead Source_Welingak Website                             2.1557      1.037      2.079      0.038       0.124       4.188\n",
       "Do Not Email_Yes                                        -1.5036      0.193     -7.779      0.000      -1.882      -1.125\n",
       "Last Activity_Had a Phone Conversation                   1.0398      0.983      1.058      0.290      -0.887       2.966\n",
       "Last Activity_SMS Sent                                   1.1827      0.082     14.362      0.000       1.021       1.344\n",
       "What is your current occupation_Housewife               22.6511   2.45e+04      0.001      0.999    -4.8e+04     4.8e+04\n",
       "What is your current occupation_Student                 -1.1537      0.630     -1.830      0.067      -2.389       0.082\n",
       "What is your current occupation_Unemployed              -1.3401      0.594     -2.255      0.024      -2.505      -0.175\n",
       "What is your current occupation_Working Professional     1.2748      0.623      2.046      0.041       0.053       2.496\n",
       "Last Notable Activity_Had a Phone Conversation          23.1934   2.08e+04      0.001      0.999   -4.08e+04    4.08e+04\n",
       "Last Notable Activity_Unreachable                        2.7872      0.807      3.454      0.001       1.205       4.369\n",
       "TotalVisits                                             11.3428      2.682      4.229      0.000       6.086      16.599\n",
       "Total Time Spent on Website                              4.4312      0.185     23.924      0.000       4.068       4.794\n",
       "========================================================================================================================\n",
       "\"\"\""
      ]
     },
     "execution_count": 160,
     "metadata": {},
     "output_type": "execute_result"
    }
   ],
   "source": [
    "## model 2 \n",
    "\n",
    "logm1 = sm.GLM(y_train.astype(float),X_train_sm.astype(float), family = sm.families.Binomial())\n",
    "res= logm1.fit()\n",
    "res.summary()"
   ]
  },
  {
   "cell_type": "code",
   "execution_count": 161,
   "id": "02e30055-20fa-4e4b-981f-66698fb08fe2",
   "metadata": {},
   "outputs": [
    {
     "data": {
      "text/html": [
       "<div>\n",
       "<style scoped>\n",
       "    .dataframe tbody tr th:only-of-type {\n",
       "        vertical-align: middle;\n",
       "    }\n",
       "\n",
       "    .dataframe tbody tr th {\n",
       "        vertical-align: top;\n",
       "    }\n",
       "\n",
       "    .dataframe thead th {\n",
       "        text-align: right;\n",
       "    }\n",
       "</style>\n",
       "<table border=\"1\" class=\"dataframe\">\n",
       "  <thead>\n",
       "    <tr style=\"text-align: right;\">\n",
       "      <th></th>\n",
       "      <th>Features</th>\n",
       "      <th>VIF</th>\n",
       "    </tr>\n",
       "  </thead>\n",
       "  <tbody>\n",
       "    <tr>\n",
       "      <th>0</th>\n",
       "      <td>const</td>\n",
       "      <td>268.28</td>\n",
       "    </tr>\n",
       "    <tr>\n",
       "      <th>9</th>\n",
       "      <td>What is your current occupation_Unemployed</td>\n",
       "      <td>31.55</td>\n",
       "    </tr>\n",
       "    <tr>\n",
       "      <th>10</th>\n",
       "      <td>What is your current occupation_Working Profes...</td>\n",
       "      <td>25.46</td>\n",
       "    </tr>\n",
       "    <tr>\n",
       "      <th>8</th>\n",
       "      <td>What is your current occupation_Student</td>\n",
       "      <td>8.39</td>\n",
       "    </tr>\n",
       "    <tr>\n",
       "      <th>5</th>\n",
       "      <td>Last Activity_Had a Phone Conversation</td>\n",
       "      <td>2.43</td>\n",
       "    </tr>\n",
       "    <tr>\n",
       "      <th>11</th>\n",
       "      <td>Last Notable Activity_Had a Phone Conversation</td>\n",
       "      <td>2.43</td>\n",
       "    </tr>\n",
       "    <tr>\n",
       "      <th>1</th>\n",
       "      <td>Lead Origin_Lead Add Form</td>\n",
       "      <td>1.55</td>\n",
       "    </tr>\n",
       "    <tr>\n",
       "      <th>7</th>\n",
       "      <td>What is your current occupation_Housewife</td>\n",
       "      <td>1.47</td>\n",
       "    </tr>\n",
       "    <tr>\n",
       "      <th>3</th>\n",
       "      <td>Lead Source_Welingak Website</td>\n",
       "      <td>1.30</td>\n",
       "    </tr>\n",
       "    <tr>\n",
       "      <th>14</th>\n",
       "      <td>Total Time Spent on Website</td>\n",
       "      <td>1.27</td>\n",
       "    </tr>\n",
       "    <tr>\n",
       "      <th>2</th>\n",
       "      <td>Lead Source_Olark Chat</td>\n",
       "      <td>1.24</td>\n",
       "    </tr>\n",
       "    <tr>\n",
       "      <th>13</th>\n",
       "      <td>TotalVisits</td>\n",
       "      <td>1.13</td>\n",
       "    </tr>\n",
       "    <tr>\n",
       "      <th>6</th>\n",
       "      <td>Last Activity_SMS Sent</td>\n",
       "      <td>1.05</td>\n",
       "    </tr>\n",
       "    <tr>\n",
       "      <th>4</th>\n",
       "      <td>Do Not Email_Yes</td>\n",
       "      <td>1.01</td>\n",
       "    </tr>\n",
       "    <tr>\n",
       "      <th>12</th>\n",
       "      <td>Last Notable Activity_Unreachable</td>\n",
       "      <td>1.01</td>\n",
       "    </tr>\n",
       "  </tbody>\n",
       "</table>\n",
       "</div>"
      ],
      "text/plain": [
       "                                             Features     VIF\n",
       "0                                               const  268.28\n",
       "9          What is your current occupation_Unemployed   31.55\n",
       "10  What is your current occupation_Working Profes...   25.46\n",
       "8             What is your current occupation_Student    8.39\n",
       "5              Last Activity_Had a Phone Conversation    2.43\n",
       "11     Last Notable Activity_Had a Phone Conversation    2.43\n",
       "1                           Lead Origin_Lead Add Form    1.55\n",
       "7           What is your current occupation_Housewife    1.47\n",
       "3                        Lead Source_Welingak Website    1.30\n",
       "14                        Total Time Spent on Website    1.27\n",
       "2                              Lead Source_Olark Chat    1.24\n",
       "13                                        TotalVisits    1.13\n",
       "6                              Last Activity_SMS Sent    1.05\n",
       "4                                    Do Not Email_Yes    1.01\n",
       "12                  Last Notable Activity_Unreachable    1.01"
      ]
     },
     "execution_count": 161,
     "metadata": {},
     "output_type": "execute_result"
    }
   ],
   "source": [
    "## check the VIF for model 2 \n",
    "vif = pd.DataFrame()\n",
    "vif['Features'] = X_train_sm.columns\n",
    "vif['VIF'] = [variance_inflation_factor(X_train_sm.values, i) for i in range(X_train_sm.shape[1])]\n",
    "vif['VIF'] = round(vif['VIF'], 2)\n",
    "vif = vif.sort_values(by = \"VIF\", ascending = False)\n",
    "vif\n"
   ]
  },
  {
   "cell_type": "code",
   "execution_count": 162,
   "id": "644608eb-cfd5-4786-a9e3-a2dfb0c477b3",
   "metadata": {},
   "outputs": [],
   "source": [
    "##  Let's drop Last Notable Activity_Had a Phone Conversation\t  as it has high p-value \n",
    "X_train_sm.drop('Last Notable Activity_Had a Phone Conversation', axis = 1, inplace = True)"
   ]
  },
  {
   "cell_type": "markdown",
   "id": "d6d689f8-7bb1-45b1-b190-2cdb2517fe8f",
   "metadata": {},
   "source": [
    "### Model 3"
   ]
  },
  {
   "cell_type": "code",
   "execution_count": 163,
   "id": "c9245ff9-ecb3-4104-bfc8-f4aa118276ac",
   "metadata": {},
   "outputs": [
    {
     "data": {
      "text/html": [
       "<table class=\"simpletable\">\n",
       "<caption>Generalized Linear Model Regression Results</caption>\n",
       "<tr>\n",
       "  <th>Dep. Variable:</th>       <td>Converted</td>    <th>  No. Observations:  </th>  <td>  4461</td> \n",
       "</tr>\n",
       "<tr>\n",
       "  <th>Model:</th>                  <td>GLM</td>       <th>  Df Residuals:      </th>  <td>  4447</td> \n",
       "</tr>\n",
       "<tr>\n",
       "  <th>Model Family:</th>        <td>Binomial</td>     <th>  Df Model:          </th>  <td>    13</td> \n",
       "</tr>\n",
       "<tr>\n",
       "  <th>Link Function:</th>         <td>Logit</td>      <th>  Scale:             </th> <td>  1.0000</td>\n",
       "</tr>\n",
       "<tr>\n",
       "  <th>Method:</th>                <td>IRLS</td>       <th>  Log-Likelihood:    </th> <td> -2076.1</td>\n",
       "</tr>\n",
       "<tr>\n",
       "  <th>Date:</th>            <td>Tue, 21 May 2024</td> <th>  Deviance:          </th> <td>  4152.2</td>\n",
       "</tr>\n",
       "<tr>\n",
       "  <th>Time:</th>                <td>15:13:40</td>     <th>  Pearson chi2:      </th> <td>4.82e+03</td>\n",
       "</tr>\n",
       "<tr>\n",
       "  <th>No. Iterations:</th>         <td>21</td>        <th>  Pseudo R-squ. (CS):</th>  <td>0.3650</td> \n",
       "</tr>\n",
       "<tr>\n",
       "  <th>Covariance Type:</th>     <td>nonrobust</td>    <th>                     </th>     <td> </td>   \n",
       "</tr>\n",
       "</table>\n",
       "<table class=\"simpletable\">\n",
       "<tr>\n",
       "                            <td></td>                              <th>coef</th>     <th>std err</th>      <th>z</th>      <th>P>|z|</th>  <th>[0.025</th>    <th>0.975]</th>  \n",
       "</tr>\n",
       "<tr>\n",
       "  <th>const</th>                                                <td>   -1.0069</td> <td>    0.600</td> <td>   -1.679</td> <td> 0.093</td> <td>   -2.182</td> <td>    0.168</td>\n",
       "</tr>\n",
       "<tr>\n",
       "  <th>Lead Origin_Lead Add Form</th>                            <td>    4.2082</td> <td>    0.259</td> <td>   16.276</td> <td> 0.000</td> <td>    3.701</td> <td>    4.715</td>\n",
       "</tr>\n",
       "<tr>\n",
       "  <th>Lead Source_Olark Chat</th>                               <td>    1.4581</td> <td>    0.122</td> <td>   11.958</td> <td> 0.000</td> <td>    1.219</td> <td>    1.697</td>\n",
       "</tr>\n",
       "<tr>\n",
       "  <th>Lead Source_Welingak Website</th>                         <td>    2.1557</td> <td>    1.037</td> <td>    2.079</td> <td> 0.038</td> <td>    0.124</td> <td>    4.188</td>\n",
       "</tr>\n",
       "<tr>\n",
       "  <th>Do Not Email_Yes</th>                                     <td>   -1.5037</td> <td>    0.193</td> <td>   -7.780</td> <td> 0.000</td> <td>   -1.882</td> <td>   -1.125</td>\n",
       "</tr>\n",
       "<tr>\n",
       "  <th>Last Activity_Had a Phone Conversation</th>               <td>    2.7502</td> <td>    0.802</td> <td>    3.430</td> <td> 0.001</td> <td>    1.179</td> <td>    4.322</td>\n",
       "</tr>\n",
       "<tr>\n",
       "  <th>Last Activity_SMS Sent</th>                               <td>    1.1826</td> <td>    0.082</td> <td>   14.364</td> <td> 0.000</td> <td>    1.021</td> <td>    1.344</td>\n",
       "</tr>\n",
       "<tr>\n",
       "  <th>What is your current occupation_Housewife</th>            <td>   21.6525</td> <td> 1.49e+04</td> <td>    0.001</td> <td> 0.999</td> <td>-2.91e+04</td> <td> 2.91e+04</td>\n",
       "</tr>\n",
       "<tr>\n",
       "  <th>What is your current occupation_Student</th>              <td>   -1.1520</td> <td>    0.630</td> <td>   -1.828</td> <td> 0.068</td> <td>   -2.387</td> <td>    0.083</td>\n",
       "</tr>\n",
       "<tr>\n",
       "  <th>What is your current occupation_Unemployed</th>           <td>   -1.3385</td> <td>    0.594</td> <td>   -2.253</td> <td> 0.024</td> <td>   -2.503</td> <td>   -0.174</td>\n",
       "</tr>\n",
       "<tr>\n",
       "  <th>What is your current occupation_Working Professional</th> <td>    1.2743</td> <td>    0.623</td> <td>    2.045</td> <td> 0.041</td> <td>    0.053</td> <td>    2.495</td>\n",
       "</tr>\n",
       "<tr>\n",
       "  <th>Last Notable Activity_Unreachable</th>                    <td>    2.7862</td> <td>    0.807</td> <td>    3.453</td> <td> 0.001</td> <td>    1.205</td> <td>    4.368</td>\n",
       "</tr>\n",
       "<tr>\n",
       "  <th>TotalVisits</th>                                          <td>   11.4551</td> <td>    2.686</td> <td>    4.265</td> <td> 0.000</td> <td>    6.191</td> <td>   16.720</td>\n",
       "</tr>\n",
       "<tr>\n",
       "  <th>Total Time Spent on Website</th>                          <td>    4.4237</td> <td>    0.185</td> <td>   23.900</td> <td> 0.000</td> <td>    4.061</td> <td>    4.787</td>\n",
       "</tr>\n",
       "</table>"
      ],
      "text/latex": [
       "\\begin{center}\n",
       "\\begin{tabular}{lclc}\n",
       "\\toprule\n",
       "\\textbf{Dep. Variable:}                                        &    Converted     & \\textbf{  No. Observations:  } &     4461    \\\\\n",
       "\\textbf{Model:}                                                &       GLM        & \\textbf{  Df Residuals:      } &     4447    \\\\\n",
       "\\textbf{Model Family:}                                         &     Binomial     & \\textbf{  Df Model:          } &       13    \\\\\n",
       "\\textbf{Link Function:}                                        &      Logit       & \\textbf{  Scale:             } &    1.0000   \\\\\n",
       "\\textbf{Method:}                                               &       IRLS       & \\textbf{  Log-Likelihood:    } &   -2076.1   \\\\\n",
       "\\textbf{Date:}                                                 & Tue, 21 May 2024 & \\textbf{  Deviance:          } &    4152.2   \\\\\n",
       "\\textbf{Time:}                                                 &     15:13:40     & \\textbf{  Pearson chi2:      } &  4.82e+03   \\\\\n",
       "\\textbf{No. Iterations:}                                       &        21        & \\textbf{  Pseudo R-squ. (CS):} &   0.3650    \\\\\n",
       "\\textbf{Covariance Type:}                                      &    nonrobust     & \\textbf{                     } &             \\\\\n",
       "\\bottomrule\n",
       "\\end{tabular}\n",
       "\\begin{tabular}{lcccccc}\n",
       "                                                               & \\textbf{coef} & \\textbf{std err} & \\textbf{z} & \\textbf{P$> |$z$|$} & \\textbf{[0.025} & \\textbf{0.975]}  \\\\\n",
       "\\midrule\n",
       "\\textbf{const}                                                 &      -1.0069  &        0.600     &    -1.679  &         0.093        &       -2.182    &        0.168     \\\\\n",
       "\\textbf{Lead Origin\\_Lead Add Form}                            &       4.2082  &        0.259     &    16.276  &         0.000        &        3.701    &        4.715     \\\\\n",
       "\\textbf{Lead Source\\_Olark Chat}                               &       1.4581  &        0.122     &    11.958  &         0.000        &        1.219    &        1.697     \\\\\n",
       "\\textbf{Lead Source\\_Welingak Website}                         &       2.1557  &        1.037     &     2.079  &         0.038        &        0.124    &        4.188     \\\\\n",
       "\\textbf{Do Not Email\\_Yes}                                     &      -1.5037  &        0.193     &    -7.780  &         0.000        &       -1.882    &       -1.125     \\\\\n",
       "\\textbf{Last Activity\\_Had a Phone Conversation}               &       2.7502  &        0.802     &     3.430  &         0.001        &        1.179    &        4.322     \\\\\n",
       "\\textbf{Last Activity\\_SMS Sent}                               &       1.1826  &        0.082     &    14.364  &         0.000        &        1.021    &        1.344     \\\\\n",
       "\\textbf{What is your current occupation\\_Housewife}            &      21.6525  &     1.49e+04     &     0.001  &         0.999        &    -2.91e+04    &     2.91e+04     \\\\\n",
       "\\textbf{What is your current occupation\\_Student}              &      -1.1520  &        0.630     &    -1.828  &         0.068        &       -2.387    &        0.083     \\\\\n",
       "\\textbf{What is your current occupation\\_Unemployed}           &      -1.3385  &        0.594     &    -2.253  &         0.024        &       -2.503    &       -0.174     \\\\\n",
       "\\textbf{What is your current occupation\\_Working Professional} &       1.2743  &        0.623     &     2.045  &         0.041        &        0.053    &        2.495     \\\\\n",
       "\\textbf{Last Notable Activity\\_Unreachable}                    &       2.7862  &        0.807     &     3.453  &         0.001        &        1.205    &        4.368     \\\\\n",
       "\\textbf{TotalVisits}                                           &      11.4551  &        2.686     &     4.265  &         0.000        &        6.191    &       16.720     \\\\\n",
       "\\textbf{Total Time Spent on Website}                           &       4.4237  &        0.185     &    23.900  &         0.000        &        4.061    &        4.787     \\\\\n",
       "\\bottomrule\n",
       "\\end{tabular}\n",
       "%\\caption{Generalized Linear Model Regression Results}\n",
       "\\end{center}"
      ],
      "text/plain": [
       "<class 'statsmodels.iolib.summary.Summary'>\n",
       "\"\"\"\n",
       "                 Generalized Linear Model Regression Results                  \n",
       "==============================================================================\n",
       "Dep. Variable:              Converted   No. Observations:                 4461\n",
       "Model:                            GLM   Df Residuals:                     4447\n",
       "Model Family:                Binomial   Df Model:                           13\n",
       "Link Function:                  Logit   Scale:                          1.0000\n",
       "Method:                          IRLS   Log-Likelihood:                -2076.1\n",
       "Date:                Tue, 21 May 2024   Deviance:                       4152.2\n",
       "Time:                        15:13:40   Pearson chi2:                 4.82e+03\n",
       "No. Iterations:                    21   Pseudo R-squ. (CS):             0.3650\n",
       "Covariance Type:            nonrobust                                         \n",
       "========================================================================================================================\n",
       "                                                           coef    std err          z      P>|z|      [0.025      0.975]\n",
       "------------------------------------------------------------------------------------------------------------------------\n",
       "const                                                   -1.0069      0.600     -1.679      0.093      -2.182       0.168\n",
       "Lead Origin_Lead Add Form                                4.2082      0.259     16.276      0.000       3.701       4.715\n",
       "Lead Source_Olark Chat                                   1.4581      0.122     11.958      0.000       1.219       1.697\n",
       "Lead Source_Welingak Website                             2.1557      1.037      2.079      0.038       0.124       4.188\n",
       "Do Not Email_Yes                                        -1.5037      0.193     -7.780      0.000      -1.882      -1.125\n",
       "Last Activity_Had a Phone Conversation                   2.7502      0.802      3.430      0.001       1.179       4.322\n",
       "Last Activity_SMS Sent                                   1.1826      0.082     14.364      0.000       1.021       1.344\n",
       "What is your current occupation_Housewife               21.6525   1.49e+04      0.001      0.999   -2.91e+04    2.91e+04\n",
       "What is your current occupation_Student                 -1.1520      0.630     -1.828      0.068      -2.387       0.083\n",
       "What is your current occupation_Unemployed              -1.3385      0.594     -2.253      0.024      -2.503      -0.174\n",
       "What is your current occupation_Working Professional     1.2743      0.623      2.045      0.041       0.053       2.495\n",
       "Last Notable Activity_Unreachable                        2.7862      0.807      3.453      0.001       1.205       4.368\n",
       "TotalVisits                                             11.4551      2.686      4.265      0.000       6.191      16.720\n",
       "Total Time Spent on Website                              4.4237      0.185     23.900      0.000       4.061       4.787\n",
       "========================================================================================================================\n",
       "\"\"\""
      ]
     },
     "execution_count": 163,
     "metadata": {},
     "output_type": "execute_result"
    }
   ],
   "source": [
    "\n",
    "logm1 = sm.GLM(y_train.astype(float),X_train_sm.astype(float), family = sm.families.Binomial())\n",
    "res= logm1.fit()\n",
    "res.summary()"
   ]
  },
  {
   "cell_type": "code",
   "execution_count": 164,
   "id": "bae37317-f62a-41ff-84d9-11021ecf6199",
   "metadata": {},
   "outputs": [
    {
     "data": {
      "text/html": [
       "<div>\n",
       "<style scoped>\n",
       "    .dataframe tbody tr th:only-of-type {\n",
       "        vertical-align: middle;\n",
       "    }\n",
       "\n",
       "    .dataframe tbody tr th {\n",
       "        vertical-align: top;\n",
       "    }\n",
       "\n",
       "    .dataframe thead th {\n",
       "        text-align: right;\n",
       "    }\n",
       "</style>\n",
       "<table border=\"1\" class=\"dataframe\">\n",
       "  <thead>\n",
       "    <tr style=\"text-align: right;\">\n",
       "      <th></th>\n",
       "      <th>Features</th>\n",
       "      <th>VIF</th>\n",
       "    </tr>\n",
       "  </thead>\n",
       "  <tbody>\n",
       "    <tr>\n",
       "      <th>0</th>\n",
       "      <td>const</td>\n",
       "      <td>268.28</td>\n",
       "    </tr>\n",
       "    <tr>\n",
       "      <th>9</th>\n",
       "      <td>What is your current occupation_Unemployed</td>\n",
       "      <td>31.55</td>\n",
       "    </tr>\n",
       "    <tr>\n",
       "      <th>10</th>\n",
       "      <td>What is your current occupation_Working Profes...</td>\n",
       "      <td>25.46</td>\n",
       "    </tr>\n",
       "    <tr>\n",
       "      <th>8</th>\n",
       "      <td>What is your current occupation_Student</td>\n",
       "      <td>8.39</td>\n",
       "    </tr>\n",
       "    <tr>\n",
       "      <th>1</th>\n",
       "      <td>Lead Origin_Lead Add Form</td>\n",
       "      <td>1.55</td>\n",
       "    </tr>\n",
       "    <tr>\n",
       "      <th>7</th>\n",
       "      <td>What is your current occupation_Housewife</td>\n",
       "      <td>1.47</td>\n",
       "    </tr>\n",
       "    <tr>\n",
       "      <th>3</th>\n",
       "      <td>Lead Source_Welingak Website</td>\n",
       "      <td>1.30</td>\n",
       "    </tr>\n",
       "    <tr>\n",
       "      <th>13</th>\n",
       "      <td>Total Time Spent on Website</td>\n",
       "      <td>1.27</td>\n",
       "    </tr>\n",
       "    <tr>\n",
       "      <th>2</th>\n",
       "      <td>Lead Source_Olark Chat</td>\n",
       "      <td>1.24</td>\n",
       "    </tr>\n",
       "    <tr>\n",
       "      <th>12</th>\n",
       "      <td>TotalVisits</td>\n",
       "      <td>1.13</td>\n",
       "    </tr>\n",
       "    <tr>\n",
       "      <th>6</th>\n",
       "      <td>Last Activity_SMS Sent</td>\n",
       "      <td>1.05</td>\n",
       "    </tr>\n",
       "    <tr>\n",
       "      <th>4</th>\n",
       "      <td>Do Not Email_Yes</td>\n",
       "      <td>1.01</td>\n",
       "    </tr>\n",
       "    <tr>\n",
       "      <th>11</th>\n",
       "      <td>Last Notable Activity_Unreachable</td>\n",
       "      <td>1.01</td>\n",
       "    </tr>\n",
       "    <tr>\n",
       "      <th>5</th>\n",
       "      <td>Last Activity_Had a Phone Conversation</td>\n",
       "      <td>1.00</td>\n",
       "    </tr>\n",
       "  </tbody>\n",
       "</table>\n",
       "</div>"
      ],
      "text/plain": [
       "                                             Features     VIF\n",
       "0                                               const  268.28\n",
       "9          What is your current occupation_Unemployed   31.55\n",
       "10  What is your current occupation_Working Profes...   25.46\n",
       "8             What is your current occupation_Student    8.39\n",
       "1                           Lead Origin_Lead Add Form    1.55\n",
       "7           What is your current occupation_Housewife    1.47\n",
       "3                        Lead Source_Welingak Website    1.30\n",
       "13                        Total Time Spent on Website    1.27\n",
       "2                              Lead Source_Olark Chat    1.24\n",
       "12                                        TotalVisits    1.13\n",
       "6                              Last Activity_SMS Sent    1.05\n",
       "4                                    Do Not Email_Yes    1.01\n",
       "11                  Last Notable Activity_Unreachable    1.01\n",
       "5              Last Activity_Had a Phone Conversation    1.00"
      ]
     },
     "execution_count": 164,
     "metadata": {},
     "output_type": "execute_result"
    }
   ],
   "source": [
    "vif = pd.DataFrame()\n",
    "vif['Features'] = X_train_sm.columns\n",
    "vif['VIF'] = [variance_inflation_factor(X_train_sm.values, i) for i in range(X_train_sm.shape[1])]\n",
    "vif['VIF'] = round(vif['VIF'], 2)\n",
    "vif = vif.sort_values(by = \"VIF\", ascending = False)\n",
    "vif"
   ]
  },
  {
   "cell_type": "code",
   "execution_count": 165,
   "id": "a7370adb-0d61-41dd-89d9-1aa3171d05e8",
   "metadata": {},
   "outputs": [],
   "source": [
    "## vif seems to be in decent range so let's drop What is your current occupation_Housewife as it has high p-value \n",
    "X_train_sm.drop('What is your current occupation_Housewife', axis = 1, inplace = True)"
   ]
  },
  {
   "cell_type": "markdown",
   "id": "1aa00a3a-eb24-4879-9949-3cd9a0bfaacc",
   "metadata": {},
   "source": [
    "### Model 4"
   ]
  },
  {
   "cell_type": "code",
   "execution_count": 166,
   "id": "5083a74e-c801-402a-92e9-0212c43ec0a2",
   "metadata": {},
   "outputs": [
    {
     "data": {
      "text/html": [
       "<table class=\"simpletable\">\n",
       "<caption>Generalized Linear Model Regression Results</caption>\n",
       "<tr>\n",
       "  <th>Dep. Variable:</th>       <td>Converted</td>    <th>  No. Observations:  </th>  <td>  4461</td> \n",
       "</tr>\n",
       "<tr>\n",
       "  <th>Model:</th>                  <td>GLM</td>       <th>  Df Residuals:      </th>  <td>  4448</td> \n",
       "</tr>\n",
       "<tr>\n",
       "  <th>Model Family:</th>        <td>Binomial</td>     <th>  Df Model:          </th>  <td>    12</td> \n",
       "</tr>\n",
       "<tr>\n",
       "  <th>Link Function:</th>         <td>Logit</td>      <th>  Scale:             </th> <td>  1.0000</td>\n",
       "</tr>\n",
       "<tr>\n",
       "  <th>Method:</th>                <td>IRLS</td>       <th>  Log-Likelihood:    </th> <td> -2078.3</td>\n",
       "</tr>\n",
       "<tr>\n",
       "  <th>Date:</th>            <td>Tue, 21 May 2024</td> <th>  Deviance:          </th> <td>  4156.7</td>\n",
       "</tr>\n",
       "<tr>\n",
       "  <th>Time:</th>                <td>15:13:57</td>     <th>  Pearson chi2:      </th> <td>4.83e+03</td>\n",
       "</tr>\n",
       "<tr>\n",
       "  <th>No. Iterations:</th>          <td>7</td>        <th>  Pseudo R-squ. (CS):</th>  <td>0.3644</td> \n",
       "</tr>\n",
       "<tr>\n",
       "  <th>Covariance Type:</th>     <td>nonrobust</td>    <th>                     </th>     <td> </td>   \n",
       "</tr>\n",
       "</table>\n",
       "<table class=\"simpletable\">\n",
       "<tr>\n",
       "                            <td></td>                              <th>coef</th>     <th>std err</th>      <th>z</th>      <th>P>|z|</th>  <th>[0.025</th>    <th>0.975]</th>  \n",
       "</tr>\n",
       "<tr>\n",
       "  <th>const</th>                                                <td>   -0.4528</td> <td>    0.554</td> <td>   -0.818</td> <td> 0.413</td> <td>   -1.538</td> <td>    0.632</td>\n",
       "</tr>\n",
       "<tr>\n",
       "  <th>Lead Origin_Lead Add Form</th>                            <td>    4.2057</td> <td>    0.258</td> <td>   16.274</td> <td> 0.000</td> <td>    3.699</td> <td>    4.712</td>\n",
       "</tr>\n",
       "<tr>\n",
       "  <th>Lead Source_Olark Chat</th>                               <td>    1.4530</td> <td>    0.122</td> <td>   11.930</td> <td> 0.000</td> <td>    1.214</td> <td>    1.692</td>\n",
       "</tr>\n",
       "<tr>\n",
       "  <th>Lead Source_Welingak Website</th>                         <td>    2.1541</td> <td>    1.037</td> <td>    2.078</td> <td> 0.038</td> <td>    0.122</td> <td>    4.186</td>\n",
       "</tr>\n",
       "<tr>\n",
       "  <th>Do Not Email_Yes</th>                                     <td>   -1.5063</td> <td>    0.193</td> <td>   -7.785</td> <td> 0.000</td> <td>   -1.886</td> <td>   -1.127</td>\n",
       "</tr>\n",
       "<tr>\n",
       "  <th>Last Activity_Had a Phone Conversation</th>               <td>    2.7515</td> <td>    0.802</td> <td>    3.432</td> <td> 0.001</td> <td>    1.180</td> <td>    4.323</td>\n",
       "</tr>\n",
       "<tr>\n",
       "  <th>Last Activity_SMS Sent</th>                               <td>    1.1823</td> <td>    0.082</td> <td>   14.362</td> <td> 0.000</td> <td>    1.021</td> <td>    1.344</td>\n",
       "</tr>\n",
       "<tr>\n",
       "  <th>What is your current occupation_Student</th>              <td>   -1.7017</td> <td>    0.588</td> <td>   -2.893</td> <td> 0.004</td> <td>   -2.855</td> <td>   -0.549</td>\n",
       "</tr>\n",
       "<tr>\n",
       "  <th>What is your current occupation_Unemployed</th>           <td>   -1.8879</td> <td>    0.550</td> <td>   -3.435</td> <td> 0.001</td> <td>   -2.965</td> <td>   -0.811</td>\n",
       "</tr>\n",
       "<tr>\n",
       "  <th>What is your current occupation_Working Professional</th> <td>    0.7246</td> <td>    0.581</td> <td>    1.248</td> <td> 0.212</td> <td>   -0.413</td> <td>    1.862</td>\n",
       "</tr>\n",
       "<tr>\n",
       "  <th>Last Notable Activity_Unreachable</th>                    <td>    2.7834</td> <td>    0.807</td> <td>    3.448</td> <td> 0.001</td> <td>    1.201</td> <td>    4.365</td>\n",
       "</tr>\n",
       "<tr>\n",
       "  <th>TotalVisits</th>                                          <td>   11.2586</td> <td>    2.672</td> <td>    4.214</td> <td> 0.000</td> <td>    6.023</td> <td>   16.495</td>\n",
       "</tr>\n",
       "<tr>\n",
       "  <th>Total Time Spent on Website</th>                          <td>    4.4217</td> <td>    0.185</td> <td>   23.898</td> <td> 0.000</td> <td>    4.059</td> <td>    4.784</td>\n",
       "</tr>\n",
       "</table>"
      ],
      "text/latex": [
       "\\begin{center}\n",
       "\\begin{tabular}{lclc}\n",
       "\\toprule\n",
       "\\textbf{Dep. Variable:}                                        &    Converted     & \\textbf{  No. Observations:  } &     4461    \\\\\n",
       "\\textbf{Model:}                                                &       GLM        & \\textbf{  Df Residuals:      } &     4448    \\\\\n",
       "\\textbf{Model Family:}                                         &     Binomial     & \\textbf{  Df Model:          } &       12    \\\\\n",
       "\\textbf{Link Function:}                                        &      Logit       & \\textbf{  Scale:             } &    1.0000   \\\\\n",
       "\\textbf{Method:}                                               &       IRLS       & \\textbf{  Log-Likelihood:    } &   -2078.3   \\\\\n",
       "\\textbf{Date:}                                                 & Tue, 21 May 2024 & \\textbf{  Deviance:          } &    4156.7   \\\\\n",
       "\\textbf{Time:}                                                 &     15:13:57     & \\textbf{  Pearson chi2:      } &  4.83e+03   \\\\\n",
       "\\textbf{No. Iterations:}                                       &        7         & \\textbf{  Pseudo R-squ. (CS):} &   0.3644    \\\\\n",
       "\\textbf{Covariance Type:}                                      &    nonrobust     & \\textbf{                     } &             \\\\\n",
       "\\bottomrule\n",
       "\\end{tabular}\n",
       "\\begin{tabular}{lcccccc}\n",
       "                                                               & \\textbf{coef} & \\textbf{std err} & \\textbf{z} & \\textbf{P$> |$z$|$} & \\textbf{[0.025} & \\textbf{0.975]}  \\\\\n",
       "\\midrule\n",
       "\\textbf{const}                                                 &      -0.4528  &        0.554     &    -0.818  &         0.413        &       -1.538    &        0.632     \\\\\n",
       "\\textbf{Lead Origin\\_Lead Add Form}                            &       4.2057  &        0.258     &    16.274  &         0.000        &        3.699    &        4.712     \\\\\n",
       "\\textbf{Lead Source\\_Olark Chat}                               &       1.4530  &        0.122     &    11.930  &         0.000        &        1.214    &        1.692     \\\\\n",
       "\\textbf{Lead Source\\_Welingak Website}                         &       2.1541  &        1.037     &     2.078  &         0.038        &        0.122    &        4.186     \\\\\n",
       "\\textbf{Do Not Email\\_Yes}                                     &      -1.5063  &        0.193     &    -7.785  &         0.000        &       -1.886    &       -1.127     \\\\\n",
       "\\textbf{Last Activity\\_Had a Phone Conversation}               &       2.7515  &        0.802     &     3.432  &         0.001        &        1.180    &        4.323     \\\\\n",
       "\\textbf{Last Activity\\_SMS Sent}                               &       1.1823  &        0.082     &    14.362  &         0.000        &        1.021    &        1.344     \\\\\n",
       "\\textbf{What is your current occupation\\_Student}              &      -1.7017  &        0.588     &    -2.893  &         0.004        &       -2.855    &       -0.549     \\\\\n",
       "\\textbf{What is your current occupation\\_Unemployed}           &      -1.8879  &        0.550     &    -3.435  &         0.001        &       -2.965    &       -0.811     \\\\\n",
       "\\textbf{What is your current occupation\\_Working Professional} &       0.7246  &        0.581     &     1.248  &         0.212        &       -0.413    &        1.862     \\\\\n",
       "\\textbf{Last Notable Activity\\_Unreachable}                    &       2.7834  &        0.807     &     3.448  &         0.001        &        1.201    &        4.365     \\\\\n",
       "\\textbf{TotalVisits}                                           &      11.2586  &        2.672     &     4.214  &         0.000        &        6.023    &       16.495     \\\\\n",
       "\\textbf{Total Time Spent on Website}                           &       4.4217  &        0.185     &    23.898  &         0.000        &        4.059    &        4.784     \\\\\n",
       "\\bottomrule\n",
       "\\end{tabular}\n",
       "%\\caption{Generalized Linear Model Regression Results}\n",
       "\\end{center}"
      ],
      "text/plain": [
       "<class 'statsmodels.iolib.summary.Summary'>\n",
       "\"\"\"\n",
       "                 Generalized Linear Model Regression Results                  \n",
       "==============================================================================\n",
       "Dep. Variable:              Converted   No. Observations:                 4461\n",
       "Model:                            GLM   Df Residuals:                     4448\n",
       "Model Family:                Binomial   Df Model:                           12\n",
       "Link Function:                  Logit   Scale:                          1.0000\n",
       "Method:                          IRLS   Log-Likelihood:                -2078.3\n",
       "Date:                Tue, 21 May 2024   Deviance:                       4156.7\n",
       "Time:                        15:13:57   Pearson chi2:                 4.83e+03\n",
       "No. Iterations:                     7   Pseudo R-squ. (CS):             0.3644\n",
       "Covariance Type:            nonrobust                                         \n",
       "========================================================================================================================\n",
       "                                                           coef    std err          z      P>|z|      [0.025      0.975]\n",
       "------------------------------------------------------------------------------------------------------------------------\n",
       "const                                                   -0.4528      0.554     -0.818      0.413      -1.538       0.632\n",
       "Lead Origin_Lead Add Form                                4.2057      0.258     16.274      0.000       3.699       4.712\n",
       "Lead Source_Olark Chat                                   1.4530      0.122     11.930      0.000       1.214       1.692\n",
       "Lead Source_Welingak Website                             2.1541      1.037      2.078      0.038       0.122       4.186\n",
       "Do Not Email_Yes                                        -1.5063      0.193     -7.785      0.000      -1.886      -1.127\n",
       "Last Activity_Had a Phone Conversation                   2.7515      0.802      3.432      0.001       1.180       4.323\n",
       "Last Activity_SMS Sent                                   1.1823      0.082     14.362      0.000       1.021       1.344\n",
       "What is your current occupation_Student                 -1.7017      0.588     -2.893      0.004      -2.855      -0.549\n",
       "What is your current occupation_Unemployed              -1.8879      0.550     -3.435      0.001      -2.965      -0.811\n",
       "What is your current occupation_Working Professional     0.7246      0.581      1.248      0.212      -0.413       1.862\n",
       "Last Notable Activity_Unreachable                        2.7834      0.807      3.448      0.001       1.201       4.365\n",
       "TotalVisits                                             11.2586      2.672      4.214      0.000       6.023      16.495\n",
       "Total Time Spent on Website                              4.4217      0.185     23.898      0.000       4.059       4.784\n",
       "========================================================================================================================\n",
       "\"\"\""
      ]
     },
     "execution_count": 166,
     "metadata": {},
     "output_type": "execute_result"
    }
   ],
   "source": [
    "logm1 = sm.GLM(y_train.astype(float),X_train_sm.astype(float), family = sm.families.Binomial())\n",
    "res= logm1.fit()\n",
    "res.summary()"
   ]
  },
  {
   "cell_type": "code",
   "execution_count": 167,
   "id": "bfdb5696-f421-4e0e-a1dc-c3638dc34e5a",
   "metadata": {},
   "outputs": [
    {
     "data": {
      "text/html": [
       "<div>\n",
       "<style scoped>\n",
       "    .dataframe tbody tr th:only-of-type {\n",
       "        vertical-align: middle;\n",
       "    }\n",
       "\n",
       "    .dataframe tbody tr th {\n",
       "        vertical-align: top;\n",
       "    }\n",
       "\n",
       "    .dataframe thead th {\n",
       "        text-align: right;\n",
       "    }\n",
       "</style>\n",
       "<table border=\"1\" class=\"dataframe\">\n",
       "  <thead>\n",
       "    <tr style=\"text-align: right;\">\n",
       "      <th></th>\n",
       "      <th>Features</th>\n",
       "      <th>VIF</th>\n",
       "    </tr>\n",
       "  </thead>\n",
       "  <tbody>\n",
       "    <tr>\n",
       "      <th>0</th>\n",
       "      <td>const</td>\n",
       "      <td>183.29</td>\n",
       "    </tr>\n",
       "    <tr>\n",
       "      <th>8</th>\n",
       "      <td>What is your current occupation_Unemployed</td>\n",
       "      <td>21.50</td>\n",
       "    </tr>\n",
       "    <tr>\n",
       "      <th>9</th>\n",
       "      <td>What is your current occupation_Working Profes...</td>\n",
       "      <td>17.60</td>\n",
       "    </tr>\n",
       "    <tr>\n",
       "      <th>7</th>\n",
       "      <td>What is your current occupation_Student</td>\n",
       "      <td>6.02</td>\n",
       "    </tr>\n",
       "    <tr>\n",
       "      <th>1</th>\n",
       "      <td>Lead Origin_Lead Add Form</td>\n",
       "      <td>1.55</td>\n",
       "    </tr>\n",
       "    <tr>\n",
       "      <th>3</th>\n",
       "      <td>Lead Source_Welingak Website</td>\n",
       "      <td>1.30</td>\n",
       "    </tr>\n",
       "    <tr>\n",
       "      <th>12</th>\n",
       "      <td>Total Time Spent on Website</td>\n",
       "      <td>1.27</td>\n",
       "    </tr>\n",
       "    <tr>\n",
       "      <th>2</th>\n",
       "      <td>Lead Source_Olark Chat</td>\n",
       "      <td>1.24</td>\n",
       "    </tr>\n",
       "    <tr>\n",
       "      <th>11</th>\n",
       "      <td>TotalVisits</td>\n",
       "      <td>1.13</td>\n",
       "    </tr>\n",
       "    <tr>\n",
       "      <th>6</th>\n",
       "      <td>Last Activity_SMS Sent</td>\n",
       "      <td>1.05</td>\n",
       "    </tr>\n",
       "    <tr>\n",
       "      <th>4</th>\n",
       "      <td>Do Not Email_Yes</td>\n",
       "      <td>1.01</td>\n",
       "    </tr>\n",
       "    <tr>\n",
       "      <th>5</th>\n",
       "      <td>Last Activity_Had a Phone Conversation</td>\n",
       "      <td>1.00</td>\n",
       "    </tr>\n",
       "    <tr>\n",
       "      <th>10</th>\n",
       "      <td>Last Notable Activity_Unreachable</td>\n",
       "      <td>1.00</td>\n",
       "    </tr>\n",
       "  </tbody>\n",
       "</table>\n",
       "</div>"
      ],
      "text/plain": [
       "                                             Features     VIF\n",
       "0                                               const  183.29\n",
       "8          What is your current occupation_Unemployed   21.50\n",
       "9   What is your current occupation_Working Profes...   17.60\n",
       "7             What is your current occupation_Student    6.02\n",
       "1                           Lead Origin_Lead Add Form    1.55\n",
       "3                        Lead Source_Welingak Website    1.30\n",
       "12                        Total Time Spent on Website    1.27\n",
       "2                              Lead Source_Olark Chat    1.24\n",
       "11                                        TotalVisits    1.13\n",
       "6                              Last Activity_SMS Sent    1.05\n",
       "4                                    Do Not Email_Yes    1.01\n",
       "5              Last Activity_Had a Phone Conversation    1.00\n",
       "10                  Last Notable Activity_Unreachable    1.00"
      ]
     },
     "execution_count": 167,
     "metadata": {},
     "output_type": "execute_result"
    }
   ],
   "source": [
    "## checking the VIF \n",
    "vif = pd.DataFrame()\n",
    "vif['Features'] = X_train_sm.columns\n",
    "vif['VIF'] = [variance_inflation_factor(X_train_sm.values, i) for i in range(X_train_sm.shape[1])]\n",
    "vif['VIF'] = round(vif['VIF'], 2)\n",
    "vif = vif.sort_values(by = \"VIF\", ascending = False)\n",
    "vif"
   ]
  },
  {
   "cell_type": "markdown",
   "id": "c523e80e-c228-4f7c-8b6a-204344001ae1",
   "metadata": {},
   "source": [
    "### Model 5 "
   ]
  },
  {
   "cell_type": "code",
   "execution_count": 168,
   "id": "a17b685e-510e-4f39-977a-cfc7d7cf7871",
   "metadata": {},
   "outputs": [],
   "source": [
    "## let's drop What is your current occupation_Working Professional as it has high p value among all variables \n",
    "X_train_sm.drop('What is your current occupation_Working Professional', axis = 1, inplace = True)"
   ]
  },
  {
   "cell_type": "code",
   "execution_count": 169,
   "id": "95b2a5e5-3d45-4a3c-8358-ac310e65e701",
   "metadata": {},
   "outputs": [
    {
     "data": {
      "text/html": [
       "<table class=\"simpletable\">\n",
       "<caption>Generalized Linear Model Regression Results</caption>\n",
       "<tr>\n",
       "  <th>Dep. Variable:</th>       <td>Converted</td>    <th>  No. Observations:  </th>  <td>  4461</td> \n",
       "</tr>\n",
       "<tr>\n",
       "  <th>Model:</th>                  <td>GLM</td>       <th>  Df Residuals:      </th>  <td>  4449</td> \n",
       "</tr>\n",
       "<tr>\n",
       "  <th>Model Family:</th>        <td>Binomial</td>     <th>  Df Model:          </th>  <td>    11</td> \n",
       "</tr>\n",
       "<tr>\n",
       "  <th>Link Function:</th>         <td>Logit</td>      <th>  Scale:             </th> <td>  1.0000</td>\n",
       "</tr>\n",
       "<tr>\n",
       "  <th>Method:</th>                <td>IRLS</td>       <th>  Log-Likelihood:    </th> <td> -2079.1</td>\n",
       "</tr>\n",
       "<tr>\n",
       "  <th>Date:</th>            <td>Tue, 21 May 2024</td> <th>  Deviance:          </th> <td>  4158.1</td>\n",
       "</tr>\n",
       "<tr>\n",
       "  <th>Time:</th>                <td>15:14:09</td>     <th>  Pearson chi2:      </th> <td>4.80e+03</td>\n",
       "</tr>\n",
       "<tr>\n",
       "  <th>No. Iterations:</th>          <td>7</td>        <th>  Pseudo R-squ. (CS):</th>  <td>0.3642</td> \n",
       "</tr>\n",
       "<tr>\n",
       "  <th>Covariance Type:</th>     <td>nonrobust</td>    <th>                     </th>     <td> </td>   \n",
       "</tr>\n",
       "</table>\n",
       "<table class=\"simpletable\">\n",
       "<tr>\n",
       "                       <td></td>                         <th>coef</th>     <th>std err</th>      <th>z</th>      <th>P>|z|</th>  <th>[0.025</th>    <th>0.975]</th>  \n",
       "</tr>\n",
       "<tr>\n",
       "  <th>const</th>                                      <td>    0.2040</td> <td>    0.196</td> <td>    1.043</td> <td> 0.297</td> <td>   -0.179</td> <td>    0.587</td>\n",
       "</tr>\n",
       "<tr>\n",
       "  <th>Lead Origin_Lead Add Form</th>                  <td>    4.2051</td> <td>    0.258</td> <td>   16.275</td> <td> 0.000</td> <td>    3.699</td> <td>    4.712</td>\n",
       "</tr>\n",
       "<tr>\n",
       "  <th>Lead Source_Olark Chat</th>                     <td>    1.4526</td> <td>    0.122</td> <td>   11.934</td> <td> 0.000</td> <td>    1.214</td> <td>    1.691</td>\n",
       "</tr>\n",
       "<tr>\n",
       "  <th>Lead Source_Welingak Website</th>               <td>    2.1526</td> <td>    1.037</td> <td>    2.076</td> <td> 0.038</td> <td>    0.121</td> <td>    4.185</td>\n",
       "</tr>\n",
       "<tr>\n",
       "  <th>Do Not Email_Yes</th>                           <td>   -1.5037</td> <td>    0.193</td> <td>   -7.774</td> <td> 0.000</td> <td>   -1.883</td> <td>   -1.125</td>\n",
       "</tr>\n",
       "<tr>\n",
       "  <th>Last Activity_Had a Phone Conversation</th>     <td>    2.7552</td> <td>    0.802</td> <td>    3.438</td> <td> 0.001</td> <td>    1.184</td> <td>    4.326</td>\n",
       "</tr>\n",
       "<tr>\n",
       "  <th>Last Activity_SMS Sent</th>                     <td>    1.1856</td> <td>    0.082</td> <td>   14.421</td> <td> 0.000</td> <td>    1.024</td> <td>    1.347</td>\n",
       "</tr>\n",
       "<tr>\n",
       "  <th>What is your current occupation_Student</th>    <td>   -2.3578</td> <td>    0.281</td> <td>   -8.392</td> <td> 0.000</td> <td>   -2.908</td> <td>   -1.807</td>\n",
       "</tr>\n",
       "<tr>\n",
       "  <th>What is your current occupation_Unemployed</th> <td>   -2.5445</td> <td>    0.186</td> <td>  -13.699</td> <td> 0.000</td> <td>   -2.908</td> <td>   -2.180</td>\n",
       "</tr>\n",
       "<tr>\n",
       "  <th>Last Notable Activity_Unreachable</th>          <td>    2.7846</td> <td>    0.807</td> <td>    3.449</td> <td> 0.001</td> <td>    1.202</td> <td>    4.367</td>\n",
       "</tr>\n",
       "<tr>\n",
       "  <th>TotalVisits</th>                                <td>   11.1489</td> <td>    2.665</td> <td>    4.184</td> <td> 0.000</td> <td>    5.926</td> <td>   16.371</td>\n",
       "</tr>\n",
       "<tr>\n",
       "  <th>Total Time Spent on Website</th>                <td>    4.4223</td> <td>    0.185</td> <td>   23.899</td> <td> 0.000</td> <td>    4.060</td> <td>    4.785</td>\n",
       "</tr>\n",
       "</table>"
      ],
      "text/latex": [
       "\\begin{center}\n",
       "\\begin{tabular}{lclc}\n",
       "\\toprule\n",
       "\\textbf{Dep. Variable:}                              &    Converted     & \\textbf{  No. Observations:  } &     4461    \\\\\n",
       "\\textbf{Model:}                                      &       GLM        & \\textbf{  Df Residuals:      } &     4449    \\\\\n",
       "\\textbf{Model Family:}                               &     Binomial     & \\textbf{  Df Model:          } &       11    \\\\\n",
       "\\textbf{Link Function:}                              &      Logit       & \\textbf{  Scale:             } &    1.0000   \\\\\n",
       "\\textbf{Method:}                                     &       IRLS       & \\textbf{  Log-Likelihood:    } &   -2079.1   \\\\\n",
       "\\textbf{Date:}                                       & Tue, 21 May 2024 & \\textbf{  Deviance:          } &    4158.1   \\\\\n",
       "\\textbf{Time:}                                       &     15:14:09     & \\textbf{  Pearson chi2:      } &  4.80e+03   \\\\\n",
       "\\textbf{No. Iterations:}                             &        7         & \\textbf{  Pseudo R-squ. (CS):} &   0.3642    \\\\\n",
       "\\textbf{Covariance Type:}                            &    nonrobust     & \\textbf{                     } &             \\\\\n",
       "\\bottomrule\n",
       "\\end{tabular}\n",
       "\\begin{tabular}{lcccccc}\n",
       "                                                     & \\textbf{coef} & \\textbf{std err} & \\textbf{z} & \\textbf{P$> |$z$|$} & \\textbf{[0.025} & \\textbf{0.975]}  \\\\\n",
       "\\midrule\n",
       "\\textbf{const}                                       &       0.2040  &        0.196     &     1.043  &         0.297        &       -0.179    &        0.587     \\\\\n",
       "\\textbf{Lead Origin\\_Lead Add Form}                  &       4.2051  &        0.258     &    16.275  &         0.000        &        3.699    &        4.712     \\\\\n",
       "\\textbf{Lead Source\\_Olark Chat}                     &       1.4526  &        0.122     &    11.934  &         0.000        &        1.214    &        1.691     \\\\\n",
       "\\textbf{Lead Source\\_Welingak Website}               &       2.1526  &        1.037     &     2.076  &         0.038        &        0.121    &        4.185     \\\\\n",
       "\\textbf{Do Not Email\\_Yes}                           &      -1.5037  &        0.193     &    -7.774  &         0.000        &       -1.883    &       -1.125     \\\\\n",
       "\\textbf{Last Activity\\_Had a Phone Conversation}     &       2.7552  &        0.802     &     3.438  &         0.001        &        1.184    &        4.326     \\\\\n",
       "\\textbf{Last Activity\\_SMS Sent}                     &       1.1856  &        0.082     &    14.421  &         0.000        &        1.024    &        1.347     \\\\\n",
       "\\textbf{What is your current occupation\\_Student}    &      -2.3578  &        0.281     &    -8.392  &         0.000        &       -2.908    &       -1.807     \\\\\n",
       "\\textbf{What is your current occupation\\_Unemployed} &      -2.5445  &        0.186     &   -13.699  &         0.000        &       -2.908    &       -2.180     \\\\\n",
       "\\textbf{Last Notable Activity\\_Unreachable}          &       2.7846  &        0.807     &     3.449  &         0.001        &        1.202    &        4.367     \\\\\n",
       "\\textbf{TotalVisits}                                 &      11.1489  &        2.665     &     4.184  &         0.000        &        5.926    &       16.371     \\\\\n",
       "\\textbf{Total Time Spent on Website}                 &       4.4223  &        0.185     &    23.899  &         0.000        &        4.060    &        4.785     \\\\\n",
       "\\bottomrule\n",
       "\\end{tabular}\n",
       "%\\caption{Generalized Linear Model Regression Results}\n",
       "\\end{center}"
      ],
      "text/plain": [
       "<class 'statsmodels.iolib.summary.Summary'>\n",
       "\"\"\"\n",
       "                 Generalized Linear Model Regression Results                  \n",
       "==============================================================================\n",
       "Dep. Variable:              Converted   No. Observations:                 4461\n",
       "Model:                            GLM   Df Residuals:                     4449\n",
       "Model Family:                Binomial   Df Model:                           11\n",
       "Link Function:                  Logit   Scale:                          1.0000\n",
       "Method:                          IRLS   Log-Likelihood:                -2079.1\n",
       "Date:                Tue, 21 May 2024   Deviance:                       4158.1\n",
       "Time:                        15:14:09   Pearson chi2:                 4.80e+03\n",
       "No. Iterations:                     7   Pseudo R-squ. (CS):             0.3642\n",
       "Covariance Type:            nonrobust                                         \n",
       "==============================================================================================================\n",
       "                                                 coef    std err          z      P>|z|      [0.025      0.975]\n",
       "--------------------------------------------------------------------------------------------------------------\n",
       "const                                          0.2040      0.196      1.043      0.297      -0.179       0.587\n",
       "Lead Origin_Lead Add Form                      4.2051      0.258     16.275      0.000       3.699       4.712\n",
       "Lead Source_Olark Chat                         1.4526      0.122     11.934      0.000       1.214       1.691\n",
       "Lead Source_Welingak Website                   2.1526      1.037      2.076      0.038       0.121       4.185\n",
       "Do Not Email_Yes                              -1.5037      0.193     -7.774      0.000      -1.883      -1.125\n",
       "Last Activity_Had a Phone Conversation         2.7552      0.802      3.438      0.001       1.184       4.326\n",
       "Last Activity_SMS Sent                         1.1856      0.082     14.421      0.000       1.024       1.347\n",
       "What is your current occupation_Student       -2.3578      0.281     -8.392      0.000      -2.908      -1.807\n",
       "What is your current occupation_Unemployed    -2.5445      0.186    -13.699      0.000      -2.908      -2.180\n",
       "Last Notable Activity_Unreachable              2.7846      0.807      3.449      0.001       1.202       4.367\n",
       "TotalVisits                                   11.1489      2.665      4.184      0.000       5.926      16.371\n",
       "Total Time Spent on Website                    4.4223      0.185     23.899      0.000       4.060       4.785\n",
       "==============================================================================================================\n",
       "\"\"\""
      ]
     },
     "execution_count": 169,
     "metadata": {},
     "output_type": "execute_result"
    }
   ],
   "source": [
    "logm1 = sm.GLM(y_train.astype(float),X_train_sm.astype(float), family = sm.families.Binomial())\n",
    "res= logm1.fit()\n",
    "res.summary()"
   ]
  },
  {
   "cell_type": "code",
   "execution_count": 170,
   "id": "7e4ee0fe-efea-47a8-9202-009a887f2027",
   "metadata": {},
   "outputs": [
    {
     "data": {
      "text/html": [
       "<div>\n",
       "<style scoped>\n",
       "    .dataframe tbody tr th:only-of-type {\n",
       "        vertical-align: middle;\n",
       "    }\n",
       "\n",
       "    .dataframe tbody tr th {\n",
       "        vertical-align: top;\n",
       "    }\n",
       "\n",
       "    .dataframe thead th {\n",
       "        text-align: right;\n",
       "    }\n",
       "</style>\n",
       "<table border=\"1\" class=\"dataframe\">\n",
       "  <thead>\n",
       "    <tr style=\"text-align: right;\">\n",
       "      <th></th>\n",
       "      <th>Features</th>\n",
       "      <th>VIF</th>\n",
       "    </tr>\n",
       "  </thead>\n",
       "  <tbody>\n",
       "    <tr>\n",
       "      <th>0</th>\n",
       "      <td>const</td>\n",
       "      <td>14.54</td>\n",
       "    </tr>\n",
       "    <tr>\n",
       "      <th>1</th>\n",
       "      <td>Lead Origin_Lead Add Form</td>\n",
       "      <td>1.55</td>\n",
       "    </tr>\n",
       "    <tr>\n",
       "      <th>8</th>\n",
       "      <td>What is your current occupation_Unemployed</td>\n",
       "      <td>1.33</td>\n",
       "    </tr>\n",
       "    <tr>\n",
       "      <th>3</th>\n",
       "      <td>Lead Source_Welingak Website</td>\n",
       "      <td>1.30</td>\n",
       "    </tr>\n",
       "    <tr>\n",
       "      <th>11</th>\n",
       "      <td>Total Time Spent on Website</td>\n",
       "      <td>1.27</td>\n",
       "    </tr>\n",
       "    <tr>\n",
       "      <th>7</th>\n",
       "      <td>What is your current occupation_Student</td>\n",
       "      <td>1.26</td>\n",
       "    </tr>\n",
       "    <tr>\n",
       "      <th>2</th>\n",
       "      <td>Lead Source_Olark Chat</td>\n",
       "      <td>1.24</td>\n",
       "    </tr>\n",
       "    <tr>\n",
       "      <th>10</th>\n",
       "      <td>TotalVisits</td>\n",
       "      <td>1.12</td>\n",
       "    </tr>\n",
       "    <tr>\n",
       "      <th>6</th>\n",
       "      <td>Last Activity_SMS Sent</td>\n",
       "      <td>1.05</td>\n",
       "    </tr>\n",
       "    <tr>\n",
       "      <th>4</th>\n",
       "      <td>Do Not Email_Yes</td>\n",
       "      <td>1.01</td>\n",
       "    </tr>\n",
       "    <tr>\n",
       "      <th>5</th>\n",
       "      <td>Last Activity_Had a Phone Conversation</td>\n",
       "      <td>1.00</td>\n",
       "    </tr>\n",
       "    <tr>\n",
       "      <th>9</th>\n",
       "      <td>Last Notable Activity_Unreachable</td>\n",
       "      <td>1.00</td>\n",
       "    </tr>\n",
       "  </tbody>\n",
       "</table>\n",
       "</div>"
      ],
      "text/plain": [
       "                                      Features    VIF\n",
       "0                                        const  14.54\n",
       "1                    Lead Origin_Lead Add Form   1.55\n",
       "8   What is your current occupation_Unemployed   1.33\n",
       "3                 Lead Source_Welingak Website   1.30\n",
       "11                 Total Time Spent on Website   1.27\n",
       "7      What is your current occupation_Student   1.26\n",
       "2                       Lead Source_Olark Chat   1.24\n",
       "10                                 TotalVisits   1.12\n",
       "6                       Last Activity_SMS Sent   1.05\n",
       "4                             Do Not Email_Yes   1.01\n",
       "5       Last Activity_Had a Phone Conversation   1.00\n",
       "9            Last Notable Activity_Unreachable   1.00"
      ]
     },
     "execution_count": 170,
     "metadata": {},
     "output_type": "execute_result"
    }
   ],
   "source": [
    "vif = pd.DataFrame()\n",
    "vif['Features'] = X_train_sm.columns\n",
    "vif['VIF'] = [variance_inflation_factor(X_train_sm.values, i) for i in range(X_train_sm.shape[1])]\n",
    "vif['VIF'] = round(vif['VIF'], 2)\n",
    "vif = vif.sort_values(by = \"VIF\", ascending = False)\n",
    "vif"
   ]
  },
  {
   "cell_type": "code",
   "execution_count": null,
   "id": "e9cdd8f4-d65f-4ca0-b806-a019898ff9bc",
   "metadata": {},
   "outputs": [],
   "source": [
    "## both p-value and vif seem to be decent so proceed for model evaluation "
   ]
  },
  {
   "cell_type": "markdown",
   "id": "07fd7f9f-368f-442a-94e5-cbbf31430206",
   "metadata": {},
   "source": [
    "## Model Evaluation "
   ]
  },
  {
   "cell_type": "code",
   "execution_count": 171,
   "id": "3195893c-03af-4030-8760-6402c308a80e",
   "metadata": {},
   "outputs": [],
   "source": [
    "y_train_pred= res.predict(X_train_sm)"
   ]
  },
  {
   "cell_type": "code",
   "execution_count": 172,
   "id": "fea02bb6-373c-4cc5-bd53-1bc4fdd4c52e",
   "metadata": {},
   "outputs": [
    {
     "data": {
      "text/plain": [
       "8003    0.300117\n",
       "218     0.142002\n",
       "4171    0.127629\n",
       "4037    0.291558\n",
       "3660    0.954795\n",
       "          ...   \n",
       "8759    0.954795\n",
       "100     0.759334\n",
       "5877    0.909280\n",
       "8658    0.208249\n",
       "8217    0.370186\n",
       "Length: 4461, dtype: float64"
      ]
     },
     "execution_count": 172,
     "metadata": {},
     "output_type": "execute_result"
    }
   ],
   "source": [
    "y_train_pred"
   ]
  },
  {
   "cell_type": "code",
   "execution_count": 173,
   "id": "0bdbb848-8312-4b4a-b909-0c752b711204",
   "metadata": {},
   "outputs": [
    {
     "data": {
      "text/plain": [
       "array([0.30011695, 0.14200165, 0.12762885, ..., 0.90928046, 0.20824893,\n",
       "       0.37018595])"
      ]
     },
     "execution_count": 173,
     "metadata": {},
     "output_type": "execute_result"
    }
   ],
   "source": [
    "## we need to reshape or else it will throw error \n",
    "y_train_pred = y_train_pred.values.reshape(-1)\n",
    "y_train_pred"
   ]
  },
  {
   "cell_type": "code",
   "execution_count": 174,
   "id": "47d8fd7a-35bc-4de1-a6e0-2a282fc2458c",
   "metadata": {},
   "outputs": [
    {
     "data": {
      "text/html": [
       "<div>\n",
       "<style scoped>\n",
       "    .dataframe tbody tr th:only-of-type {\n",
       "        vertical-align: middle;\n",
       "    }\n",
       "\n",
       "    .dataframe tbody tr th {\n",
       "        vertical-align: top;\n",
       "    }\n",
       "\n",
       "    .dataframe thead th {\n",
       "        text-align: right;\n",
       "    }\n",
       "</style>\n",
       "<table border=\"1\" class=\"dataframe\">\n",
       "  <thead>\n",
       "    <tr style=\"text-align: right;\">\n",
       "      <th></th>\n",
       "      <th>Converted</th>\n",
       "      <th>Conversion_probability</th>\n",
       "    </tr>\n",
       "  </thead>\n",
       "  <tbody>\n",
       "    <tr>\n",
       "      <th>0</th>\n",
       "      <td>0</td>\n",
       "      <td>0.300117</td>\n",
       "    </tr>\n",
       "    <tr>\n",
       "      <th>1</th>\n",
       "      <td>0</td>\n",
       "      <td>0.142002</td>\n",
       "    </tr>\n",
       "    <tr>\n",
       "      <th>2</th>\n",
       "      <td>1</td>\n",
       "      <td>0.127629</td>\n",
       "    </tr>\n",
       "    <tr>\n",
       "      <th>3</th>\n",
       "      <td>1</td>\n",
       "      <td>0.291558</td>\n",
       "    </tr>\n",
       "    <tr>\n",
       "      <th>4</th>\n",
       "      <td>1</td>\n",
       "      <td>0.954795</td>\n",
       "    </tr>\n",
       "  </tbody>\n",
       "</table>\n",
       "</div>"
      ],
      "text/plain": [
       "  Converted  Conversion_probability\n",
       "0         0                0.300117\n",
       "1         0                0.142002\n",
       "2         1                0.127629\n",
       "3         1                0.291558\n",
       "4         1                0.954795"
      ]
     },
     "execution_count": 174,
     "metadata": {},
     "output_type": "execute_result"
    }
   ],
   "source": [
    "## create dataframe with conversion probabilities \n",
    "y_train_pred_prob = pd.DataFrame({'Converted': y_train.values, 'Conversion_probability' : y_train_pred}) \n",
    "\n",
    "#y_train_pred_final = pd.DataFrame({'Converted':y_train.values, 'Conversion_Prob':y_train_pred})\n",
    "y_train_pred_prob.head()\n"
   ]
  },
  {
   "cell_type": "code",
   "execution_count": 175,
   "id": "6f383305-9797-44a9-8372-199a99d2632f",
   "metadata": {},
   "outputs": [
    {
     "data": {
      "text/html": [
       "<div>\n",
       "<style scoped>\n",
       "    .dataframe tbody tr th:only-of-type {\n",
       "        vertical-align: middle;\n",
       "    }\n",
       "\n",
       "    .dataframe tbody tr th {\n",
       "        vertical-align: top;\n",
       "    }\n",
       "\n",
       "    .dataframe thead th {\n",
       "        text-align: right;\n",
       "    }\n",
       "</style>\n",
       "<table border=\"1\" class=\"dataframe\">\n",
       "  <thead>\n",
       "    <tr style=\"text-align: right;\">\n",
       "      <th></th>\n",
       "      <th>Converted</th>\n",
       "      <th>Conversion_probability</th>\n",
       "      <th>Predicted</th>\n",
       "    </tr>\n",
       "  </thead>\n",
       "  <tbody>\n",
       "    <tr>\n",
       "      <th>0</th>\n",
       "      <td>0</td>\n",
       "      <td>0.300117</td>\n",
       "      <td>0</td>\n",
       "    </tr>\n",
       "    <tr>\n",
       "      <th>1</th>\n",
       "      <td>0</td>\n",
       "      <td>0.142002</td>\n",
       "      <td>0</td>\n",
       "    </tr>\n",
       "    <tr>\n",
       "      <th>2</th>\n",
       "      <td>1</td>\n",
       "      <td>0.127629</td>\n",
       "      <td>0</td>\n",
       "    </tr>\n",
       "    <tr>\n",
       "      <th>3</th>\n",
       "      <td>1</td>\n",
       "      <td>0.291558</td>\n",
       "      <td>0</td>\n",
       "    </tr>\n",
       "    <tr>\n",
       "      <th>4</th>\n",
       "      <td>1</td>\n",
       "      <td>0.954795</td>\n",
       "      <td>1</td>\n",
       "    </tr>\n",
       "  </tbody>\n",
       "</table>\n",
       "</div>"
      ],
      "text/plain": [
       "  Converted  Conversion_probability  Predicted\n",
       "0         0                0.300117          0\n",
       "1         0                0.142002          0\n",
       "2         1                0.127629          0\n",
       "3         1                0.291558          0\n",
       "4         1                0.954795          1"
      ]
     },
     "execution_count": 175,
     "metadata": {},
     "output_type": "execute_result"
    }
   ],
   "source": [
    "## let's take arbitary cut_off as 0.5 to  seggregate the rows \n",
    "y_train_pred_prob['Predicted']= y_train_pred_prob.Conversion_probability.map(lambda x: 1 if x > 0.5 else 0)\n",
    "\n",
    "\n",
    "y_train_pred_prob.head()"
   ]
  },
  {
   "cell_type": "code",
   "execution_count": 176,
   "id": "bf39062d-5672-40c6-b2a1-b61ccd7a9253",
   "metadata": {},
   "outputs": [
    {
     "name": "stdout",
     "output_type": "stream",
     "text": [
      "<class 'pandas.core.frame.DataFrame'>\n",
      "RangeIndex: 4461 entries, 0 to 4460\n",
      "Data columns (total 3 columns):\n",
      " #   Column                  Non-Null Count  Dtype  \n",
      "---  ------                  --------------  -----  \n",
      " 0   Converted               4461 non-null   object \n",
      " 1   Conversion_probability  4461 non-null   float64\n",
      " 2   Predicted               4461 non-null   int64  \n",
      "dtypes: float64(1), int64(1), object(1)\n",
      "memory usage: 104.7+ KB\n"
     ]
    }
   ],
   "source": [
    "y_train_pred_prob.info()"
   ]
  },
  {
   "cell_type": "markdown",
   "id": "f501f766-6efd-4320-ba76-587c8e2080fb",
   "metadata": {},
   "source": [
    "## Evaluation using metrics "
   ]
  },
  {
   "cell_type": "code",
   "execution_count": 177,
   "id": "0dbac4ad-7f5d-4d1c-a7f1-99db823245b1",
   "metadata": {},
   "outputs": [],
   "source": [
    "y_train_pred_prob['Predicted']= y_train_pred_prob['Predicted'].astype(str)"
   ]
  },
  {
   "cell_type": "code",
   "execution_count": 178,
   "id": "4913bcd5-5251-4a19-8de2-71831cd13988",
   "metadata": {},
   "outputs": [
    {
     "name": "stdout",
     "output_type": "stream",
     "text": [
      "[[1929  383]\n",
      " [ 560 1589]]\n"
     ]
    }
   ],
   "source": [
    "# Confusion matrix \n",
    "cf = metrics.confusion_matrix(y_train_pred_prob.Converted, y_train_pred_prob.Predicted )\n",
    "print(cf)"
   ]
  },
  {
   "cell_type": "code",
   "execution_count": 179,
   "id": "e5abb9d8-a378-4135-85d6-2b02b6c8bd51",
   "metadata": {},
   "outputs": [
    {
     "name": "stdout",
     "output_type": "stream",
     "text": [
      "0.7886124187401928\n"
     ]
    }
   ],
   "source": [
    "## accuracy \n",
    "# Let's check the overall accuracy\n",
    "\n",
    "print(metrics.accuracy_score(y_train_pred_prob.Converted, y_train_pred_prob.Predicted))"
   ]
  },
  {
   "cell_type": "code",
   "execution_count": 180,
   "id": "a57fbbef-921a-42cd-83b3-06640d25962d",
   "metadata": {},
   "outputs": [],
   "source": [
    "# Let's evaluate the other metrics as well\n",
    "\n",
    "TP = cf[1,1] # true positive \n",
    "TN = cf[0,0] # true negatives\n",
    "FP = cf[0,1] # false positives\n",
    "FN = cf[1,0] # false negatives"
   ]
  },
  {
   "cell_type": "code",
   "execution_count": 181,
   "id": "7b518bf0-61c7-4837-8816-c3300c928a6d",
   "metadata": {},
   "outputs": [],
   "source": [
    "sensitivity = TP/(TP+FN)\n"
   ]
  },
  {
   "cell_type": "code",
   "execution_count": 182,
   "id": "af7773b1-86bc-4eb0-b8af-c4691bce8838",
   "metadata": {},
   "outputs": [
    {
     "data": {
      "text/plain": [
       "0.739413680781759"
      ]
     },
     "execution_count": 182,
     "metadata": {},
     "output_type": "execute_result"
    }
   ],
   "source": [
    "sensitivity"
   ]
  },
  {
   "cell_type": "code",
   "execution_count": 183,
   "id": "9593061a-2dad-4ea3-b7ba-736c9bdbb77f",
   "metadata": {},
   "outputs": [],
   "source": [
    "specificity = TN/(TN+FP)"
   ]
  },
  {
   "cell_type": "code",
   "execution_count": 184,
   "id": "a32dfa21-9cca-469f-8296-29c15e986784",
   "metadata": {},
   "outputs": [
    {
     "data": {
      "text/plain": [
       "0.8343425605536332"
      ]
     },
     "execution_count": 184,
     "metadata": {},
     "output_type": "execute_result"
    }
   ],
   "source": [
    "specificity"
   ]
  },
  {
   "cell_type": "code",
   "execution_count": 185,
   "id": "2ae8ec5b-718d-4db5-ad8b-efb57dc9e604",
   "metadata": {},
   "outputs": [
    {
     "data": {
      "text/plain": [
       "0.8057809330628803"
      ]
     },
     "execution_count": 185,
     "metadata": {},
     "output_type": "execute_result"
    }
   ],
   "source": [
    "precision =  TP/(TP+FP)\n",
    "precision"
   ]
  },
  {
   "cell_type": "code",
   "execution_count": 186,
   "id": "0867a807-b68b-464f-be02-b3e5bf52b85a",
   "metadata": {},
   "outputs": [
    {
     "data": {
      "text/plain": [
       "0.739413680781759"
      ]
     },
     "execution_count": 186,
     "metadata": {},
     "output_type": "execute_result"
    }
   ],
   "source": [
    "recall  =  TP/(TP+FN)\n",
    "recall "
   ]
  },
  {
   "cell_type": "markdown",
   "id": "6bab5e29-02d6-4edf-a99b-39381d54b6f7",
   "metadata": {},
   "source": [
    " ### Train set metrics \n",
    "#### accuracy = 78%\n",
    "#### precision = 80%\n",
    "#### recall = 73%"
   ]
  },
  {
   "cell_type": "markdown",
   "id": "f4cf1034-93bf-4aaa-ab9d-c626540fc058",
   "metadata": {},
   "source": [
    "## Make predictions on the test set "
   ]
  },
  {
   "cell_type": "code",
   "execution_count": 187,
   "id": "f8649508-d149-4735-ad32-1be6d3e0a9c7",
   "metadata": {},
   "outputs": [],
   "source": [
    "## scaling the test set numerical variables\n",
    "X_test[['TotalVisits','Page Views Per Visit','Total Time Spent on Website']]= scaler.fit_transform(X_test[['TotalVisits','Page Views Per Visit','Total Time Spent on Website']])"
   ]
  },
  {
   "cell_type": "code",
   "execution_count": 188,
   "id": "1630ec7a-076d-4e8e-a88e-8bb73ccf6812",
   "metadata": {},
   "outputs": [
    {
     "data": {
      "text/html": [
       "<div>\n",
       "<style scoped>\n",
       "    .dataframe tbody tr th:only-of-type {\n",
       "        vertical-align: middle;\n",
       "    }\n",
       "\n",
       "    .dataframe tbody tr th {\n",
       "        vertical-align: top;\n",
       "    }\n",
       "\n",
       "    .dataframe thead th {\n",
       "        text-align: right;\n",
       "    }\n",
       "</style>\n",
       "<table border=\"1\" class=\"dataframe\">\n",
       "  <thead>\n",
       "    <tr style=\"text-align: right;\">\n",
       "      <th></th>\n",
       "      <th>TotalVisits</th>\n",
       "      <th>Page Views Per Visit</th>\n",
       "      <th>Total Time Spent on Website</th>\n",
       "    </tr>\n",
       "  </thead>\n",
       "  <tbody>\n",
       "    <tr>\n",
       "      <th>4771</th>\n",
       "      <td>0.000000</td>\n",
       "      <td>0.000000</td>\n",
       "      <td>0.000000</td>\n",
       "    </tr>\n",
       "    <tr>\n",
       "      <th>6122</th>\n",
       "      <td>0.094595</td>\n",
       "      <td>0.127273</td>\n",
       "      <td>0.029294</td>\n",
       "    </tr>\n",
       "    <tr>\n",
       "      <th>9202</th>\n",
       "      <td>0.054054</td>\n",
       "      <td>0.072727</td>\n",
       "      <td>0.420328</td>\n",
       "    </tr>\n",
       "    <tr>\n",
       "      <th>6570</th>\n",
       "      <td>0.040541</td>\n",
       "      <td>0.054545</td>\n",
       "      <td>0.382157</td>\n",
       "    </tr>\n",
       "    <tr>\n",
       "      <th>2668</th>\n",
       "      <td>0.108108</td>\n",
       "      <td>0.072727</td>\n",
       "      <td>0.398580</td>\n",
       "    </tr>\n",
       "  </tbody>\n",
       "</table>\n",
       "</div>"
      ],
      "text/plain": [
       "      TotalVisits  Page Views Per Visit  Total Time Spent on Website\n",
       "4771     0.000000              0.000000                     0.000000\n",
       "6122     0.094595              0.127273                     0.029294\n",
       "9202     0.054054              0.072727                     0.420328\n",
       "6570     0.040541              0.054545                     0.382157\n",
       "2668     0.108108              0.072727                     0.398580"
      ]
     },
     "execution_count": 188,
     "metadata": {},
     "output_type": "execute_result"
    }
   ],
   "source": [
    "## verifying if scaling done or not properly\n",
    "X_test[['TotalVisits','Page Views Per Visit','Total Time Spent on Website']].head()"
   ]
  },
  {
   "cell_type": "code",
   "execution_count": 189,
   "id": "cd62c311-e671-47e1-a7ec-1b6e86c33186",
   "metadata": {},
   "outputs": [
    {
     "data": {
      "text/plain": [
       "Index(['Lead Origin_Landing Page Submission', 'Lead Origin_Lead Add Form',\n",
       "       'Lead Origin_Lead Import', 'Lead Source_Direct Traffic',\n",
       "       'Lead Source_Facebook', 'Lead Source_Google', 'Lead Source_Live Chat',\n",
       "       'Lead Source_Olark Chat', 'Lead Source_Organic Search',\n",
       "       'Lead Source_Pay per Click Ads', 'Lead Source_Press_Release',\n",
       "       'Lead Source_Reference', 'Lead Source_Referral Sites',\n",
       "       'Lead Source_Social Media', 'Lead Source_WeLearn',\n",
       "       'Lead Source_Welingak Website', 'Lead Source_bing',\n",
       "       'Lead Source_testone', 'Do Not Email_Yes',\n",
       "       'Last Activity_Converted to Lead', 'Last Activity_Email Bounced',\n",
       "       'Last Activity_Email Link Clicked', 'Last Activity_Email Marked Spam',\n",
       "       'Last Activity_Email Opened', 'Last Activity_Email Received',\n",
       "       'Last Activity_Form Submitted on Website',\n",
       "       'Last Activity_Had a Phone Conversation',\n",
       "       'Last Activity_Olark Chat Conversation',\n",
       "       'Last Activity_Page Visited on Website', 'Last Activity_SMS Sent',\n",
       "       'Last Activity_Unreachable', 'Last Activity_Unsubscribed',\n",
       "       'Last Activity_View in browser link Clicked',\n",
       "       'Last Activity_Visited Booth in Tradeshow',\n",
       "       'What is your current occupation_Housewife',\n",
       "       'What is your current occupation_Other',\n",
       "       'What is your current occupation_Student',\n",
       "       'What is your current occupation_Unemployed',\n",
       "       'What is your current occupation_Working Professional',\n",
       "       'A free copy of Mastering The Interview_Yes',\n",
       "       'Last Notable Activity_Email Bounced',\n",
       "       'Last Notable Activity_Email Link Clicked',\n",
       "       'Last Notable Activity_Email Marked Spam',\n",
       "       'Last Notable Activity_Email Opened',\n",
       "       'Last Notable Activity_Email Received',\n",
       "       'Last Notable Activity_Had a Phone Conversation',\n",
       "       'Last Notable Activity_Modified',\n",
       "       'Last Notable Activity_Olark Chat Conversation',\n",
       "       'Last Notable Activity_Page Visited on Website',\n",
       "       'Last Notable Activity_SMS Sent', 'Last Notable Activity_Unreachable',\n",
       "       'Last Notable Activity_Unsubscribed',\n",
       "       'Last Notable Activity_View in browser link Clicked', 'TotalVisits',\n",
       "       'Total Time Spent on Website', 'Page Views Per Visit',\n",
       "       'Business Administration', 'E-Business', 'E-COMMERCE',\n",
       "       'Finance Management', 'Healthcare Management', 'Hospitality Management',\n",
       "       'Human Resource Management', 'IT Projects Management',\n",
       "       'International Business', 'Marketing Management',\n",
       "       'Media and Advertising', 'Operations Management', 'Retail Management',\n",
       "       'Rural and Agribusiness', 'Services Excellence',\n",
       "       'Supply Chain Management', 'Travel and Tourism'],\n",
       "      dtype='object')"
      ]
     },
     "execution_count": 189,
     "metadata": {},
     "output_type": "execute_result"
    }
   ],
   "source": [
    "## lets see the test set columns \n",
    "X_test.columns"
   ]
  },
  {
   "cell_type": "code",
   "execution_count": 190,
   "id": "86eebaa2-982c-4a85-9f17-12cb87babf43",
   "metadata": {},
   "outputs": [
    {
     "data": {
      "text/plain": [
       "Index(['Lead Origin_Lead Add Form', 'Lead Source_Olark Chat',\n",
       "       'Lead Source_Reference', 'Lead Source_Welingak Website',\n",
       "       'Do Not Email_Yes', 'Last Activity_Had a Phone Conversation',\n",
       "       'Last Activity_SMS Sent', 'What is your current occupation_Housewife',\n",
       "       'What is your current occupation_Student',\n",
       "       'What is your current occupation_Unemployed',\n",
       "       'What is your current occupation_Working Professional',\n",
       "       'Last Notable Activity_Had a Phone Conversation',\n",
       "       'Last Notable Activity_Unreachable', 'TotalVisits',\n",
       "       'Total Time Spent on Website'],\n",
       "      dtype='object')"
      ]
     },
     "execution_count": 190,
     "metadata": {},
     "output_type": "execute_result"
    }
   ],
   "source": [
    "## columns selected by RFE model \n",
    "\n",
    "col"
   ]
  },
  {
   "cell_type": "code",
   "execution_count": 191,
   "id": "ef9f6883-3ae7-4158-a05c-9b560ef68c68",
   "metadata": {},
   "outputs": [],
   "source": [
    "X_test= X_test[col]"
   ]
  },
  {
   "cell_type": "code",
   "execution_count": 192,
   "id": "fe797bad-dd42-4a97-9b3c-199d8452c84b",
   "metadata": {},
   "outputs": [],
   "source": [
    "X_test_sm = sm.add_constant(X_test)"
   ]
  },
  {
   "cell_type": "code",
   "execution_count": 193,
   "id": "5bc3631b-e5c1-4a2b-9335-b7e253e10f80",
   "metadata": {},
   "outputs": [
    {
     "data": {
      "text/plain": [
       "Index(['const', 'Lead Origin_Lead Add Form', 'Lead Source_Olark Chat',\n",
       "       'Lead Source_Reference', 'Lead Source_Welingak Website',\n",
       "       'Do Not Email_Yes', 'Last Activity_Had a Phone Conversation',\n",
       "       'Last Activity_SMS Sent', 'What is your current occupation_Housewife',\n",
       "       'What is your current occupation_Student',\n",
       "       'What is your current occupation_Unemployed',\n",
       "       'What is your current occupation_Working Professional',\n",
       "       'Last Notable Activity_Had a Phone Conversation',\n",
       "       'Last Notable Activity_Unreachable', 'TotalVisits',\n",
       "       'Total Time Spent on Website'],\n",
       "      dtype='object')"
      ]
     },
     "execution_count": 193,
     "metadata": {},
     "output_type": "execute_result"
    }
   ],
   "source": [
    "X_test_sm.columns"
   ]
  },
  {
   "cell_type": "code",
   "execution_count": 194,
   "id": "8a838398-e154-4158-b3b5-714793d2849b",
   "metadata": {},
   "outputs": [],
   "source": [
    "\n",
    "X_test.drop(['Lead Source_Reference', 'What is your current occupation_Housewife', \n",
    "             'What is your current occupation_Working Professional', \n",
    "                     'Last Notable Activity_Had a Phone Conversation'], axis =1 , inplace = True)"
   ]
  },
  {
   "cell_type": "code",
   "execution_count": 195,
   "id": "5f64df6f-a466-4649-90d0-2d804ceab0d9",
   "metadata": {},
   "outputs": [],
   "source": [
    "y_test_pred = res.predict(sm.add_constant(X_test))"
   ]
  },
  {
   "cell_type": "code",
   "execution_count": 196,
   "id": "86f08fc2-5db2-427b-9074-31b99d59e820",
   "metadata": {},
   "outputs": [
    {
     "data": {
      "text/plain": [
       "4771    0.996296\n",
       "6122    0.239351\n",
       "9202    0.786950\n",
       "6570    0.373668\n",
       "2668    0.859736\n",
       "dtype: float64"
      ]
     },
     "execution_count": 196,
     "metadata": {},
     "output_type": "execute_result"
    }
   ],
   "source": [
    "y_test_pred.head()"
   ]
  },
  {
   "cell_type": "code",
   "execution_count": 197,
   "id": "0f87d740-0a05-4cc6-8eda-0034c494c98a",
   "metadata": {},
   "outputs": [],
   "source": [
    "y_pred_1 = pd.DataFrame(y_test_pred)"
   ]
  },
  {
   "cell_type": "code",
   "execution_count": 198,
   "id": "d2babb53-4ac1-4242-948c-6d40cfc03c63",
   "metadata": {},
   "outputs": [
    {
     "data": {
      "text/html": [
       "<div>\n",
       "<style scoped>\n",
       "    .dataframe tbody tr th:only-of-type {\n",
       "        vertical-align: middle;\n",
       "    }\n",
       "\n",
       "    .dataframe tbody tr th {\n",
       "        vertical-align: top;\n",
       "    }\n",
       "\n",
       "    .dataframe thead th {\n",
       "        text-align: right;\n",
       "    }\n",
       "</style>\n",
       "<table border=\"1\" class=\"dataframe\">\n",
       "  <thead>\n",
       "    <tr style=\"text-align: right;\">\n",
       "      <th></th>\n",
       "      <th>0</th>\n",
       "    </tr>\n",
       "  </thead>\n",
       "  <tbody>\n",
       "    <tr>\n",
       "      <th>4771</th>\n",
       "      <td>0.996296</td>\n",
       "    </tr>\n",
       "    <tr>\n",
       "      <th>6122</th>\n",
       "      <td>0.239351</td>\n",
       "    </tr>\n",
       "    <tr>\n",
       "      <th>9202</th>\n",
       "      <td>0.786950</td>\n",
       "    </tr>\n",
       "    <tr>\n",
       "      <th>6570</th>\n",
       "      <td>0.373668</td>\n",
       "    </tr>\n",
       "    <tr>\n",
       "      <th>2668</th>\n",
       "      <td>0.859736</td>\n",
       "    </tr>\n",
       "  </tbody>\n",
       "</table>\n",
       "</div>"
      ],
      "text/plain": [
       "             0\n",
       "4771  0.996296\n",
       "6122  0.239351\n",
       "9202  0.786950\n",
       "6570  0.373668\n",
       "2668  0.859736"
      ]
     },
     "execution_count": 198,
     "metadata": {},
     "output_type": "execute_result"
    }
   ],
   "source": [
    "y_pred_1.head()"
   ]
  },
  {
   "cell_type": "code",
   "execution_count": 199,
   "id": "bf1d5bb2-e037-4a0f-a76d-443175f13080",
   "metadata": {},
   "outputs": [],
   "source": [
    "y_test_df = pd.DataFrame(y_test)"
   ]
  },
  {
   "cell_type": "code",
   "execution_count": 200,
   "id": "9ac7e0ac-23fa-49d9-a451-143392e75af3",
   "metadata": {},
   "outputs": [
    {
     "data": {
      "text/html": [
       "<div>\n",
       "<style scoped>\n",
       "    .dataframe tbody tr th:only-of-type {\n",
       "        vertical-align: middle;\n",
       "    }\n",
       "\n",
       "    .dataframe tbody tr th {\n",
       "        vertical-align: top;\n",
       "    }\n",
       "\n",
       "    .dataframe thead th {\n",
       "        text-align: right;\n",
       "    }\n",
       "</style>\n",
       "<table border=\"1\" class=\"dataframe\">\n",
       "  <thead>\n",
       "    <tr style=\"text-align: right;\">\n",
       "      <th></th>\n",
       "      <th>Converted</th>\n",
       "    </tr>\n",
       "  </thead>\n",
       "  <tbody>\n",
       "    <tr>\n",
       "      <th>4771</th>\n",
       "      <td>1</td>\n",
       "    </tr>\n",
       "    <tr>\n",
       "      <th>6122</th>\n",
       "      <td>0</td>\n",
       "    </tr>\n",
       "    <tr>\n",
       "      <th>9202</th>\n",
       "      <td>0</td>\n",
       "    </tr>\n",
       "    <tr>\n",
       "      <th>6570</th>\n",
       "      <td>1</td>\n",
       "    </tr>\n",
       "    <tr>\n",
       "      <th>2668</th>\n",
       "      <td>1</td>\n",
       "    </tr>\n",
       "  </tbody>\n",
       "</table>\n",
       "</div>"
      ],
      "text/plain": [
       "     Converted\n",
       "4771         1\n",
       "6122         0\n",
       "9202         0\n",
       "6570         1\n",
       "2668         1"
      ]
     },
     "execution_count": 200,
     "metadata": {},
     "output_type": "execute_result"
    }
   ],
   "source": [
    "y_test_df.head()"
   ]
  },
  {
   "cell_type": "code",
   "execution_count": 201,
   "id": "9fccd784-10bd-439e-976f-f0cc260d673d",
   "metadata": {},
   "outputs": [],
   "source": [
    "# Remove index for both dataframes to append them side by side \n",
    "\n",
    "y_pred_1.reset_index(drop=True, inplace=True)\n",
    "y_test_df.reset_index(drop=True, inplace=True)"
   ]
  },
  {
   "cell_type": "code",
   "execution_count": 202,
   "id": "bfff7bb1-d955-462e-9df0-2caf32257185",
   "metadata": {},
   "outputs": [],
   "source": [
    "y_pred_final = pd.concat([y_test_df, y_pred_1],axis=1)"
   ]
  },
  {
   "cell_type": "code",
   "execution_count": 203,
   "id": "64151692-0ab8-4895-a199-d8ee1619be36",
   "metadata": {},
   "outputs": [
    {
     "data": {
      "text/html": [
       "<div>\n",
       "<style scoped>\n",
       "    .dataframe tbody tr th:only-of-type {\n",
       "        vertical-align: middle;\n",
       "    }\n",
       "\n",
       "    .dataframe tbody tr th {\n",
       "        vertical-align: top;\n",
       "    }\n",
       "\n",
       "    .dataframe thead th {\n",
       "        text-align: right;\n",
       "    }\n",
       "</style>\n",
       "<table border=\"1\" class=\"dataframe\">\n",
       "  <thead>\n",
       "    <tr style=\"text-align: right;\">\n",
       "      <th></th>\n",
       "      <th>Converted</th>\n",
       "      <th>0</th>\n",
       "    </tr>\n",
       "  </thead>\n",
       "  <tbody>\n",
       "    <tr>\n",
       "      <th>0</th>\n",
       "      <td>1</td>\n",
       "      <td>0.996296</td>\n",
       "    </tr>\n",
       "    <tr>\n",
       "      <th>1</th>\n",
       "      <td>0</td>\n",
       "      <td>0.239351</td>\n",
       "    </tr>\n",
       "    <tr>\n",
       "      <th>2</th>\n",
       "      <td>0</td>\n",
       "      <td>0.786950</td>\n",
       "    </tr>\n",
       "    <tr>\n",
       "      <th>3</th>\n",
       "      <td>1</td>\n",
       "      <td>0.373668</td>\n",
       "    </tr>\n",
       "    <tr>\n",
       "      <th>4</th>\n",
       "      <td>1</td>\n",
       "      <td>0.859736</td>\n",
       "    </tr>\n",
       "  </tbody>\n",
       "</table>\n",
       "</div>"
      ],
      "text/plain": [
       "  Converted         0\n",
       "0         1  0.996296\n",
       "1         0  0.239351\n",
       "2         0  0.786950\n",
       "3         1  0.373668\n",
       "4         1  0.859736"
      ]
     },
     "execution_count": 203,
     "metadata": {},
     "output_type": "execute_result"
    }
   ],
   "source": [
    "y_pred_final.head()"
   ]
  },
  {
   "cell_type": "code",
   "execution_count": 204,
   "id": "8927dae6-980d-493f-b238-c5a38d58186e",
   "metadata": {},
   "outputs": [],
   "source": [
    "## rename the column to proper name \n",
    "y_pred_final= y_pred_final.rename(columns = {0 : 'Conversion_Probability'})"
   ]
  },
  {
   "cell_type": "code",
   "execution_count": 205,
   "id": "96fcd228-34f0-42d1-910d-9c37c05cfb21",
   "metadata": {},
   "outputs": [
    {
     "data": {
      "text/html": [
       "<div>\n",
       "<style scoped>\n",
       "    .dataframe tbody tr th:only-of-type {\n",
       "        vertical-align: middle;\n",
       "    }\n",
       "\n",
       "    .dataframe tbody tr th {\n",
       "        vertical-align: top;\n",
       "    }\n",
       "\n",
       "    .dataframe thead th {\n",
       "        text-align: right;\n",
       "    }\n",
       "</style>\n",
       "<table border=\"1\" class=\"dataframe\">\n",
       "  <thead>\n",
       "    <tr style=\"text-align: right;\">\n",
       "      <th></th>\n",
       "      <th>Converted</th>\n",
       "      <th>Conversion_Probability</th>\n",
       "    </tr>\n",
       "  </thead>\n",
       "  <tbody>\n",
       "    <tr>\n",
       "      <th>0</th>\n",
       "      <td>1</td>\n",
       "      <td>0.996296</td>\n",
       "    </tr>\n",
       "    <tr>\n",
       "      <th>1</th>\n",
       "      <td>0</td>\n",
       "      <td>0.239351</td>\n",
       "    </tr>\n",
       "    <tr>\n",
       "      <th>2</th>\n",
       "      <td>0</td>\n",
       "      <td>0.786950</td>\n",
       "    </tr>\n",
       "    <tr>\n",
       "      <th>3</th>\n",
       "      <td>1</td>\n",
       "      <td>0.373668</td>\n",
       "    </tr>\n",
       "    <tr>\n",
       "      <th>4</th>\n",
       "      <td>1</td>\n",
       "      <td>0.859736</td>\n",
       "    </tr>\n",
       "  </tbody>\n",
       "</table>\n",
       "</div>"
      ],
      "text/plain": [
       "  Converted  Conversion_Probability\n",
       "0         1                0.996296\n",
       "1         0                0.239351\n",
       "2         0                0.786950\n",
       "3         1                0.373668\n",
       "4         1                0.859736"
      ]
     },
     "execution_count": 205,
     "metadata": {},
     "output_type": "execute_result"
    }
   ],
   "source": [
    "y_pred_final.head()"
   ]
  },
  {
   "cell_type": "code",
   "execution_count": 206,
   "id": "2a54823e-97f7-41fd-9863-41697a725452",
   "metadata": {},
   "outputs": [],
   "source": [
    "y_pred_final['final_predicted'] = y_pred_final.Conversion_Probability.map(lambda x: 1 if x > 0.5 else 0)"
   ]
  },
  {
   "cell_type": "code",
   "execution_count": 207,
   "id": "e50889b9-fbe9-42f9-bcc8-d63e573dadba",
   "metadata": {},
   "outputs": [
    {
     "data": {
      "text/html": [
       "<div>\n",
       "<style scoped>\n",
       "    .dataframe tbody tr th:only-of-type {\n",
       "        vertical-align: middle;\n",
       "    }\n",
       "\n",
       "    .dataframe tbody tr th {\n",
       "        vertical-align: top;\n",
       "    }\n",
       "\n",
       "    .dataframe thead th {\n",
       "        text-align: right;\n",
       "    }\n",
       "</style>\n",
       "<table border=\"1\" class=\"dataframe\">\n",
       "  <thead>\n",
       "    <tr style=\"text-align: right;\">\n",
       "      <th></th>\n",
       "      <th>Converted</th>\n",
       "      <th>Conversion_Probability</th>\n",
       "      <th>final_predicted</th>\n",
       "    </tr>\n",
       "  </thead>\n",
       "  <tbody>\n",
       "    <tr>\n",
       "      <th>0</th>\n",
       "      <td>1</td>\n",
       "      <td>0.996296</td>\n",
       "      <td>1</td>\n",
       "    </tr>\n",
       "    <tr>\n",
       "      <th>1</th>\n",
       "      <td>0</td>\n",
       "      <td>0.239351</td>\n",
       "      <td>0</td>\n",
       "    </tr>\n",
       "    <tr>\n",
       "      <th>2</th>\n",
       "      <td>0</td>\n",
       "      <td>0.786950</td>\n",
       "      <td>1</td>\n",
       "    </tr>\n",
       "    <tr>\n",
       "      <th>3</th>\n",
       "      <td>1</td>\n",
       "      <td>0.373668</td>\n",
       "      <td>0</td>\n",
       "    </tr>\n",
       "    <tr>\n",
       "      <th>4</th>\n",
       "      <td>1</td>\n",
       "      <td>0.859736</td>\n",
       "      <td>1</td>\n",
       "    </tr>\n",
       "  </tbody>\n",
       "</table>\n",
       "</div>"
      ],
      "text/plain": [
       "  Converted  Conversion_Probability  final_predicted\n",
       "0         1                0.996296                1\n",
       "1         0                0.239351                0\n",
       "2         0                0.786950                1\n",
       "3         1                0.373668                0\n",
       "4         1                0.859736                1"
      ]
     },
     "execution_count": 207,
     "metadata": {},
     "output_type": "execute_result"
    }
   ],
   "source": [
    "y_pred_final.head()"
   ]
  },
  {
   "cell_type": "code",
   "execution_count": 208,
   "id": "3e470356-ac83-4a52-bb01-e81369d446fd",
   "metadata": {},
   "outputs": [
    {
     "name": "stdout",
     "output_type": "stream",
     "text": [
      "<class 'pandas.core.frame.DataFrame'>\n",
      "RangeIndex: 1912 entries, 0 to 1911\n",
      "Data columns (total 3 columns):\n",
      " #   Column                  Non-Null Count  Dtype  \n",
      "---  ------                  --------------  -----  \n",
      " 0   Converted               1912 non-null   object \n",
      " 1   Conversion_Probability  1912 non-null   float64\n",
      " 2   final_predicted         1912 non-null   int64  \n",
      "dtypes: float64(1), int64(1), object(1)\n",
      "memory usage: 44.9+ KB\n"
     ]
    }
   ],
   "source": [
    "y_pred_final.info()"
   ]
  },
  {
   "cell_type": "code",
   "execution_count": 209,
   "id": "78c06312-28bd-4972-85fe-2fe6cd3dbdb9",
   "metadata": {},
   "outputs": [],
   "source": [
    "y_pred_final['final_predicted']=y_pred_final['final_predicted'].astype(str)"
   ]
  },
  {
   "cell_type": "code",
   "execution_count": 210,
   "id": "0c2e42f4-fb7b-41cc-b023-b726a6e107cc",
   "metadata": {},
   "outputs": [
    {
     "data": {
      "text/plain": [
       "0.770397489539749"
      ]
     },
     "execution_count": 210,
     "metadata": {},
     "output_type": "execute_result"
    }
   ],
   "source": [
    "## accuracy \n",
    "\n",
    "metrics.accuracy_score(y_pred_final['Converted'], y_pred_final.final_predicted)"
   ]
  },
  {
   "cell_type": "code",
   "execution_count": 211,
   "id": "09bb5f8e-881f-4058-b0f6-93e690c3591a",
   "metadata": {},
   "outputs": [
    {
     "name": "stdout",
     "output_type": "stream",
     "text": [
      "[[741 255]\n",
      " [184 732]]\n"
     ]
    }
   ],
   "source": [
    "# Confusion matrix \n",
    "cf_test = metrics.confusion_matrix(y_pred_final.Converted, y_pred_final.final_predicted )\n",
    "print(cf_test)"
   ]
  },
  {
   "cell_type": "code",
   "execution_count": 212,
   "id": "5f27eb35-4e09-45b3-b68f-92db2a39e268",
   "metadata": {},
   "outputs": [],
   "source": [
    "## # Let's evaluate the other metrics as well\n",
    "\n",
    "TP = cf_test[1,1] # true positive \n",
    "TN = cf_test[0,0] # true negatives\n",
    "FP = cf_test[0,1] # false positives\n",
    "FN = cf_test[1,0] # false negatives"
   ]
  },
  {
   "cell_type": "code",
   "execution_count": 213,
   "id": "a8d246b6-84bb-4cea-b2e1-efb9313e25f2",
   "metadata": {},
   "outputs": [
    {
     "data": {
      "text/plain": [
       "0.7991266375545851"
      ]
     },
     "execution_count": 213,
     "metadata": {},
     "output_type": "execute_result"
    }
   ],
   "source": [
    "sensitivity_test= TP/(TP+FN)\n",
    "sensitivity_test"
   ]
  },
  {
   "cell_type": "code",
   "execution_count": 214,
   "id": "ab5acbcb-ac5c-4a3c-af49-cf44b44754a6",
   "metadata": {},
   "outputs": [
    {
     "data": {
      "text/plain": [
       "0.7439759036144579"
      ]
     },
     "execution_count": 214,
     "metadata": {},
     "output_type": "execute_result"
    }
   ],
   "source": [
    "specificity_test = TN/(TN+FP)\n",
    "specificity_test"
   ]
  },
  {
   "cell_type": "code",
   "execution_count": 215,
   "id": "3d9a1ff7-33db-41bb-b67b-3cfdf5f89d69",
   "metadata": {},
   "outputs": [
    {
     "data": {
      "text/plain": [
       "0.7416413373860182"
      ]
     },
     "execution_count": 215,
     "metadata": {},
     "output_type": "execute_result"
    }
   ],
   "source": [
    "## precision and recall \n",
    "precision =  TP/(TP+FP)\n",
    "precision"
   ]
  },
  {
   "cell_type": "code",
   "execution_count": 217,
   "id": "47850f34-f4ac-45ee-aaa4-0ac8884fbd24",
   "metadata": {},
   "outputs": [
    {
     "data": {
      "text/plain": [
       "0.7991266375545851"
      ]
     },
     "execution_count": 217,
     "metadata": {},
     "output_type": "execute_result"
    }
   ],
   "source": [
    "## recal \n",
    "recall = TP/(TP+FN)\n",
    "recall "
   ]
  },
  {
   "cell_type": "markdown",
   "id": "ae0723b3-7107-4a64-8cfd-ec15f8c5b86a",
   "metadata": {},
   "source": [
    " ### Test set metrics \n",
    "#### accuracy = 77%\n",
    "#### precision = 74%\n",
    "#### recall = 80%"
   ]
  },
  {
   "cell_type": "code",
   "execution_count": null,
   "id": "32858da0-d391-4297-8cc0-197aeb70ebfa",
   "metadata": {},
   "outputs": [],
   "source": []
  }
 ],
 "metadata": {
  "kernelspec": {
   "display_name": "Python 3 (ipykernel)",
   "language": "python",
   "name": "python3"
  },
  "language_info": {
   "codemirror_mode": {
    "name": "ipython",
    "version": 3
   },
   "file_extension": ".py",
   "mimetype": "text/x-python",
   "name": "python",
   "nbconvert_exporter": "python",
   "pygments_lexer": "ipython3",
   "version": "3.11.7"
  }
 },
 "nbformat": 4,
 "nbformat_minor": 5
}
